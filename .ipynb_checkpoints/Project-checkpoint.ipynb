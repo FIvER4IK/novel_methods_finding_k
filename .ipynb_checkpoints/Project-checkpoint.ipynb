{
 "cells": [
  {
   "cell_type": "code",
   "execution_count": 1,
   "metadata": {},
   "outputs": [],
   "source": [
    "#!pip install -r requirements.txt"
   ]
  },
  {
   "cell_type": "code",
   "execution_count": 115,
   "metadata": {
    "id": "Nul0o4EqC1c_"
   },
   "outputs": [],
   "source": [
    "import pandas as pd\n",
    "import numpy as np\n",
    "from sklearn.preprocessing import StandardScaler\n",
    "from sklearn.cluster import KMeans\n",
    "from scipy.spatial.distance import cdist\n",
    "import matplotlib.pyplot as plt\n",
    "import scipy.cluster.hierarchy as shc\n",
    "from sklearn.cluster import AgglomerativeClustering\n",
    "from math import sqrt\n",
    "import warnings\n",
    "\n",
    "from scipy.stats import norm\n",
    "from sklearn.decomposition import PCA\n",
    "\n",
    "from sklearn.cluster import KMeans\n",
    "from sklearn.metrics import davies_bouldin_score\n",
    "\n",
    "from sklearn.metrics import silhouette_score"
   ]
  },
  {
   "cell_type": "code",
   "execution_count": 3,
   "metadata": {},
   "outputs": [],
   "source": [
    "# Ignore runtime warning\n",
    "warnings.filterwarnings(\"ignore\", category=RuntimeWarning)"
   ]
  },
  {
   "cell_type": "markdown",
   "metadata": {},
   "source": [
    "# Wine data"
   ]
  },
  {
   "cell_type": "code",
   "execution_count": 4,
   "metadata": {},
   "outputs": [],
   "source": [
    "df_wine = pd.read_csv('data/wine.data', on_bad_lines='skip', sep=',')"
   ]
  },
  {
   "cell_type": "code",
   "execution_count": 5,
   "metadata": {},
   "outputs": [],
   "source": [
    "headers_wine = ['title', 'Alcohol', 'Malic acid', 'Ash', 'Alcalinity of ash', 'Magnesium', 'Total phenols',\n",
    "           'Flavanoids', 'Nonflavanoid phenols', 'Proanthocyanins', 'Color intensity', 'Hue',\n",
    "           'OD280', 'Proline']\n",
    "df_wine.columns = headers_wine"
   ]
  },
  {
   "cell_type": "code",
   "execution_count": 6,
   "metadata": {},
   "outputs": [],
   "source": [
    "selected_columns_wine = ['Alcohol', 'Malic acid', 'Ash', 'Alcalinity of ash', 'Magnesium', 'Total phenols',\n",
    "           'Flavanoids', 'Nonflavanoid phenols', 'Proanthocyanins', 'Color intensity', 'Hue',\n",
    "           'OD280', 'Proline']"
   ]
  },
  {
   "cell_type": "markdown",
   "metadata": {},
   "source": [
    "# Iris data"
   ]
  },
  {
   "cell_type": "code",
   "execution_count": 7,
   "metadata": {},
   "outputs": [],
   "source": [
    "df_iris = pd.read_csv('data/iris.data', on_bad_lines='skip', sep=',')"
   ]
  },
  {
   "cell_type": "code",
   "execution_count": 8,
   "metadata": {},
   "outputs": [],
   "source": [
    "headers_iris = ['sep_len', 'sep_wid', 'pet_len', 'pet_len', 'class']\n",
    "df_iris.columns = headers_iris"
   ]
  },
  {
   "cell_type": "code",
   "execution_count": 9,
   "metadata": {},
   "outputs": [],
   "source": [
    "selected_columns_iris = ['sep_len', 'sep_wid', 'pet_len', 'pet_len']"
   ]
  },
  {
   "cell_type": "code",
   "execution_count": 10,
   "metadata": {},
   "outputs": [],
   "source": [
    "df_iris = df_iris.replace(\"Iris-setosa\", 1)\n",
    "df_iris = df_iris.replace(\"Iris-versicolour\", 2)\n",
    "df_iris = df_iris.replace(\"Iris-virginica\", 3)"
   ]
  },
  {
   "cell_type": "markdown",
   "metadata": {},
   "source": [
    "# Landsat data"
   ]
  },
  {
   "cell_type": "code",
   "execution_count": 11,
   "metadata": {},
   "outputs": [],
   "source": [
    "df_landsat = pd.read_csv('data/landsat.tst', on_bad_lines='skip', sep=' ')"
   ]
  },
  {
   "cell_type": "code",
   "execution_count": 12,
   "metadata": {},
   "outputs": [],
   "source": [
    "headers_landsat = [i for i in range(37)]\n",
    "df_landsat.columns = headers_landsat"
   ]
  },
  {
   "cell_type": "code",
   "execution_count": 13,
   "metadata": {},
   "outputs": [],
   "source": [
    "selected_columns_landsat = headers_landsat[:36]"
   ]
  },
  {
   "cell_type": "markdown",
   "metadata": {},
   "source": [
    "# Magic data"
   ]
  },
  {
   "cell_type": "code",
   "execution_count": 14,
   "metadata": {},
   "outputs": [],
   "source": [
    "df_magic = pd.read_csv('data/magic.data', on_bad_lines='skip', sep=',')"
   ]
  },
  {
   "cell_type": "code",
   "execution_count": 15,
   "metadata": {},
   "outputs": [],
   "source": [
    "headers_magic = ['fLength', 'fWidth', 'fSize', 'fConc', 'fConc1', 'fAsym',\n",
    "                 'fM3Long', 'fM3Trans', 'fAlpha', 'fDist', 'class']\n",
    "df_magic.columns = headers_magic"
   ]
  },
  {
   "cell_type": "code",
   "execution_count": 16,
   "metadata": {},
   "outputs": [],
   "source": [
    "selected_columns_magic = ['fLength', 'fWidth', 'fSize', 'fConc', 'fConc1', 'fAsym',\n",
    "                 'fM3Long', 'fM3Trans', 'fAlpha', 'fDist']"
   ]
  },
  {
   "cell_type": "markdown",
   "metadata": {},
   "source": [
    "# Glass data"
   ]
  },
  {
   "cell_type": "code",
   "execution_count": 17,
   "metadata": {},
   "outputs": [],
   "source": [
    "df_glass = pd.read_csv('data/glass.data', on_bad_lines='skip', sep=',')"
   ]
  },
  {
   "cell_type": "code",
   "execution_count": 18,
   "metadata": {},
   "outputs": [],
   "source": [
    "headers_glass = ['id', 'RI', 'Na', 'Mg', 'Al', 'Si', 'K', 'Ca', 'Ba', 'Fe', 'class']\n",
    "df_glass.columns = headers_glass"
   ]
  },
  {
   "cell_type": "code",
   "execution_count": 19,
   "metadata": {},
   "outputs": [],
   "source": [
    "selected_columns_glass = ['RI', 'Na', 'Mg', 'Al', 'Si', 'K', 'Ca', 'Ba', 'Fe']"
   ]
  },
  {
   "cell_type": "markdown",
   "metadata": {},
   "source": [
    "# Standart scaler"
   ]
  },
  {
   "cell_type": "code",
   "execution_count": 20,
   "metadata": {},
   "outputs": [],
   "source": [
    "X_wine = df_wine[selected_columns_wine]\n",
    "X_iris = df_iris[selected_columns_iris]\n",
    "X_landsat = df_landsat[selected_columns_landsat]\n",
    "X_magic = df_magic[selected_columns_magic]\n",
    "X_glass = df_glass[selected_columns_glass]"
   ]
  },
  {
   "cell_type": "code",
   "execution_count": 21,
   "metadata": {},
   "outputs": [],
   "source": [
    "scaler = StandardScaler()"
   ]
  },
  {
   "cell_type": "code",
   "execution_count": 22,
   "metadata": {},
   "outputs": [],
   "source": [
    "X_wine = scaler.fit_transform(X_wine)\n",
    "X_iris = scaler.fit_transform(X_iris)\n",
    "X_landsat = scaler.fit_transform(X_landsat)\n",
    "X_magic = scaler.fit_transform(X_magic)\n",
    "X_glass = scaler.fit_transform(X_glass)"
   ]
  },
  {
   "cell_type": "markdown",
   "metadata": {
    "id": "sqVxyS5yC5i2"
   },
   "source": [
    "# **HSE \"Sequence-based analysis of iterative anomalous clusters\"**"
   ]
  },
  {
   "cell_type": "code",
   "execution_count": 23,
   "metadata": {
    "id": "8DSuevPlCiuH"
   },
   "outputs": [],
   "source": [
    "def dist(p1, p2):\n",
    "    return sum((p1[i] - p2[i])**2 for i in range(len(p1)))\n",
    "\n",
    "def farthest_point(df):\n",
    "    origin = [0] * (df.shape[1])\n",
    "    dists = []\n",
    "    for i in range(df.shape[0]):\n",
    "        dists.append([list(df.iloc[i]), dist(list(df.iloc[i]), origin)])\n",
    "    dists.sort(key=lambda x: x[1], reverse=True)\n",
    "    return dists[0][0]\n",
    "\n",
    "def anom_clust(df, origin):\n",
    "    if origin == '0':\n",
    "        origin = [0] * (df.shape[1])\n",
    "    else:\n",
    "        origin = list(df.mean())\n",
    "    c = farthest_point(df)\n",
    "    cluster = pd.Series(index=range(df.shape[0]))\n",
    "    while True:\n",
    "        for i in range(len(df)):\n",
    "            currpoint = list(df.iloc[i])\n",
    "            if dist(currpoint, c) < dist(currpoint, origin):\n",
    "                cluster[i] = 1\n",
    "        cnew = []\n",
    "        for i in df.columns:\n",
    "            cnew.append(df.loc[(cluster == 1).values][i].mean())\n",
    "        if c == cnew:\n",
    "            break\n",
    "        c = cnew\n",
    "        cluster = pd.Series(index=range(df.shape[0]))\n",
    "    return cluster, c\n",
    "\n",
    "def BatchK_Means(df, centers):\n",
    "    clusters = pd.Series(index=range(df.shape[0]))\n",
    "    while True:\n",
    "        for i in range(len(df)):\n",
    "            currentity = list(df.iloc[i])\n",
    "            dists = []\n",
    "            for j in range(len(centers)):  \n",
    "                dists.append([j, dist(currentity, centers[j])])\n",
    "            dists.sort(key=lambda x: x[1])\n",
    "            clusters[i] = dists[0][0]\n",
    "        cnew = [0] * len(centers)\n",
    "        for i in range(len(cnew)):\n",
    "            newcenter = []\n",
    "            for j in df.columns:\n",
    "                newcenter.append(df.loc[(clusters == i).values][j].mean())\n",
    "            cnew[i] = newcenter\n",
    "        if centers == cnew:\n",
    "            break\n",
    "        centers = cnew\n",
    "        clusters = pd.Series(index=range(df.shape[0]))\n",
    "    return clusters, centers\n",
    "    \n",
    "\n",
    "def IK_Means(df, origin):\n",
    "    I = df\n",
    "    t = 1\n",
    "    k = 1\n",
    "    anom_clusters = []\n",
    "    centers = []\n",
    "    while not I.empty:\n",
    "        S, c = anom_clust(I, origin)\n",
    "        I = pd.concat([I, I.iloc[(S == 1).values]]).drop_duplicates(keep=False)\n",
    "        k += 1\n",
    "#         print(sum(S), c)\n",
    "        if S.sum() > t:\n",
    "            anom_clusters.append([S, c])\n",
    "    anom_clusters.sort(key=lambda x: x[0].sum(), reverse=True)\n",
    "    centers = [anom_clusters[0][1]]\n",
    "    for i in range(1, len(anom_clusters)):\n",
    "        if anom_clusters[i][0].sum() > anom_clusters[i - 1][0].sum() * 0.6:\n",
    "            centers.append(anom_clusters[i][1])\n",
    "    return BatchK_Means(df, centers)\n",
    "\n",
    "def anom_res(X, name):\n",
    "    anomwine, anomwinecent = IK_Means(X, \"0\")\n",
    "    return f\"Optimal number of clusters for {name} is: {len(pd.unique(anomwine))}\""
   ]
  },
  {
   "cell_type": "code",
   "execution_count": 24,
   "metadata": {
    "id": "2xnMo8LVCOPl"
   },
   "outputs": [
    {
     "name": "stderr",
     "output_type": "stream",
     "text": [
      "/var/folders/2s/3p893_4d5lx_7jjv9b9x4v9h0000gn/T/ipykernel_12052/3277860180.py:18: FutureWarning: The default dtype for empty Series will be 'object' instead of 'float64' in a future version. Specify a dtype explicitly to silence this warning.\n",
      "  cluster = pd.Series(index=range(df.shape[0]))\n",
      "/var/folders/2s/3p893_4d5lx_7jjv9b9x4v9h0000gn/T/ipykernel_12052/3277860180.py:30: FutureWarning: The default dtype for empty Series will be 'object' instead of 'float64' in a future version. Specify a dtype explicitly to silence this warning.\n",
      "  cluster = pd.Series(index=range(df.shape[0]))\n",
      "/var/folders/2s/3p893_4d5lx_7jjv9b9x4v9h0000gn/T/ipykernel_12052/3277860180.py:18: FutureWarning: The default dtype for empty Series will be 'object' instead of 'float64' in a future version. Specify a dtype explicitly to silence this warning.\n",
      "  cluster = pd.Series(index=range(df.shape[0]))\n",
      "/var/folders/2s/3p893_4d5lx_7jjv9b9x4v9h0000gn/T/ipykernel_12052/3277860180.py:18: FutureWarning: The default dtype for empty Series will be 'object' instead of 'float64' in a future version. Specify a dtype explicitly to silence this warning.\n",
      "  cluster = pd.Series(index=range(df.shape[0]))\n",
      "/var/folders/2s/3p893_4d5lx_7jjv9b9x4v9h0000gn/T/ipykernel_12052/3277860180.py:30: FutureWarning: The default dtype for empty Series will be 'object' instead of 'float64' in a future version. Specify a dtype explicitly to silence this warning.\n",
      "  cluster = pd.Series(index=range(df.shape[0]))\n",
      "/var/folders/2s/3p893_4d5lx_7jjv9b9x4v9h0000gn/T/ipykernel_12052/3277860180.py:30: FutureWarning: The default dtype for empty Series will be 'object' instead of 'float64' in a future version. Specify a dtype explicitly to silence this warning.\n",
      "  cluster = pd.Series(index=range(df.shape[0]))\n",
      "/var/folders/2s/3p893_4d5lx_7jjv9b9x4v9h0000gn/T/ipykernel_12052/3277860180.py:18: FutureWarning: The default dtype for empty Series will be 'object' instead of 'float64' in a future version. Specify a dtype explicitly to silence this warning.\n",
      "  cluster = pd.Series(index=range(df.shape[0]))\n",
      "/var/folders/2s/3p893_4d5lx_7jjv9b9x4v9h0000gn/T/ipykernel_12052/3277860180.py:30: FutureWarning: The default dtype for empty Series will be 'object' instead of 'float64' in a future version. Specify a dtype explicitly to silence this warning.\n",
      "  cluster = pd.Series(index=range(df.shape[0]))\n",
      "/var/folders/2s/3p893_4d5lx_7jjv9b9x4v9h0000gn/T/ipykernel_12052/3277860180.py:30: FutureWarning: The default dtype for empty Series will be 'object' instead of 'float64' in a future version. Specify a dtype explicitly to silence this warning.\n",
      "  cluster = pd.Series(index=range(df.shape[0]))\n",
      "/var/folders/2s/3p893_4d5lx_7jjv9b9x4v9h0000gn/T/ipykernel_12052/3277860180.py:30: FutureWarning: The default dtype for empty Series will be 'object' instead of 'float64' in a future version. Specify a dtype explicitly to silence this warning.\n",
      "  cluster = pd.Series(index=range(df.shape[0]))\n",
      "/var/folders/2s/3p893_4d5lx_7jjv9b9x4v9h0000gn/T/ipykernel_12052/3277860180.py:30: FutureWarning: The default dtype for empty Series will be 'object' instead of 'float64' in a future version. Specify a dtype explicitly to silence this warning.\n",
      "  cluster = pd.Series(index=range(df.shape[0]))\n",
      "/var/folders/2s/3p893_4d5lx_7jjv9b9x4v9h0000gn/T/ipykernel_12052/3277860180.py:18: FutureWarning: The default dtype for empty Series will be 'object' instead of 'float64' in a future version. Specify a dtype explicitly to silence this warning.\n",
      "  cluster = pd.Series(index=range(df.shape[0]))\n",
      "/var/folders/2s/3p893_4d5lx_7jjv9b9x4v9h0000gn/T/ipykernel_12052/3277860180.py:30: FutureWarning: The default dtype for empty Series will be 'object' instead of 'float64' in a future version. Specify a dtype explicitly to silence this warning.\n",
      "  cluster = pd.Series(index=range(df.shape[0]))\n",
      "/var/folders/2s/3p893_4d5lx_7jjv9b9x4v9h0000gn/T/ipykernel_12052/3277860180.py:30: FutureWarning: The default dtype for empty Series will be 'object' instead of 'float64' in a future version. Specify a dtype explicitly to silence this warning.\n",
      "  cluster = pd.Series(index=range(df.shape[0]))\n",
      "/var/folders/2s/3p893_4d5lx_7jjv9b9x4v9h0000gn/T/ipykernel_12052/3277860180.py:30: FutureWarning: The default dtype for empty Series will be 'object' instead of 'float64' in a future version. Specify a dtype explicitly to silence this warning.\n",
      "  cluster = pd.Series(index=range(df.shape[0]))\n",
      "/var/folders/2s/3p893_4d5lx_7jjv9b9x4v9h0000gn/T/ipykernel_12052/3277860180.py:30: FutureWarning: The default dtype for empty Series will be 'object' instead of 'float64' in a future version. Specify a dtype explicitly to silence this warning.\n",
      "  cluster = pd.Series(index=range(df.shape[0]))\n",
      "/var/folders/2s/3p893_4d5lx_7jjv9b9x4v9h0000gn/T/ipykernel_12052/3277860180.py:30: FutureWarning: The default dtype for empty Series will be 'object' instead of 'float64' in a future version. Specify a dtype explicitly to silence this warning.\n",
      "  cluster = pd.Series(index=range(df.shape[0]))\n",
      "/var/folders/2s/3p893_4d5lx_7jjv9b9x4v9h0000gn/T/ipykernel_12052/3277860180.py:30: FutureWarning: The default dtype for empty Series will be 'object' instead of 'float64' in a future version. Specify a dtype explicitly to silence this warning.\n",
      "  cluster = pd.Series(index=range(df.shape[0]))\n",
      "/var/folders/2s/3p893_4d5lx_7jjv9b9x4v9h0000gn/T/ipykernel_12052/3277860180.py:18: FutureWarning: The default dtype for empty Series will be 'object' instead of 'float64' in a future version. Specify a dtype explicitly to silence this warning.\n",
      "  cluster = pd.Series(index=range(df.shape[0]))\n",
      "/var/folders/2s/3p893_4d5lx_7jjv9b9x4v9h0000gn/T/ipykernel_12052/3277860180.py:30: FutureWarning: The default dtype for empty Series will be 'object' instead of 'float64' in a future version. Specify a dtype explicitly to silence this warning.\n",
      "  cluster = pd.Series(index=range(df.shape[0]))\n",
      "/var/folders/2s/3p893_4d5lx_7jjv9b9x4v9h0000gn/T/ipykernel_12052/3277860180.py:30: FutureWarning: The default dtype for empty Series will be 'object' instead of 'float64' in a future version. Specify a dtype explicitly to silence this warning.\n",
      "  cluster = pd.Series(index=range(df.shape[0]))\n",
      "/var/folders/2s/3p893_4d5lx_7jjv9b9x4v9h0000gn/T/ipykernel_12052/3277860180.py:30: FutureWarning: The default dtype for empty Series will be 'object' instead of 'float64' in a future version. Specify a dtype explicitly to silence this warning.\n",
      "  cluster = pd.Series(index=range(df.shape[0]))\n",
      "/var/folders/2s/3p893_4d5lx_7jjv9b9x4v9h0000gn/T/ipykernel_12052/3277860180.py:30: FutureWarning: The default dtype for empty Series will be 'object' instead of 'float64' in a future version. Specify a dtype explicitly to silence this warning.\n",
      "  cluster = pd.Series(index=range(df.shape[0]))\n",
      "/var/folders/2s/3p893_4d5lx_7jjv9b9x4v9h0000gn/T/ipykernel_12052/3277860180.py:18: FutureWarning: The default dtype for empty Series will be 'object' instead of 'float64' in a future version. Specify a dtype explicitly to silence this warning.\n",
      "  cluster = pd.Series(index=range(df.shape[0]))\n",
      "/var/folders/2s/3p893_4d5lx_7jjv9b9x4v9h0000gn/T/ipykernel_12052/3277860180.py:30: FutureWarning: The default dtype for empty Series will be 'object' instead of 'float64' in a future version. Specify a dtype explicitly to silence this warning.\n",
      "  cluster = pd.Series(index=range(df.shape[0]))\n",
      "/var/folders/2s/3p893_4d5lx_7jjv9b9x4v9h0000gn/T/ipykernel_12052/3277860180.py:30: FutureWarning: The default dtype for empty Series will be 'object' instead of 'float64' in a future version. Specify a dtype explicitly to silence this warning.\n",
      "  cluster = pd.Series(index=range(df.shape[0]))\n",
      "/var/folders/2s/3p893_4d5lx_7jjv9b9x4v9h0000gn/T/ipykernel_12052/3277860180.py:18: FutureWarning: The default dtype for empty Series will be 'object' instead of 'float64' in a future version. Specify a dtype explicitly to silence this warning.\n",
      "  cluster = pd.Series(index=range(df.shape[0]))\n",
      "/var/folders/2s/3p893_4d5lx_7jjv9b9x4v9h0000gn/T/ipykernel_12052/3277860180.py:18: FutureWarning: The default dtype for empty Series will be 'object' instead of 'float64' in a future version. Specify a dtype explicitly to silence this warning.\n",
      "  cluster = pd.Series(index=range(df.shape[0]))\n",
      "/var/folders/2s/3p893_4d5lx_7jjv9b9x4v9h0000gn/T/ipykernel_12052/3277860180.py:30: FutureWarning: The default dtype for empty Series will be 'object' instead of 'float64' in a future version. Specify a dtype explicitly to silence this warning.\n",
      "  cluster = pd.Series(index=range(df.shape[0]))\n",
      "/var/folders/2s/3p893_4d5lx_7jjv9b9x4v9h0000gn/T/ipykernel_12052/3277860180.py:30: FutureWarning: The default dtype for empty Series will be 'object' instead of 'float64' in a future version. Specify a dtype explicitly to silence this warning.\n",
      "  cluster = pd.Series(index=range(df.shape[0]))\n",
      "/var/folders/2s/3p893_4d5lx_7jjv9b9x4v9h0000gn/T/ipykernel_12052/3277860180.py:18: FutureWarning: The default dtype for empty Series will be 'object' instead of 'float64' in a future version. Specify a dtype explicitly to silence this warning.\n",
      "  cluster = pd.Series(index=range(df.shape[0]))\n",
      "/var/folders/2s/3p893_4d5lx_7jjv9b9x4v9h0000gn/T/ipykernel_12052/3277860180.py:18: FutureWarning: The default dtype for empty Series will be 'object' instead of 'float64' in a future version. Specify a dtype explicitly to silence this warning.\n",
      "  cluster = pd.Series(index=range(df.shape[0]))\n",
      "/var/folders/2s/3p893_4d5lx_7jjv9b9x4v9h0000gn/T/ipykernel_12052/3277860180.py:30: FutureWarning: The default dtype for empty Series will be 'object' instead of 'float64' in a future version. Specify a dtype explicitly to silence this warning.\n",
      "  cluster = pd.Series(index=range(df.shape[0]))\n",
      "/var/folders/2s/3p893_4d5lx_7jjv9b9x4v9h0000gn/T/ipykernel_12052/3277860180.py:30: FutureWarning: The default dtype for empty Series will be 'object' instead of 'float64' in a future version. Specify a dtype explicitly to silence this warning.\n",
      "  cluster = pd.Series(index=range(df.shape[0]))\n",
      "/var/folders/2s/3p893_4d5lx_7jjv9b9x4v9h0000gn/T/ipykernel_12052/3277860180.py:18: FutureWarning: The default dtype for empty Series will be 'object' instead of 'float64' in a future version. Specify a dtype explicitly to silence this warning.\n",
      "  cluster = pd.Series(index=range(df.shape[0]))\n",
      "/var/folders/2s/3p893_4d5lx_7jjv9b9x4v9h0000gn/T/ipykernel_12052/3277860180.py:18: FutureWarning: The default dtype for empty Series will be 'object' instead of 'float64' in a future version. Specify a dtype explicitly to silence this warning.\n",
      "  cluster = pd.Series(index=range(df.shape[0]))\n",
      "/var/folders/2s/3p893_4d5lx_7jjv9b9x4v9h0000gn/T/ipykernel_12052/3277860180.py:34: FutureWarning: The default dtype for empty Series will be 'object' instead of 'float64' in a future version. Specify a dtype explicitly to silence this warning.\n",
      "  clusters = pd.Series(index=range(df.shape[0]))\n",
      "/var/folders/2s/3p893_4d5lx_7jjv9b9x4v9h0000gn/T/ipykernel_12052/3277860180.py:52: FutureWarning: The default dtype for empty Series will be 'object' instead of 'float64' in a future version. Specify a dtype explicitly to silence this warning.\n",
      "  clusters = pd.Series(index=range(df.shape[0]))\n",
      "/var/folders/2s/3p893_4d5lx_7jjv9b9x4v9h0000gn/T/ipykernel_12052/3277860180.py:52: FutureWarning: The default dtype for empty Series will be 'object' instead of 'float64' in a future version. Specify a dtype explicitly to silence this warning.\n",
      "  clusters = pd.Series(index=range(df.shape[0]))\n",
      "/var/folders/2s/3p893_4d5lx_7jjv9b9x4v9h0000gn/T/ipykernel_12052/3277860180.py:52: FutureWarning: The default dtype for empty Series will be 'object' instead of 'float64' in a future version. Specify a dtype explicitly to silence this warning.\n",
      "  clusters = pd.Series(index=range(df.shape[0]))\n",
      "/var/folders/2s/3p893_4d5lx_7jjv9b9x4v9h0000gn/T/ipykernel_12052/3277860180.py:52: FutureWarning: The default dtype for empty Series will be 'object' instead of 'float64' in a future version. Specify a dtype explicitly to silence this warning.\n",
      "  clusters = pd.Series(index=range(df.shape[0]))\n",
      "/var/folders/2s/3p893_4d5lx_7jjv9b9x4v9h0000gn/T/ipykernel_12052/3277860180.py:52: FutureWarning: The default dtype for empty Series will be 'object' instead of 'float64' in a future version. Specify a dtype explicitly to silence this warning.\n",
      "  clusters = pd.Series(index=range(df.shape[0]))\n",
      "/var/folders/2s/3p893_4d5lx_7jjv9b9x4v9h0000gn/T/ipykernel_12052/3277860180.py:18: FutureWarning: The default dtype for empty Series will be 'object' instead of 'float64' in a future version. Specify a dtype explicitly to silence this warning.\n",
      "  cluster = pd.Series(index=range(df.shape[0]))\n",
      "/var/folders/2s/3p893_4d5lx_7jjv9b9x4v9h0000gn/T/ipykernel_12052/3277860180.py:30: FutureWarning: The default dtype for empty Series will be 'object' instead of 'float64' in a future version. Specify a dtype explicitly to silence this warning.\n",
      "  cluster = pd.Series(index=range(df.shape[0]))\n",
      "/var/folders/2s/3p893_4d5lx_7jjv9b9x4v9h0000gn/T/ipykernel_12052/3277860180.py:30: FutureWarning: The default dtype for empty Series will be 'object' instead of 'float64' in a future version. Specify a dtype explicitly to silence this warning.\n",
      "  cluster = pd.Series(index=range(df.shape[0]))\n",
      "/var/folders/2s/3p893_4d5lx_7jjv9b9x4v9h0000gn/T/ipykernel_12052/3277860180.py:30: FutureWarning: The default dtype for empty Series will be 'object' instead of 'float64' in a future version. Specify a dtype explicitly to silence this warning.\n",
      "  cluster = pd.Series(index=range(df.shape[0]))\n",
      "/var/folders/2s/3p893_4d5lx_7jjv9b9x4v9h0000gn/T/ipykernel_12052/3277860180.py:30: FutureWarning: The default dtype for empty Series will be 'object' instead of 'float64' in a future version. Specify a dtype explicitly to silence this warning.\n",
      "  cluster = pd.Series(index=range(df.shape[0]))\n",
      "/var/folders/2s/3p893_4d5lx_7jjv9b9x4v9h0000gn/T/ipykernel_12052/3277860180.py:30: FutureWarning: The default dtype for empty Series will be 'object' instead of 'float64' in a future version. Specify a dtype explicitly to silence this warning.\n",
      "  cluster = pd.Series(index=range(df.shape[0]))\n",
      "/var/folders/2s/3p893_4d5lx_7jjv9b9x4v9h0000gn/T/ipykernel_12052/3277860180.py:18: FutureWarning: The default dtype for empty Series will be 'object' instead of 'float64' in a future version. Specify a dtype explicitly to silence this warning.\n",
      "  cluster = pd.Series(index=range(df.shape[0]))\n",
      "/var/folders/2s/3p893_4d5lx_7jjv9b9x4v9h0000gn/T/ipykernel_12052/3277860180.py:30: FutureWarning: The default dtype for empty Series will be 'object' instead of 'float64' in a future version. Specify a dtype explicitly to silence this warning.\n",
      "  cluster = pd.Series(index=range(df.shape[0]))\n",
      "/var/folders/2s/3p893_4d5lx_7jjv9b9x4v9h0000gn/T/ipykernel_12052/3277860180.py:30: FutureWarning: The default dtype for empty Series will be 'object' instead of 'float64' in a future version. Specify a dtype explicitly to silence this warning.\n",
      "  cluster = pd.Series(index=range(df.shape[0]))\n",
      "/var/folders/2s/3p893_4d5lx_7jjv9b9x4v9h0000gn/T/ipykernel_12052/3277860180.py:18: FutureWarning: The default dtype for empty Series will be 'object' instead of 'float64' in a future version. Specify a dtype explicitly to silence this warning.\n",
      "  cluster = pd.Series(index=range(df.shape[0]))\n",
      "/var/folders/2s/3p893_4d5lx_7jjv9b9x4v9h0000gn/T/ipykernel_12052/3277860180.py:30: FutureWarning: The default dtype for empty Series will be 'object' instead of 'float64' in a future version. Specify a dtype explicitly to silence this warning.\n",
      "  cluster = pd.Series(index=range(df.shape[0]))\n",
      "/var/folders/2s/3p893_4d5lx_7jjv9b9x4v9h0000gn/T/ipykernel_12052/3277860180.py:30: FutureWarning: The default dtype for empty Series will be 'object' instead of 'float64' in a future version. Specify a dtype explicitly to silence this warning.\n",
      "  cluster = pd.Series(index=range(df.shape[0]))\n",
      "/var/folders/2s/3p893_4d5lx_7jjv9b9x4v9h0000gn/T/ipykernel_12052/3277860180.py:30: FutureWarning: The default dtype for empty Series will be 'object' instead of 'float64' in a future version. Specify a dtype explicitly to silence this warning.\n",
      "  cluster = pd.Series(index=range(df.shape[0]))\n",
      "/var/folders/2s/3p893_4d5lx_7jjv9b9x4v9h0000gn/T/ipykernel_12052/3277860180.py:18: FutureWarning: The default dtype for empty Series will be 'object' instead of 'float64' in a future version. Specify a dtype explicitly to silence this warning.\n",
      "  cluster = pd.Series(index=range(df.shape[0]))\n",
      "/var/folders/2s/3p893_4d5lx_7jjv9b9x4v9h0000gn/T/ipykernel_12052/3277860180.py:30: FutureWarning: The default dtype for empty Series will be 'object' instead of 'float64' in a future version. Specify a dtype explicitly to silence this warning.\n",
      "  cluster = pd.Series(index=range(df.shape[0]))\n",
      "/var/folders/2s/3p893_4d5lx_7jjv9b9x4v9h0000gn/T/ipykernel_12052/3277860180.py:30: FutureWarning: The default dtype for empty Series will be 'object' instead of 'float64' in a future version. Specify a dtype explicitly to silence this warning.\n",
      "  cluster = pd.Series(index=range(df.shape[0]))\n",
      "/var/folders/2s/3p893_4d5lx_7jjv9b9x4v9h0000gn/T/ipykernel_12052/3277860180.py:30: FutureWarning: The default dtype for empty Series will be 'object' instead of 'float64' in a future version. Specify a dtype explicitly to silence this warning.\n",
      "  cluster = pd.Series(index=range(df.shape[0]))\n",
      "/var/folders/2s/3p893_4d5lx_7jjv9b9x4v9h0000gn/T/ipykernel_12052/3277860180.py:30: FutureWarning: The default dtype for empty Series will be 'object' instead of 'float64' in a future version. Specify a dtype explicitly to silence this warning.\n",
      "  cluster = pd.Series(index=range(df.shape[0]))\n",
      "/var/folders/2s/3p893_4d5lx_7jjv9b9x4v9h0000gn/T/ipykernel_12052/3277860180.py:30: FutureWarning: The default dtype for empty Series will be 'object' instead of 'float64' in a future version. Specify a dtype explicitly to silence this warning.\n",
      "  cluster = pd.Series(index=range(df.shape[0]))\n",
      "/var/folders/2s/3p893_4d5lx_7jjv9b9x4v9h0000gn/T/ipykernel_12052/3277860180.py:18: FutureWarning: The default dtype for empty Series will be 'object' instead of 'float64' in a future version. Specify a dtype explicitly to silence this warning.\n",
      "  cluster = pd.Series(index=range(df.shape[0]))\n",
      "/var/folders/2s/3p893_4d5lx_7jjv9b9x4v9h0000gn/T/ipykernel_12052/3277860180.py:30: FutureWarning: The default dtype for empty Series will be 'object' instead of 'float64' in a future version. Specify a dtype explicitly to silence this warning.\n",
      "  cluster = pd.Series(index=range(df.shape[0]))\n",
      "/var/folders/2s/3p893_4d5lx_7jjv9b9x4v9h0000gn/T/ipykernel_12052/3277860180.py:30: FutureWarning: The default dtype for empty Series will be 'object' instead of 'float64' in a future version. Specify a dtype explicitly to silence this warning.\n",
      "  cluster = pd.Series(index=range(df.shape[0]))\n",
      "/var/folders/2s/3p893_4d5lx_7jjv9b9x4v9h0000gn/T/ipykernel_12052/3277860180.py:30: FutureWarning: The default dtype for empty Series will be 'object' instead of 'float64' in a future version. Specify a dtype explicitly to silence this warning.\n",
      "  cluster = pd.Series(index=range(df.shape[0]))\n",
      "/var/folders/2s/3p893_4d5lx_7jjv9b9x4v9h0000gn/T/ipykernel_12052/3277860180.py:34: FutureWarning: The default dtype for empty Series will be 'object' instead of 'float64' in a future version. Specify a dtype explicitly to silence this warning.\n",
      "  clusters = pd.Series(index=range(df.shape[0]))\n",
      "/var/folders/2s/3p893_4d5lx_7jjv9b9x4v9h0000gn/T/ipykernel_12052/3277860180.py:52: FutureWarning: The default dtype for empty Series will be 'object' instead of 'float64' in a future version. Specify a dtype explicitly to silence this warning.\n",
      "  clusters = pd.Series(index=range(df.shape[0]))\n",
      "/var/folders/2s/3p893_4d5lx_7jjv9b9x4v9h0000gn/T/ipykernel_12052/3277860180.py:52: FutureWarning: The default dtype for empty Series will be 'object' instead of 'float64' in a future version. Specify a dtype explicitly to silence this warning.\n",
      "  clusters = pd.Series(index=range(df.shape[0]))\n",
      "/var/folders/2s/3p893_4d5lx_7jjv9b9x4v9h0000gn/T/ipykernel_12052/3277860180.py:52: FutureWarning: The default dtype for empty Series will be 'object' instead of 'float64' in a future version. Specify a dtype explicitly to silence this warning.\n",
      "  clusters = pd.Series(index=range(df.shape[0]))\n",
      "/var/folders/2s/3p893_4d5lx_7jjv9b9x4v9h0000gn/T/ipykernel_12052/3277860180.py:52: FutureWarning: The default dtype for empty Series will be 'object' instead of 'float64' in a future version. Specify a dtype explicitly to silence this warning.\n",
      "  clusters = pd.Series(index=range(df.shape[0]))\n",
      "/var/folders/2s/3p893_4d5lx_7jjv9b9x4v9h0000gn/T/ipykernel_12052/3277860180.py:52: FutureWarning: The default dtype for empty Series will be 'object' instead of 'float64' in a future version. Specify a dtype explicitly to silence this warning.\n",
      "  clusters = pd.Series(index=range(df.shape[0]))\n",
      "/var/folders/2s/3p893_4d5lx_7jjv9b9x4v9h0000gn/T/ipykernel_12052/3277860180.py:18: FutureWarning: The default dtype for empty Series will be 'object' instead of 'float64' in a future version. Specify a dtype explicitly to silence this warning.\n",
      "  cluster = pd.Series(index=range(df.shape[0]))\n",
      "/var/folders/2s/3p893_4d5lx_7jjv9b9x4v9h0000gn/T/ipykernel_12052/3277860180.py:30: FutureWarning: The default dtype for empty Series will be 'object' instead of 'float64' in a future version. Specify a dtype explicitly to silence this warning.\n",
      "  cluster = pd.Series(index=range(df.shape[0]))\n"
     ]
    },
    {
     "name": "stdout",
     "output_type": "stream",
     "text": [
      "Optimal number of clusters for wine is: 7\n",
      "Optimal number of clusters for iris is: 3\n"
     ]
    },
    {
     "name": "stderr",
     "output_type": "stream",
     "text": [
      "/var/folders/2s/3p893_4d5lx_7jjv9b9x4v9h0000gn/T/ipykernel_12052/3277860180.py:30: FutureWarning: The default dtype for empty Series will be 'object' instead of 'float64' in a future version. Specify a dtype explicitly to silence this warning.\n",
      "  cluster = pd.Series(index=range(df.shape[0]))\n",
      "/var/folders/2s/3p893_4d5lx_7jjv9b9x4v9h0000gn/T/ipykernel_12052/3277860180.py:30: FutureWarning: The default dtype for empty Series will be 'object' instead of 'float64' in a future version. Specify a dtype explicitly to silence this warning.\n",
      "  cluster = pd.Series(index=range(df.shape[0]))\n",
      "/var/folders/2s/3p893_4d5lx_7jjv9b9x4v9h0000gn/T/ipykernel_12052/3277860180.py:18: FutureWarning: The default dtype for empty Series will be 'object' instead of 'float64' in a future version. Specify a dtype explicitly to silence this warning.\n",
      "  cluster = pd.Series(index=range(df.shape[0]))\n",
      "/var/folders/2s/3p893_4d5lx_7jjv9b9x4v9h0000gn/T/ipykernel_12052/3277860180.py:30: FutureWarning: The default dtype for empty Series will be 'object' instead of 'float64' in a future version. Specify a dtype explicitly to silence this warning.\n",
      "  cluster = pd.Series(index=range(df.shape[0]))\n",
      "/var/folders/2s/3p893_4d5lx_7jjv9b9x4v9h0000gn/T/ipykernel_12052/3277860180.py:30: FutureWarning: The default dtype for empty Series will be 'object' instead of 'float64' in a future version. Specify a dtype explicitly to silence this warning.\n",
      "  cluster = pd.Series(index=range(df.shape[0]))\n",
      "/var/folders/2s/3p893_4d5lx_7jjv9b9x4v9h0000gn/T/ipykernel_12052/3277860180.py:30: FutureWarning: The default dtype for empty Series will be 'object' instead of 'float64' in a future version. Specify a dtype explicitly to silence this warning.\n",
      "  cluster = pd.Series(index=range(df.shape[0]))\n",
      "/var/folders/2s/3p893_4d5lx_7jjv9b9x4v9h0000gn/T/ipykernel_12052/3277860180.py:30: FutureWarning: The default dtype for empty Series will be 'object' instead of 'float64' in a future version. Specify a dtype explicitly to silence this warning.\n",
      "  cluster = pd.Series(index=range(df.shape[0]))\n",
      "/var/folders/2s/3p893_4d5lx_7jjv9b9x4v9h0000gn/T/ipykernel_12052/3277860180.py:30: FutureWarning: The default dtype for empty Series will be 'object' instead of 'float64' in a future version. Specify a dtype explicitly to silence this warning.\n",
      "  cluster = pd.Series(index=range(df.shape[0]))\n",
      "/var/folders/2s/3p893_4d5lx_7jjv9b9x4v9h0000gn/T/ipykernel_12052/3277860180.py:30: FutureWarning: The default dtype for empty Series will be 'object' instead of 'float64' in a future version. Specify a dtype explicitly to silence this warning.\n",
      "  cluster = pd.Series(index=range(df.shape[0]))\n",
      "/var/folders/2s/3p893_4d5lx_7jjv9b9x4v9h0000gn/T/ipykernel_12052/3277860180.py:18: FutureWarning: The default dtype for empty Series will be 'object' instead of 'float64' in a future version. Specify a dtype explicitly to silence this warning.\n",
      "  cluster = pd.Series(index=range(df.shape[0]))\n",
      "/var/folders/2s/3p893_4d5lx_7jjv9b9x4v9h0000gn/T/ipykernel_12052/3277860180.py:30: FutureWarning: The default dtype for empty Series will be 'object' instead of 'float64' in a future version. Specify a dtype explicitly to silence this warning.\n",
      "  cluster = pd.Series(index=range(df.shape[0]))\n",
      "/var/folders/2s/3p893_4d5lx_7jjv9b9x4v9h0000gn/T/ipykernel_12052/3277860180.py:30: FutureWarning: The default dtype for empty Series will be 'object' instead of 'float64' in a future version. Specify a dtype explicitly to silence this warning.\n",
      "  cluster = pd.Series(index=range(df.shape[0]))\n",
      "/var/folders/2s/3p893_4d5lx_7jjv9b9x4v9h0000gn/T/ipykernel_12052/3277860180.py:30: FutureWarning: The default dtype for empty Series will be 'object' instead of 'float64' in a future version. Specify a dtype explicitly to silence this warning.\n",
      "  cluster = pd.Series(index=range(df.shape[0]))\n",
      "/var/folders/2s/3p893_4d5lx_7jjv9b9x4v9h0000gn/T/ipykernel_12052/3277860180.py:30: FutureWarning: The default dtype for empty Series will be 'object' instead of 'float64' in a future version. Specify a dtype explicitly to silence this warning.\n",
      "  cluster = pd.Series(index=range(df.shape[0]))\n",
      "/var/folders/2s/3p893_4d5lx_7jjv9b9x4v9h0000gn/T/ipykernel_12052/3277860180.py:30: FutureWarning: The default dtype for empty Series will be 'object' instead of 'float64' in a future version. Specify a dtype explicitly to silence this warning.\n",
      "  cluster = pd.Series(index=range(df.shape[0]))\n",
      "/var/folders/2s/3p893_4d5lx_7jjv9b9x4v9h0000gn/T/ipykernel_12052/3277860180.py:18: FutureWarning: The default dtype for empty Series will be 'object' instead of 'float64' in a future version. Specify a dtype explicitly to silence this warning.\n",
      "  cluster = pd.Series(index=range(df.shape[0]))\n",
      "/var/folders/2s/3p893_4d5lx_7jjv9b9x4v9h0000gn/T/ipykernel_12052/3277860180.py:30: FutureWarning: The default dtype for empty Series will be 'object' instead of 'float64' in a future version. Specify a dtype explicitly to silence this warning.\n",
      "  cluster = pd.Series(index=range(df.shape[0]))\n",
      "/var/folders/2s/3p893_4d5lx_7jjv9b9x4v9h0000gn/T/ipykernel_12052/3277860180.py:30: FutureWarning: The default dtype for empty Series will be 'object' instead of 'float64' in a future version. Specify a dtype explicitly to silence this warning.\n",
      "  cluster = pd.Series(index=range(df.shape[0]))\n",
      "/var/folders/2s/3p893_4d5lx_7jjv9b9x4v9h0000gn/T/ipykernel_12052/3277860180.py:30: FutureWarning: The default dtype for empty Series will be 'object' instead of 'float64' in a future version. Specify a dtype explicitly to silence this warning.\n",
      "  cluster = pd.Series(index=range(df.shape[0]))\n",
      "/var/folders/2s/3p893_4d5lx_7jjv9b9x4v9h0000gn/T/ipykernel_12052/3277860180.py:30: FutureWarning: The default dtype for empty Series will be 'object' instead of 'float64' in a future version. Specify a dtype explicitly to silence this warning.\n",
      "  cluster = pd.Series(index=range(df.shape[0]))\n",
      "/var/folders/2s/3p893_4d5lx_7jjv9b9x4v9h0000gn/T/ipykernel_12052/3277860180.py:30: FutureWarning: The default dtype for empty Series will be 'object' instead of 'float64' in a future version. Specify a dtype explicitly to silence this warning.\n",
      "  cluster = pd.Series(index=range(df.shape[0]))\n",
      "/var/folders/2s/3p893_4d5lx_7jjv9b9x4v9h0000gn/T/ipykernel_12052/3277860180.py:30: FutureWarning: The default dtype for empty Series will be 'object' instead of 'float64' in a future version. Specify a dtype explicitly to silence this warning.\n",
      "  cluster = pd.Series(index=range(df.shape[0]))\n",
      "/var/folders/2s/3p893_4d5lx_7jjv9b9x4v9h0000gn/T/ipykernel_12052/3277860180.py:30: FutureWarning: The default dtype for empty Series will be 'object' instead of 'float64' in a future version. Specify a dtype explicitly to silence this warning.\n",
      "  cluster = pd.Series(index=range(df.shape[0]))\n",
      "/var/folders/2s/3p893_4d5lx_7jjv9b9x4v9h0000gn/T/ipykernel_12052/3277860180.py:30: FutureWarning: The default dtype for empty Series will be 'object' instead of 'float64' in a future version. Specify a dtype explicitly to silence this warning.\n",
      "  cluster = pd.Series(index=range(df.shape[0]))\n",
      "/var/folders/2s/3p893_4d5lx_7jjv9b9x4v9h0000gn/T/ipykernel_12052/3277860180.py:30: FutureWarning: The default dtype for empty Series will be 'object' instead of 'float64' in a future version. Specify a dtype explicitly to silence this warning.\n",
      "  cluster = pd.Series(index=range(df.shape[0]))\n",
      "/var/folders/2s/3p893_4d5lx_7jjv9b9x4v9h0000gn/T/ipykernel_12052/3277860180.py:30: FutureWarning: The default dtype for empty Series will be 'object' instead of 'float64' in a future version. Specify a dtype explicitly to silence this warning.\n",
      "  cluster = pd.Series(index=range(df.shape[0]))\n",
      "/var/folders/2s/3p893_4d5lx_7jjv9b9x4v9h0000gn/T/ipykernel_12052/3277860180.py:30: FutureWarning: The default dtype for empty Series will be 'object' instead of 'float64' in a future version. Specify a dtype explicitly to silence this warning.\n",
      "  cluster = pd.Series(index=range(df.shape[0]))\n",
      "/var/folders/2s/3p893_4d5lx_7jjv9b9x4v9h0000gn/T/ipykernel_12052/3277860180.py:30: FutureWarning: The default dtype for empty Series will be 'object' instead of 'float64' in a future version. Specify a dtype explicitly to silence this warning.\n",
      "  cluster = pd.Series(index=range(df.shape[0]))\n",
      "/var/folders/2s/3p893_4d5lx_7jjv9b9x4v9h0000gn/T/ipykernel_12052/3277860180.py:30: FutureWarning: The default dtype for empty Series will be 'object' instead of 'float64' in a future version. Specify a dtype explicitly to silence this warning.\n",
      "  cluster = pd.Series(index=range(df.shape[0]))\n",
      "/var/folders/2s/3p893_4d5lx_7jjv9b9x4v9h0000gn/T/ipykernel_12052/3277860180.py:30: FutureWarning: The default dtype for empty Series will be 'object' instead of 'float64' in a future version. Specify a dtype explicitly to silence this warning.\n",
      "  cluster = pd.Series(index=range(df.shape[0]))\n",
      "/var/folders/2s/3p893_4d5lx_7jjv9b9x4v9h0000gn/T/ipykernel_12052/3277860180.py:30: FutureWarning: The default dtype for empty Series will be 'object' instead of 'float64' in a future version. Specify a dtype explicitly to silence this warning.\n",
      "  cluster = pd.Series(index=range(df.shape[0]))\n",
      "/var/folders/2s/3p893_4d5lx_7jjv9b9x4v9h0000gn/T/ipykernel_12052/3277860180.py:30: FutureWarning: The default dtype for empty Series will be 'object' instead of 'float64' in a future version. Specify a dtype explicitly to silence this warning.\n",
      "  cluster = pd.Series(index=range(df.shape[0]))\n",
      "/var/folders/2s/3p893_4d5lx_7jjv9b9x4v9h0000gn/T/ipykernel_12052/3277860180.py:18: FutureWarning: The default dtype for empty Series will be 'object' instead of 'float64' in a future version. Specify a dtype explicitly to silence this warning.\n",
      "  cluster = pd.Series(index=range(df.shape[0]))\n",
      "/var/folders/2s/3p893_4d5lx_7jjv9b9x4v9h0000gn/T/ipykernel_12052/3277860180.py:30: FutureWarning: The default dtype for empty Series will be 'object' instead of 'float64' in a future version. Specify a dtype explicitly to silence this warning.\n",
      "  cluster = pd.Series(index=range(df.shape[0]))\n",
      "/var/folders/2s/3p893_4d5lx_7jjv9b9x4v9h0000gn/T/ipykernel_12052/3277860180.py:30: FutureWarning: The default dtype for empty Series will be 'object' instead of 'float64' in a future version. Specify a dtype explicitly to silence this warning.\n",
      "  cluster = pd.Series(index=range(df.shape[0]))\n",
      "/var/folders/2s/3p893_4d5lx_7jjv9b9x4v9h0000gn/T/ipykernel_12052/3277860180.py:30: FutureWarning: The default dtype for empty Series will be 'object' instead of 'float64' in a future version. Specify a dtype explicitly to silence this warning.\n",
      "  cluster = pd.Series(index=range(df.shape[0]))\n",
      "/var/folders/2s/3p893_4d5lx_7jjv9b9x4v9h0000gn/T/ipykernel_12052/3277860180.py:30: FutureWarning: The default dtype for empty Series will be 'object' instead of 'float64' in a future version. Specify a dtype explicitly to silence this warning.\n",
      "  cluster = pd.Series(index=range(df.shape[0]))\n",
      "/var/folders/2s/3p893_4d5lx_7jjv9b9x4v9h0000gn/T/ipykernel_12052/3277860180.py:18: FutureWarning: The default dtype for empty Series will be 'object' instead of 'float64' in a future version. Specify a dtype explicitly to silence this warning.\n",
      "  cluster = pd.Series(index=range(df.shape[0]))\n"
     ]
    },
    {
     "name": "stderr",
     "output_type": "stream",
     "text": [
      "/var/folders/2s/3p893_4d5lx_7jjv9b9x4v9h0000gn/T/ipykernel_12052/3277860180.py:30: FutureWarning: The default dtype for empty Series will be 'object' instead of 'float64' in a future version. Specify a dtype explicitly to silence this warning.\n",
      "  cluster = pd.Series(index=range(df.shape[0]))\n",
      "/var/folders/2s/3p893_4d5lx_7jjv9b9x4v9h0000gn/T/ipykernel_12052/3277860180.py:30: FutureWarning: The default dtype for empty Series will be 'object' instead of 'float64' in a future version. Specify a dtype explicitly to silence this warning.\n",
      "  cluster = pd.Series(index=range(df.shape[0]))\n",
      "/var/folders/2s/3p893_4d5lx_7jjv9b9x4v9h0000gn/T/ipykernel_12052/3277860180.py:30: FutureWarning: The default dtype for empty Series will be 'object' instead of 'float64' in a future version. Specify a dtype explicitly to silence this warning.\n",
      "  cluster = pd.Series(index=range(df.shape[0]))\n",
      "/var/folders/2s/3p893_4d5lx_7jjv9b9x4v9h0000gn/T/ipykernel_12052/3277860180.py:30: FutureWarning: The default dtype for empty Series will be 'object' instead of 'float64' in a future version. Specify a dtype explicitly to silence this warning.\n",
      "  cluster = pd.Series(index=range(df.shape[0]))\n",
      "/var/folders/2s/3p893_4d5lx_7jjv9b9x4v9h0000gn/T/ipykernel_12052/3277860180.py:30: FutureWarning: The default dtype for empty Series will be 'object' instead of 'float64' in a future version. Specify a dtype explicitly to silence this warning.\n",
      "  cluster = pd.Series(index=range(df.shape[0]))\n",
      "/var/folders/2s/3p893_4d5lx_7jjv9b9x4v9h0000gn/T/ipykernel_12052/3277860180.py:18: FutureWarning: The default dtype for empty Series will be 'object' instead of 'float64' in a future version. Specify a dtype explicitly to silence this warning.\n",
      "  cluster = pd.Series(index=range(df.shape[0]))\n",
      "/var/folders/2s/3p893_4d5lx_7jjv9b9x4v9h0000gn/T/ipykernel_12052/3277860180.py:30: FutureWarning: The default dtype for empty Series will be 'object' instead of 'float64' in a future version. Specify a dtype explicitly to silence this warning.\n",
      "  cluster = pd.Series(index=range(df.shape[0]))\n",
      "/var/folders/2s/3p893_4d5lx_7jjv9b9x4v9h0000gn/T/ipykernel_12052/3277860180.py:30: FutureWarning: The default dtype for empty Series will be 'object' instead of 'float64' in a future version. Specify a dtype explicitly to silence this warning.\n",
      "  cluster = pd.Series(index=range(df.shape[0]))\n",
      "/var/folders/2s/3p893_4d5lx_7jjv9b9x4v9h0000gn/T/ipykernel_12052/3277860180.py:30: FutureWarning: The default dtype for empty Series will be 'object' instead of 'float64' in a future version. Specify a dtype explicitly to silence this warning.\n",
      "  cluster = pd.Series(index=range(df.shape[0]))\n",
      "/var/folders/2s/3p893_4d5lx_7jjv9b9x4v9h0000gn/T/ipykernel_12052/3277860180.py:30: FutureWarning: The default dtype for empty Series will be 'object' instead of 'float64' in a future version. Specify a dtype explicitly to silence this warning.\n",
      "  cluster = pd.Series(index=range(df.shape[0]))\n",
      "/var/folders/2s/3p893_4d5lx_7jjv9b9x4v9h0000gn/T/ipykernel_12052/3277860180.py:30: FutureWarning: The default dtype for empty Series will be 'object' instead of 'float64' in a future version. Specify a dtype explicitly to silence this warning.\n",
      "  cluster = pd.Series(index=range(df.shape[0]))\n",
      "/var/folders/2s/3p893_4d5lx_7jjv9b9x4v9h0000gn/T/ipykernel_12052/3277860180.py:18: FutureWarning: The default dtype for empty Series will be 'object' instead of 'float64' in a future version. Specify a dtype explicitly to silence this warning.\n",
      "  cluster = pd.Series(index=range(df.shape[0]))\n",
      "/var/folders/2s/3p893_4d5lx_7jjv9b9x4v9h0000gn/T/ipykernel_12052/3277860180.py:30: FutureWarning: The default dtype for empty Series will be 'object' instead of 'float64' in a future version. Specify a dtype explicitly to silence this warning.\n",
      "  cluster = pd.Series(index=range(df.shape[0]))\n",
      "/var/folders/2s/3p893_4d5lx_7jjv9b9x4v9h0000gn/T/ipykernel_12052/3277860180.py:18: FutureWarning: The default dtype for empty Series will be 'object' instead of 'float64' in a future version. Specify a dtype explicitly to silence this warning.\n",
      "  cluster = pd.Series(index=range(df.shape[0]))\n",
      "/var/folders/2s/3p893_4d5lx_7jjv9b9x4v9h0000gn/T/ipykernel_12052/3277860180.py:30: FutureWarning: The default dtype for empty Series will be 'object' instead of 'float64' in a future version. Specify a dtype explicitly to silence this warning.\n",
      "  cluster = pd.Series(index=range(df.shape[0]))\n",
      "/var/folders/2s/3p893_4d5lx_7jjv9b9x4v9h0000gn/T/ipykernel_12052/3277860180.py:18: FutureWarning: The default dtype for empty Series will be 'object' instead of 'float64' in a future version. Specify a dtype explicitly to silence this warning.\n",
      "  cluster = pd.Series(index=range(df.shape[0]))\n",
      "/var/folders/2s/3p893_4d5lx_7jjv9b9x4v9h0000gn/T/ipykernel_12052/3277860180.py:18: FutureWarning: The default dtype for empty Series will be 'object' instead of 'float64' in a future version. Specify a dtype explicitly to silence this warning.\n",
      "  cluster = pd.Series(index=range(df.shape[0]))\n",
      "/var/folders/2s/3p893_4d5lx_7jjv9b9x4v9h0000gn/T/ipykernel_12052/3277860180.py:30: FutureWarning: The default dtype for empty Series will be 'object' instead of 'float64' in a future version. Specify a dtype explicitly to silence this warning.\n",
      "  cluster = pd.Series(index=range(df.shape[0]))\n",
      "/var/folders/2s/3p893_4d5lx_7jjv9b9x4v9h0000gn/T/ipykernel_12052/3277860180.py:30: FutureWarning: The default dtype for empty Series will be 'object' instead of 'float64' in a future version. Specify a dtype explicitly to silence this warning.\n",
      "  cluster = pd.Series(index=range(df.shape[0]))\n",
      "/var/folders/2s/3p893_4d5lx_7jjv9b9x4v9h0000gn/T/ipykernel_12052/3277860180.py:30: FutureWarning: The default dtype for empty Series will be 'object' instead of 'float64' in a future version. Specify a dtype explicitly to silence this warning.\n",
      "  cluster = pd.Series(index=range(df.shape[0]))\n",
      "/var/folders/2s/3p893_4d5lx_7jjv9b9x4v9h0000gn/T/ipykernel_12052/3277860180.py:30: FutureWarning: The default dtype for empty Series will be 'object' instead of 'float64' in a future version. Specify a dtype explicitly to silence this warning.\n",
      "  cluster = pd.Series(index=range(df.shape[0]))\n",
      "/var/folders/2s/3p893_4d5lx_7jjv9b9x4v9h0000gn/T/ipykernel_12052/3277860180.py:18: FutureWarning: The default dtype for empty Series will be 'object' instead of 'float64' in a future version. Specify a dtype explicitly to silence this warning.\n",
      "  cluster = pd.Series(index=range(df.shape[0]))\n",
      "/var/folders/2s/3p893_4d5lx_7jjv9b9x4v9h0000gn/T/ipykernel_12052/3277860180.py:30: FutureWarning: The default dtype for empty Series will be 'object' instead of 'float64' in a future version. Specify a dtype explicitly to silence this warning.\n",
      "  cluster = pd.Series(index=range(df.shape[0]))\n",
      "/var/folders/2s/3p893_4d5lx_7jjv9b9x4v9h0000gn/T/ipykernel_12052/3277860180.py:30: FutureWarning: The default dtype for empty Series will be 'object' instead of 'float64' in a future version. Specify a dtype explicitly to silence this warning.\n",
      "  cluster = pd.Series(index=range(df.shape[0]))\n",
      "/var/folders/2s/3p893_4d5lx_7jjv9b9x4v9h0000gn/T/ipykernel_12052/3277860180.py:30: FutureWarning: The default dtype for empty Series will be 'object' instead of 'float64' in a future version. Specify a dtype explicitly to silence this warning.\n",
      "  cluster = pd.Series(index=range(df.shape[0]))\n",
      "/var/folders/2s/3p893_4d5lx_7jjv9b9x4v9h0000gn/T/ipykernel_12052/3277860180.py:30: FutureWarning: The default dtype for empty Series will be 'object' instead of 'float64' in a future version. Specify a dtype explicitly to silence this warning.\n",
      "  cluster = pd.Series(index=range(df.shape[0]))\n",
      "/var/folders/2s/3p893_4d5lx_7jjv9b9x4v9h0000gn/T/ipykernel_12052/3277860180.py:18: FutureWarning: The default dtype for empty Series will be 'object' instead of 'float64' in a future version. Specify a dtype explicitly to silence this warning.\n",
      "  cluster = pd.Series(index=range(df.shape[0]))\n",
      "/var/folders/2s/3p893_4d5lx_7jjv9b9x4v9h0000gn/T/ipykernel_12052/3277860180.py:30: FutureWarning: The default dtype for empty Series will be 'object' instead of 'float64' in a future version. Specify a dtype explicitly to silence this warning.\n",
      "  cluster = pd.Series(index=range(df.shape[0]))\n",
      "/var/folders/2s/3p893_4d5lx_7jjv9b9x4v9h0000gn/T/ipykernel_12052/3277860180.py:18: FutureWarning: The default dtype for empty Series will be 'object' instead of 'float64' in a future version. Specify a dtype explicitly to silence this warning.\n",
      "  cluster = pd.Series(index=range(df.shape[0]))\n",
      "/var/folders/2s/3p893_4d5lx_7jjv9b9x4v9h0000gn/T/ipykernel_12052/3277860180.py:18: FutureWarning: The default dtype for empty Series will be 'object' instead of 'float64' in a future version. Specify a dtype explicitly to silence this warning.\n",
      "  cluster = pd.Series(index=range(df.shape[0]))\n",
      "/var/folders/2s/3p893_4d5lx_7jjv9b9x4v9h0000gn/T/ipykernel_12052/3277860180.py:18: FutureWarning: The default dtype for empty Series will be 'object' instead of 'float64' in a future version. Specify a dtype explicitly to silence this warning.\n",
      "  cluster = pd.Series(index=range(df.shape[0]))\n",
      "/var/folders/2s/3p893_4d5lx_7jjv9b9x4v9h0000gn/T/ipykernel_12052/3277860180.py:18: FutureWarning: The default dtype for empty Series will be 'object' instead of 'float64' in a future version. Specify a dtype explicitly to silence this warning.\n",
      "  cluster = pd.Series(index=range(df.shape[0]))\n",
      "/var/folders/2s/3p893_4d5lx_7jjv9b9x4v9h0000gn/T/ipykernel_12052/3277860180.py:30: FutureWarning: The default dtype for empty Series will be 'object' instead of 'float64' in a future version. Specify a dtype explicitly to silence this warning.\n",
      "  cluster = pd.Series(index=range(df.shape[0]))\n",
      "/var/folders/2s/3p893_4d5lx_7jjv9b9x4v9h0000gn/T/ipykernel_12052/3277860180.py:18: FutureWarning: The default dtype for empty Series will be 'object' instead of 'float64' in a future version. Specify a dtype explicitly to silence this warning.\n",
      "  cluster = pd.Series(index=range(df.shape[0]))\n",
      "/var/folders/2s/3p893_4d5lx_7jjv9b9x4v9h0000gn/T/ipykernel_12052/3277860180.py:30: FutureWarning: The default dtype for empty Series will be 'object' instead of 'float64' in a future version. Specify a dtype explicitly to silence this warning.\n",
      "  cluster = pd.Series(index=range(df.shape[0]))\n",
      "/var/folders/2s/3p893_4d5lx_7jjv9b9x4v9h0000gn/T/ipykernel_12052/3277860180.py:30: FutureWarning: The default dtype for empty Series will be 'object' instead of 'float64' in a future version. Specify a dtype explicitly to silence this warning.\n",
      "  cluster = pd.Series(index=range(df.shape[0]))\n",
      "/var/folders/2s/3p893_4d5lx_7jjv9b9x4v9h0000gn/T/ipykernel_12052/3277860180.py:30: FutureWarning: The default dtype for empty Series will be 'object' instead of 'float64' in a future version. Specify a dtype explicitly to silence this warning.\n",
      "  cluster = pd.Series(index=range(df.shape[0]))\n",
      "/var/folders/2s/3p893_4d5lx_7jjv9b9x4v9h0000gn/T/ipykernel_12052/3277860180.py:18: FutureWarning: The default dtype for empty Series will be 'object' instead of 'float64' in a future version. Specify a dtype explicitly to silence this warning.\n",
      "  cluster = pd.Series(index=range(df.shape[0]))\n",
      "/var/folders/2s/3p893_4d5lx_7jjv9b9x4v9h0000gn/T/ipykernel_12052/3277860180.py:18: FutureWarning: The default dtype for empty Series will be 'object' instead of 'float64' in a future version. Specify a dtype explicitly to silence this warning.\n",
      "  cluster = pd.Series(index=range(df.shape[0]))\n",
      "/var/folders/2s/3p893_4d5lx_7jjv9b9x4v9h0000gn/T/ipykernel_12052/3277860180.py:18: FutureWarning: The default dtype for empty Series will be 'object' instead of 'float64' in a future version. Specify a dtype explicitly to silence this warning.\n",
      "  cluster = pd.Series(index=range(df.shape[0]))\n",
      "/var/folders/2s/3p893_4d5lx_7jjv9b9x4v9h0000gn/T/ipykernel_12052/3277860180.py:30: FutureWarning: The default dtype for empty Series will be 'object' instead of 'float64' in a future version. Specify a dtype explicitly to silence this warning.\n",
      "  cluster = pd.Series(index=range(df.shape[0]))\n",
      "/var/folders/2s/3p893_4d5lx_7jjv9b9x4v9h0000gn/T/ipykernel_12052/3277860180.py:18: FutureWarning: The default dtype for empty Series will be 'object' instead of 'float64' in a future version. Specify a dtype explicitly to silence this warning.\n",
      "  cluster = pd.Series(index=range(df.shape[0]))\n",
      "/var/folders/2s/3p893_4d5lx_7jjv9b9x4v9h0000gn/T/ipykernel_12052/3277860180.py:18: FutureWarning: The default dtype for empty Series will be 'object' instead of 'float64' in a future version. Specify a dtype explicitly to silence this warning.\n",
      "  cluster = pd.Series(index=range(df.shape[0]))\n",
      "/var/folders/2s/3p893_4d5lx_7jjv9b9x4v9h0000gn/T/ipykernel_12052/3277860180.py:30: FutureWarning: The default dtype for empty Series will be 'object' instead of 'float64' in a future version. Specify a dtype explicitly to silence this warning.\n",
      "  cluster = pd.Series(index=range(df.shape[0]))\n",
      "/var/folders/2s/3p893_4d5lx_7jjv9b9x4v9h0000gn/T/ipykernel_12052/3277860180.py:34: FutureWarning: The default dtype for empty Series will be 'object' instead of 'float64' in a future version. Specify a dtype explicitly to silence this warning.\n",
      "  clusters = pd.Series(index=range(df.shape[0]))\n"
     ]
    },
    {
     "name": "stderr",
     "output_type": "stream",
     "text": [
      "/var/folders/2s/3p893_4d5lx_7jjv9b9x4v9h0000gn/T/ipykernel_12052/3277860180.py:52: FutureWarning: The default dtype for empty Series will be 'object' instead of 'float64' in a future version. Specify a dtype explicitly to silence this warning.\n",
      "  clusters = pd.Series(index=range(df.shape[0]))\n",
      "/var/folders/2s/3p893_4d5lx_7jjv9b9x4v9h0000gn/T/ipykernel_12052/3277860180.py:52: FutureWarning: The default dtype for empty Series will be 'object' instead of 'float64' in a future version. Specify a dtype explicitly to silence this warning.\n",
      "  clusters = pd.Series(index=range(df.shape[0]))\n",
      "/var/folders/2s/3p893_4d5lx_7jjv9b9x4v9h0000gn/T/ipykernel_12052/3277860180.py:52: FutureWarning: The default dtype for empty Series will be 'object' instead of 'float64' in a future version. Specify a dtype explicitly to silence this warning.\n",
      "  clusters = pd.Series(index=range(df.shape[0]))\n",
      "/var/folders/2s/3p893_4d5lx_7jjv9b9x4v9h0000gn/T/ipykernel_12052/3277860180.py:52: FutureWarning: The default dtype for empty Series will be 'object' instead of 'float64' in a future version. Specify a dtype explicitly to silence this warning.\n",
      "  clusters = pd.Series(index=range(df.shape[0]))\n",
      "/var/folders/2s/3p893_4d5lx_7jjv9b9x4v9h0000gn/T/ipykernel_12052/3277860180.py:52: FutureWarning: The default dtype for empty Series will be 'object' instead of 'float64' in a future version. Specify a dtype explicitly to silence this warning.\n",
      "  clusters = pd.Series(index=range(df.shape[0]))\n",
      "/var/folders/2s/3p893_4d5lx_7jjv9b9x4v9h0000gn/T/ipykernel_12052/3277860180.py:52: FutureWarning: The default dtype for empty Series will be 'object' instead of 'float64' in a future version. Specify a dtype explicitly to silence this warning.\n",
      "  clusters = pd.Series(index=range(df.shape[0]))\n",
      "/var/folders/2s/3p893_4d5lx_7jjv9b9x4v9h0000gn/T/ipykernel_12052/3277860180.py:52: FutureWarning: The default dtype for empty Series will be 'object' instead of 'float64' in a future version. Specify a dtype explicitly to silence this warning.\n",
      "  clusters = pd.Series(index=range(df.shape[0]))\n",
      "/var/folders/2s/3p893_4d5lx_7jjv9b9x4v9h0000gn/T/ipykernel_12052/3277860180.py:52: FutureWarning: The default dtype for empty Series will be 'object' instead of 'float64' in a future version. Specify a dtype explicitly to silence this warning.\n",
      "  clusters = pd.Series(index=range(df.shape[0]))\n",
      "/var/folders/2s/3p893_4d5lx_7jjv9b9x4v9h0000gn/T/ipykernel_12052/3277860180.py:52: FutureWarning: The default dtype for empty Series will be 'object' instead of 'float64' in a future version. Specify a dtype explicitly to silence this warning.\n",
      "  clusters = pd.Series(index=range(df.shape[0]))\n",
      "/var/folders/2s/3p893_4d5lx_7jjv9b9x4v9h0000gn/T/ipykernel_12052/3277860180.py:52: FutureWarning: The default dtype for empty Series will be 'object' instead of 'float64' in a future version. Specify a dtype explicitly to silence this warning.\n",
      "  clusters = pd.Series(index=range(df.shape[0]))\n",
      "/var/folders/2s/3p893_4d5lx_7jjv9b9x4v9h0000gn/T/ipykernel_12052/3277860180.py:52: FutureWarning: The default dtype for empty Series will be 'object' instead of 'float64' in a future version. Specify a dtype explicitly to silence this warning.\n",
      "  clusters = pd.Series(index=range(df.shape[0]))\n",
      "/var/folders/2s/3p893_4d5lx_7jjv9b9x4v9h0000gn/T/ipykernel_12052/3277860180.py:52: FutureWarning: The default dtype for empty Series will be 'object' instead of 'float64' in a future version. Specify a dtype explicitly to silence this warning.\n",
      "  clusters = pd.Series(index=range(df.shape[0]))\n",
      "/var/folders/2s/3p893_4d5lx_7jjv9b9x4v9h0000gn/T/ipykernel_12052/3277860180.py:52: FutureWarning: The default dtype for empty Series will be 'object' instead of 'float64' in a future version. Specify a dtype explicitly to silence this warning.\n",
      "  clusters = pd.Series(index=range(df.shape[0]))\n",
      "/var/folders/2s/3p893_4d5lx_7jjv9b9x4v9h0000gn/T/ipykernel_12052/3277860180.py:52: FutureWarning: The default dtype for empty Series will be 'object' instead of 'float64' in a future version. Specify a dtype explicitly to silence this warning.\n",
      "  clusters = pd.Series(index=range(df.shape[0]))\n",
      "/var/folders/2s/3p893_4d5lx_7jjv9b9x4v9h0000gn/T/ipykernel_12052/3277860180.py:52: FutureWarning: The default dtype for empty Series will be 'object' instead of 'float64' in a future version. Specify a dtype explicitly to silence this warning.\n",
      "  clusters = pd.Series(index=range(df.shape[0]))\n",
      "/var/folders/2s/3p893_4d5lx_7jjv9b9x4v9h0000gn/T/ipykernel_12052/3277860180.py:52: FutureWarning: The default dtype for empty Series will be 'object' instead of 'float64' in a future version. Specify a dtype explicitly to silence this warning.\n",
      "  clusters = pd.Series(index=range(df.shape[0]))\n",
      "/var/folders/2s/3p893_4d5lx_7jjv9b9x4v9h0000gn/T/ipykernel_12052/3277860180.py:52: FutureWarning: The default dtype for empty Series will be 'object' instead of 'float64' in a future version. Specify a dtype explicitly to silence this warning.\n",
      "  clusters = pd.Series(index=range(df.shape[0]))\n",
      "/var/folders/2s/3p893_4d5lx_7jjv9b9x4v9h0000gn/T/ipykernel_12052/3277860180.py:52: FutureWarning: The default dtype for empty Series will be 'object' instead of 'float64' in a future version. Specify a dtype explicitly to silence this warning.\n",
      "  clusters = pd.Series(index=range(df.shape[0]))\n",
      "/var/folders/2s/3p893_4d5lx_7jjv9b9x4v9h0000gn/T/ipykernel_12052/3277860180.py:52: FutureWarning: The default dtype for empty Series will be 'object' instead of 'float64' in a future version. Specify a dtype explicitly to silence this warning.\n",
      "  clusters = pd.Series(index=range(df.shape[0]))\n",
      "/var/folders/2s/3p893_4d5lx_7jjv9b9x4v9h0000gn/T/ipykernel_12052/3277860180.py:52: FutureWarning: The default dtype for empty Series will be 'object' instead of 'float64' in a future version. Specify a dtype explicitly to silence this warning.\n",
      "  clusters = pd.Series(index=range(df.shape[0]))\n",
      "/var/folders/2s/3p893_4d5lx_7jjv9b9x4v9h0000gn/T/ipykernel_12052/3277860180.py:52: FutureWarning: The default dtype for empty Series will be 'object' instead of 'float64' in a future version. Specify a dtype explicitly to silence this warning.\n",
      "  clusters = pd.Series(index=range(df.shape[0]))\n",
      "/var/folders/2s/3p893_4d5lx_7jjv9b9x4v9h0000gn/T/ipykernel_12052/3277860180.py:52: FutureWarning: The default dtype for empty Series will be 'object' instead of 'float64' in a future version. Specify a dtype explicitly to silence this warning.\n",
      "  clusters = pd.Series(index=range(df.shape[0]))\n",
      "/var/folders/2s/3p893_4d5lx_7jjv9b9x4v9h0000gn/T/ipykernel_12052/3277860180.py:52: FutureWarning: The default dtype for empty Series will be 'object' instead of 'float64' in a future version. Specify a dtype explicitly to silence this warning.\n",
      "  clusters = pd.Series(index=range(df.shape[0]))\n",
      "/var/folders/2s/3p893_4d5lx_7jjv9b9x4v9h0000gn/T/ipykernel_12052/3277860180.py:52: FutureWarning: The default dtype for empty Series will be 'object' instead of 'float64' in a future version. Specify a dtype explicitly to silence this warning.\n",
      "  clusters = pd.Series(index=range(df.shape[0]))\n",
      "/var/folders/2s/3p893_4d5lx_7jjv9b9x4v9h0000gn/T/ipykernel_12052/3277860180.py:52: FutureWarning: The default dtype for empty Series will be 'object' instead of 'float64' in a future version. Specify a dtype explicitly to silence this warning.\n",
      "  clusters = pd.Series(index=range(df.shape[0]))\n",
      "/var/folders/2s/3p893_4d5lx_7jjv9b9x4v9h0000gn/T/ipykernel_12052/3277860180.py:52: FutureWarning: The default dtype for empty Series will be 'object' instead of 'float64' in a future version. Specify a dtype explicitly to silence this warning.\n",
      "  clusters = pd.Series(index=range(df.shape[0]))\n",
      "/var/folders/2s/3p893_4d5lx_7jjv9b9x4v9h0000gn/T/ipykernel_12052/3277860180.py:52: FutureWarning: The default dtype for empty Series will be 'object' instead of 'float64' in a future version. Specify a dtype explicitly to silence this warning.\n",
      "  clusters = pd.Series(index=range(df.shape[0]))\n",
      "/var/folders/2s/3p893_4d5lx_7jjv9b9x4v9h0000gn/T/ipykernel_12052/3277860180.py:52: FutureWarning: The default dtype for empty Series will be 'object' instead of 'float64' in a future version. Specify a dtype explicitly to silence this warning.\n",
      "  clusters = pd.Series(index=range(df.shape[0]))\n"
     ]
    },
    {
     "name": "stderr",
     "output_type": "stream",
     "text": [
      "/var/folders/2s/3p893_4d5lx_7jjv9b9x4v9h0000gn/T/ipykernel_12052/3277860180.py:52: FutureWarning: The default dtype for empty Series will be 'object' instead of 'float64' in a future version. Specify a dtype explicitly to silence this warning.\n",
      "  clusters = pd.Series(index=range(df.shape[0]))\n",
      "/var/folders/2s/3p893_4d5lx_7jjv9b9x4v9h0000gn/T/ipykernel_12052/3277860180.py:52: FutureWarning: The default dtype for empty Series will be 'object' instead of 'float64' in a future version. Specify a dtype explicitly to silence this warning.\n",
      "  clusters = pd.Series(index=range(df.shape[0]))\n",
      "/var/folders/2s/3p893_4d5lx_7jjv9b9x4v9h0000gn/T/ipykernel_12052/3277860180.py:52: FutureWarning: The default dtype for empty Series will be 'object' instead of 'float64' in a future version. Specify a dtype explicitly to silence this warning.\n",
      "  clusters = pd.Series(index=range(df.shape[0]))\n",
      "/var/folders/2s/3p893_4d5lx_7jjv9b9x4v9h0000gn/T/ipykernel_12052/3277860180.py:52: FutureWarning: The default dtype for empty Series will be 'object' instead of 'float64' in a future version. Specify a dtype explicitly to silence this warning.\n",
      "  clusters = pd.Series(index=range(df.shape[0]))\n",
      "/var/folders/2s/3p893_4d5lx_7jjv9b9x4v9h0000gn/T/ipykernel_12052/3277860180.py:52: FutureWarning: The default dtype for empty Series will be 'object' instead of 'float64' in a future version. Specify a dtype explicitly to silence this warning.\n",
      "  clusters = pd.Series(index=range(df.shape[0]))\n",
      "/var/folders/2s/3p893_4d5lx_7jjv9b9x4v9h0000gn/T/ipykernel_12052/3277860180.py:52: FutureWarning: The default dtype for empty Series will be 'object' instead of 'float64' in a future version. Specify a dtype explicitly to silence this warning.\n",
      "  clusters = pd.Series(index=range(df.shape[0]))\n",
      "/var/folders/2s/3p893_4d5lx_7jjv9b9x4v9h0000gn/T/ipykernel_12052/3277860180.py:52: FutureWarning: The default dtype for empty Series will be 'object' instead of 'float64' in a future version. Specify a dtype explicitly to silence this warning.\n",
      "  clusters = pd.Series(index=range(df.shape[0]))\n",
      "/var/folders/2s/3p893_4d5lx_7jjv9b9x4v9h0000gn/T/ipykernel_12052/3277860180.py:52: FutureWarning: The default dtype for empty Series will be 'object' instead of 'float64' in a future version. Specify a dtype explicitly to silence this warning.\n",
      "  clusters = pd.Series(index=range(df.shape[0]))\n",
      "/var/folders/2s/3p893_4d5lx_7jjv9b9x4v9h0000gn/T/ipykernel_12052/3277860180.py:52: FutureWarning: The default dtype for empty Series will be 'object' instead of 'float64' in a future version. Specify a dtype explicitly to silence this warning.\n",
      "  clusters = pd.Series(index=range(df.shape[0]))\n",
      "/var/folders/2s/3p893_4d5lx_7jjv9b9x4v9h0000gn/T/ipykernel_12052/3277860180.py:52: FutureWarning: The default dtype for empty Series will be 'object' instead of 'float64' in a future version. Specify a dtype explicitly to silence this warning.\n",
      "  clusters = pd.Series(index=range(df.shape[0]))\n",
      "/var/folders/2s/3p893_4d5lx_7jjv9b9x4v9h0000gn/T/ipykernel_12052/3277860180.py:52: FutureWarning: The default dtype for empty Series will be 'object' instead of 'float64' in a future version. Specify a dtype explicitly to silence this warning.\n",
      "  clusters = pd.Series(index=range(df.shape[0]))\n",
      "/var/folders/2s/3p893_4d5lx_7jjv9b9x4v9h0000gn/T/ipykernel_12052/3277860180.py:52: FutureWarning: The default dtype for empty Series will be 'object' instead of 'float64' in a future version. Specify a dtype explicitly to silence this warning.\n",
      "  clusters = pd.Series(index=range(df.shape[0]))\n",
      "/var/folders/2s/3p893_4d5lx_7jjv9b9x4v9h0000gn/T/ipykernel_12052/3277860180.py:52: FutureWarning: The default dtype for empty Series will be 'object' instead of 'float64' in a future version. Specify a dtype explicitly to silence this warning.\n",
      "  clusters = pd.Series(index=range(df.shape[0]))\n",
      "/var/folders/2s/3p893_4d5lx_7jjv9b9x4v9h0000gn/T/ipykernel_12052/3277860180.py:52: FutureWarning: The default dtype for empty Series will be 'object' instead of 'float64' in a future version. Specify a dtype explicitly to silence this warning.\n",
      "  clusters = pd.Series(index=range(df.shape[0]))\n",
      "/var/folders/2s/3p893_4d5lx_7jjv9b9x4v9h0000gn/T/ipykernel_12052/3277860180.py:52: FutureWarning: The default dtype for empty Series will be 'object' instead of 'float64' in a future version. Specify a dtype explicitly to silence this warning.\n",
      "  clusters = pd.Series(index=range(df.shape[0]))\n",
      "/var/folders/2s/3p893_4d5lx_7jjv9b9x4v9h0000gn/T/ipykernel_12052/3277860180.py:52: FutureWarning: The default dtype for empty Series will be 'object' instead of 'float64' in a future version. Specify a dtype explicitly to silence this warning.\n",
      "  clusters = pd.Series(index=range(df.shape[0]))\n",
      "/var/folders/2s/3p893_4d5lx_7jjv9b9x4v9h0000gn/T/ipykernel_12052/3277860180.py:52: FutureWarning: The default dtype for empty Series will be 'object' instead of 'float64' in a future version. Specify a dtype explicitly to silence this warning.\n",
      "  clusters = pd.Series(index=range(df.shape[0]))\n",
      "/var/folders/2s/3p893_4d5lx_7jjv9b9x4v9h0000gn/T/ipykernel_12052/3277860180.py:52: FutureWarning: The default dtype for empty Series will be 'object' instead of 'float64' in a future version. Specify a dtype explicitly to silence this warning.\n",
      "  clusters = pd.Series(index=range(df.shape[0]))\n",
      "/var/folders/2s/3p893_4d5lx_7jjv9b9x4v9h0000gn/T/ipykernel_12052/3277860180.py:52: FutureWarning: The default dtype for empty Series will be 'object' instead of 'float64' in a future version. Specify a dtype explicitly to silence this warning.\n",
      "  clusters = pd.Series(index=range(df.shape[0]))\n",
      "/var/folders/2s/3p893_4d5lx_7jjv9b9x4v9h0000gn/T/ipykernel_12052/3277860180.py:52: FutureWarning: The default dtype for empty Series will be 'object' instead of 'float64' in a future version. Specify a dtype explicitly to silence this warning.\n",
      "  clusters = pd.Series(index=range(df.shape[0]))\n",
      "/var/folders/2s/3p893_4d5lx_7jjv9b9x4v9h0000gn/T/ipykernel_12052/3277860180.py:52: FutureWarning: The default dtype for empty Series will be 'object' instead of 'float64' in a future version. Specify a dtype explicitly to silence this warning.\n",
      "  clusters = pd.Series(index=range(df.shape[0]))\n",
      "/var/folders/2s/3p893_4d5lx_7jjv9b9x4v9h0000gn/T/ipykernel_12052/3277860180.py:52: FutureWarning: The default dtype for empty Series will be 'object' instead of 'float64' in a future version. Specify a dtype explicitly to silence this warning.\n",
      "  clusters = pd.Series(index=range(df.shape[0]))\n",
      "/var/folders/2s/3p893_4d5lx_7jjv9b9x4v9h0000gn/T/ipykernel_12052/3277860180.py:52: FutureWarning: The default dtype for empty Series will be 'object' instead of 'float64' in a future version. Specify a dtype explicitly to silence this warning.\n",
      "  clusters = pd.Series(index=range(df.shape[0]))\n",
      "/var/folders/2s/3p893_4d5lx_7jjv9b9x4v9h0000gn/T/ipykernel_12052/3277860180.py:52: FutureWarning: The default dtype for empty Series will be 'object' instead of 'float64' in a future version. Specify a dtype explicitly to silence this warning.\n",
      "  clusters = pd.Series(index=range(df.shape[0]))\n",
      "/var/folders/2s/3p893_4d5lx_7jjv9b9x4v9h0000gn/T/ipykernel_12052/3277860180.py:52: FutureWarning: The default dtype for empty Series will be 'object' instead of 'float64' in a future version. Specify a dtype explicitly to silence this warning.\n",
      "  clusters = pd.Series(index=range(df.shape[0]))\n",
      "/var/folders/2s/3p893_4d5lx_7jjv9b9x4v9h0000gn/T/ipykernel_12052/3277860180.py:52: FutureWarning: The default dtype for empty Series will be 'object' instead of 'float64' in a future version. Specify a dtype explicitly to silence this warning.\n",
      "  clusters = pd.Series(index=range(df.shape[0]))\n",
      "/var/folders/2s/3p893_4d5lx_7jjv9b9x4v9h0000gn/T/ipykernel_12052/3277860180.py:52: FutureWarning: The default dtype for empty Series will be 'object' instead of 'float64' in a future version. Specify a dtype explicitly to silence this warning.\n",
      "  clusters = pd.Series(index=range(df.shape[0]))\n",
      "/var/folders/2s/3p893_4d5lx_7jjv9b9x4v9h0000gn/T/ipykernel_12052/3277860180.py:52: FutureWarning: The default dtype for empty Series will be 'object' instead of 'float64' in a future version. Specify a dtype explicitly to silence this warning.\n",
      "  clusters = pd.Series(index=range(df.shape[0]))\n"
     ]
    },
    {
     "name": "stderr",
     "output_type": "stream",
     "text": [
      "/var/folders/2s/3p893_4d5lx_7jjv9b9x4v9h0000gn/T/ipykernel_12052/3277860180.py:52: FutureWarning: The default dtype for empty Series will be 'object' instead of 'float64' in a future version. Specify a dtype explicitly to silence this warning.\n",
      "  clusters = pd.Series(index=range(df.shape[0]))\n",
      "/var/folders/2s/3p893_4d5lx_7jjv9b9x4v9h0000gn/T/ipykernel_12052/3277860180.py:52: FutureWarning: The default dtype for empty Series will be 'object' instead of 'float64' in a future version. Specify a dtype explicitly to silence this warning.\n",
      "  clusters = pd.Series(index=range(df.shape[0]))\n",
      "/var/folders/2s/3p893_4d5lx_7jjv9b9x4v9h0000gn/T/ipykernel_12052/3277860180.py:52: FutureWarning: The default dtype for empty Series will be 'object' instead of 'float64' in a future version. Specify a dtype explicitly to silence this warning.\n",
      "  clusters = pd.Series(index=range(df.shape[0]))\n",
      "/var/folders/2s/3p893_4d5lx_7jjv9b9x4v9h0000gn/T/ipykernel_12052/3277860180.py:52: FutureWarning: The default dtype for empty Series will be 'object' instead of 'float64' in a future version. Specify a dtype explicitly to silence this warning.\n",
      "  clusters = pd.Series(index=range(df.shape[0]))\n",
      "/var/folders/2s/3p893_4d5lx_7jjv9b9x4v9h0000gn/T/ipykernel_12052/3277860180.py:52: FutureWarning: The default dtype for empty Series will be 'object' instead of 'float64' in a future version. Specify a dtype explicitly to silence this warning.\n",
      "  clusters = pd.Series(index=range(df.shape[0]))\n"
     ]
    },
    {
     "name": "stdout",
     "output_type": "stream",
     "text": [
      "Optimal number of clusters for landsat is: 14\n"
     ]
    },
    {
     "name": "stderr",
     "output_type": "stream",
     "text": [
      "/var/folders/2s/3p893_4d5lx_7jjv9b9x4v9h0000gn/T/ipykernel_12052/3277860180.py:18: FutureWarning: The default dtype for empty Series will be 'object' instead of 'float64' in a future version. Specify a dtype explicitly to silence this warning.\n",
      "  cluster = pd.Series(index=range(df.shape[0]))\n",
      "/var/folders/2s/3p893_4d5lx_7jjv9b9x4v9h0000gn/T/ipykernel_12052/3277860180.py:30: FutureWarning: The default dtype for empty Series will be 'object' instead of 'float64' in a future version. Specify a dtype explicitly to silence this warning.\n",
      "  cluster = pd.Series(index=range(df.shape[0]))\n",
      "/var/folders/2s/3p893_4d5lx_7jjv9b9x4v9h0000gn/T/ipykernel_12052/3277860180.py:30: FutureWarning: The default dtype for empty Series will be 'object' instead of 'float64' in a future version. Specify a dtype explicitly to silence this warning.\n",
      "  cluster = pd.Series(index=range(df.shape[0]))\n",
      "/var/folders/2s/3p893_4d5lx_7jjv9b9x4v9h0000gn/T/ipykernel_12052/3277860180.py:30: FutureWarning: The default dtype for empty Series will be 'object' instead of 'float64' in a future version. Specify a dtype explicitly to silence this warning.\n",
      "  cluster = pd.Series(index=range(df.shape[0]))\n",
      "/var/folders/2s/3p893_4d5lx_7jjv9b9x4v9h0000gn/T/ipykernel_12052/3277860180.py:30: FutureWarning: The default dtype for empty Series will be 'object' instead of 'float64' in a future version. Specify a dtype explicitly to silence this warning.\n",
      "  cluster = pd.Series(index=range(df.shape[0]))\n",
      "/var/folders/2s/3p893_4d5lx_7jjv9b9x4v9h0000gn/T/ipykernel_12052/3277860180.py:30: FutureWarning: The default dtype for empty Series will be 'object' instead of 'float64' in a future version. Specify a dtype explicitly to silence this warning.\n",
      "  cluster = pd.Series(index=range(df.shape[0]))\n",
      "/var/folders/2s/3p893_4d5lx_7jjv9b9x4v9h0000gn/T/ipykernel_12052/3277860180.py:30: FutureWarning: The default dtype for empty Series will be 'object' instead of 'float64' in a future version. Specify a dtype explicitly to silence this warning.\n",
      "  cluster = pd.Series(index=range(df.shape[0]))\n",
      "/var/folders/2s/3p893_4d5lx_7jjv9b9x4v9h0000gn/T/ipykernel_12052/3277860180.py:30: FutureWarning: The default dtype for empty Series will be 'object' instead of 'float64' in a future version. Specify a dtype explicitly to silence this warning.\n",
      "  cluster = pd.Series(index=range(df.shape[0]))\n",
      "/var/folders/2s/3p893_4d5lx_7jjv9b9x4v9h0000gn/T/ipykernel_12052/3277860180.py:30: FutureWarning: The default dtype for empty Series will be 'object' instead of 'float64' in a future version. Specify a dtype explicitly to silence this warning.\n",
      "  cluster = pd.Series(index=range(df.shape[0]))\n",
      "/var/folders/2s/3p893_4d5lx_7jjv9b9x4v9h0000gn/T/ipykernel_12052/3277860180.py:30: FutureWarning: The default dtype for empty Series will be 'object' instead of 'float64' in a future version. Specify a dtype explicitly to silence this warning.\n",
      "  cluster = pd.Series(index=range(df.shape[0]))\n",
      "/var/folders/2s/3p893_4d5lx_7jjv9b9x4v9h0000gn/T/ipykernel_12052/3277860180.py:30: FutureWarning: The default dtype for empty Series will be 'object' instead of 'float64' in a future version. Specify a dtype explicitly to silence this warning.\n",
      "  cluster = pd.Series(index=range(df.shape[0]))\n",
      "/var/folders/2s/3p893_4d5lx_7jjv9b9x4v9h0000gn/T/ipykernel_12052/3277860180.py:30: FutureWarning: The default dtype for empty Series will be 'object' instead of 'float64' in a future version. Specify a dtype explicitly to silence this warning.\n",
      "  cluster = pd.Series(index=range(df.shape[0]))\n",
      "/var/folders/2s/3p893_4d5lx_7jjv9b9x4v9h0000gn/T/ipykernel_12052/3277860180.py:30: FutureWarning: The default dtype for empty Series will be 'object' instead of 'float64' in a future version. Specify a dtype explicitly to silence this warning.\n",
      "  cluster = pd.Series(index=range(df.shape[0]))\n",
      "/var/folders/2s/3p893_4d5lx_7jjv9b9x4v9h0000gn/T/ipykernel_12052/3277860180.py:30: FutureWarning: The default dtype for empty Series will be 'object' instead of 'float64' in a future version. Specify a dtype explicitly to silence this warning.\n",
      "  cluster = pd.Series(index=range(df.shape[0]))\n",
      "/var/folders/2s/3p893_4d5lx_7jjv9b9x4v9h0000gn/T/ipykernel_12052/3277860180.py:30: FutureWarning: The default dtype for empty Series will be 'object' instead of 'float64' in a future version. Specify a dtype explicitly to silence this warning.\n",
      "  cluster = pd.Series(index=range(df.shape[0]))\n",
      "/var/folders/2s/3p893_4d5lx_7jjv9b9x4v9h0000gn/T/ipykernel_12052/3277860180.py:30: FutureWarning: The default dtype for empty Series will be 'object' instead of 'float64' in a future version. Specify a dtype explicitly to silence this warning.\n",
      "  cluster = pd.Series(index=range(df.shape[0]))\n",
      "/var/folders/2s/3p893_4d5lx_7jjv9b9x4v9h0000gn/T/ipykernel_12052/3277860180.py:30: FutureWarning: The default dtype for empty Series will be 'object' instead of 'float64' in a future version. Specify a dtype explicitly to silence this warning.\n",
      "  cluster = pd.Series(index=range(df.shape[0]))\n",
      "/var/folders/2s/3p893_4d5lx_7jjv9b9x4v9h0000gn/T/ipykernel_12052/3277860180.py:30: FutureWarning: The default dtype for empty Series will be 'object' instead of 'float64' in a future version. Specify a dtype explicitly to silence this warning.\n",
      "  cluster = pd.Series(index=range(df.shape[0]))\n",
      "/var/folders/2s/3p893_4d5lx_7jjv9b9x4v9h0000gn/T/ipykernel_12052/3277860180.py:30: FutureWarning: The default dtype for empty Series will be 'object' instead of 'float64' in a future version. Specify a dtype explicitly to silence this warning.\n",
      "  cluster = pd.Series(index=range(df.shape[0]))\n",
      "/var/folders/2s/3p893_4d5lx_7jjv9b9x4v9h0000gn/T/ipykernel_12052/3277860180.py:30: FutureWarning: The default dtype for empty Series will be 'object' instead of 'float64' in a future version. Specify a dtype explicitly to silence this warning.\n",
      "  cluster = pd.Series(index=range(df.shape[0]))\n",
      "/var/folders/2s/3p893_4d5lx_7jjv9b9x4v9h0000gn/T/ipykernel_12052/3277860180.py:30: FutureWarning: The default dtype for empty Series will be 'object' instead of 'float64' in a future version. Specify a dtype explicitly to silence this warning.\n",
      "  cluster = pd.Series(index=range(df.shape[0]))\n",
      "/var/folders/2s/3p893_4d5lx_7jjv9b9x4v9h0000gn/T/ipykernel_12052/3277860180.py:30: FutureWarning: The default dtype for empty Series will be 'object' instead of 'float64' in a future version. Specify a dtype explicitly to silence this warning.\n",
      "  cluster = pd.Series(index=range(df.shape[0]))\n",
      "/var/folders/2s/3p893_4d5lx_7jjv9b9x4v9h0000gn/T/ipykernel_12052/3277860180.py:30: FutureWarning: The default dtype for empty Series will be 'object' instead of 'float64' in a future version. Specify a dtype explicitly to silence this warning.\n",
      "  cluster = pd.Series(index=range(df.shape[0]))\n",
      "/var/folders/2s/3p893_4d5lx_7jjv9b9x4v9h0000gn/T/ipykernel_12052/3277860180.py:30: FutureWarning: The default dtype for empty Series will be 'object' instead of 'float64' in a future version. Specify a dtype explicitly to silence this warning.\n",
      "  cluster = pd.Series(index=range(df.shape[0]))\n",
      "/var/folders/2s/3p893_4d5lx_7jjv9b9x4v9h0000gn/T/ipykernel_12052/3277860180.py:30: FutureWarning: The default dtype for empty Series will be 'object' instead of 'float64' in a future version. Specify a dtype explicitly to silence this warning.\n",
      "  cluster = pd.Series(index=range(df.shape[0]))\n",
      "/var/folders/2s/3p893_4d5lx_7jjv9b9x4v9h0000gn/T/ipykernel_12052/3277860180.py:30: FutureWarning: The default dtype for empty Series will be 'object' instead of 'float64' in a future version. Specify a dtype explicitly to silence this warning.\n",
      "  cluster = pd.Series(index=range(df.shape[0]))\n",
      "/var/folders/2s/3p893_4d5lx_7jjv9b9x4v9h0000gn/T/ipykernel_12052/3277860180.py:18: FutureWarning: The default dtype for empty Series will be 'object' instead of 'float64' in a future version. Specify a dtype explicitly to silence this warning.\n",
      "  cluster = pd.Series(index=range(df.shape[0]))\n",
      "/var/folders/2s/3p893_4d5lx_7jjv9b9x4v9h0000gn/T/ipykernel_12052/3277860180.py:30: FutureWarning: The default dtype for empty Series will be 'object' instead of 'float64' in a future version. Specify a dtype explicitly to silence this warning.\n",
      "  cluster = pd.Series(index=range(df.shape[0]))\n",
      "/var/folders/2s/3p893_4d5lx_7jjv9b9x4v9h0000gn/T/ipykernel_12052/3277860180.py:30: FutureWarning: The default dtype for empty Series will be 'object' instead of 'float64' in a future version. Specify a dtype explicitly to silence this warning.\n",
      "  cluster = pd.Series(index=range(df.shape[0]))\n"
     ]
    },
    {
     "name": "stderr",
     "output_type": "stream",
     "text": [
      "/var/folders/2s/3p893_4d5lx_7jjv9b9x4v9h0000gn/T/ipykernel_12052/3277860180.py:30: FutureWarning: The default dtype for empty Series will be 'object' instead of 'float64' in a future version. Specify a dtype explicitly to silence this warning.\n",
      "  cluster = pd.Series(index=range(df.shape[0]))\n",
      "/var/folders/2s/3p893_4d5lx_7jjv9b9x4v9h0000gn/T/ipykernel_12052/3277860180.py:30: FutureWarning: The default dtype for empty Series will be 'object' instead of 'float64' in a future version. Specify a dtype explicitly to silence this warning.\n",
      "  cluster = pd.Series(index=range(df.shape[0]))\n",
      "/var/folders/2s/3p893_4d5lx_7jjv9b9x4v9h0000gn/T/ipykernel_12052/3277860180.py:30: FutureWarning: The default dtype for empty Series will be 'object' instead of 'float64' in a future version. Specify a dtype explicitly to silence this warning.\n",
      "  cluster = pd.Series(index=range(df.shape[0]))\n",
      "/var/folders/2s/3p893_4d5lx_7jjv9b9x4v9h0000gn/T/ipykernel_12052/3277860180.py:30: FutureWarning: The default dtype for empty Series will be 'object' instead of 'float64' in a future version. Specify a dtype explicitly to silence this warning.\n",
      "  cluster = pd.Series(index=range(df.shape[0]))\n",
      "/var/folders/2s/3p893_4d5lx_7jjv9b9x4v9h0000gn/T/ipykernel_12052/3277860180.py:30: FutureWarning: The default dtype for empty Series will be 'object' instead of 'float64' in a future version. Specify a dtype explicitly to silence this warning.\n",
      "  cluster = pd.Series(index=range(df.shape[0]))\n",
      "/var/folders/2s/3p893_4d5lx_7jjv9b9x4v9h0000gn/T/ipykernel_12052/3277860180.py:30: FutureWarning: The default dtype for empty Series will be 'object' instead of 'float64' in a future version. Specify a dtype explicitly to silence this warning.\n",
      "  cluster = pd.Series(index=range(df.shape[0]))\n",
      "/var/folders/2s/3p893_4d5lx_7jjv9b9x4v9h0000gn/T/ipykernel_12052/3277860180.py:30: FutureWarning: The default dtype for empty Series will be 'object' instead of 'float64' in a future version. Specify a dtype explicitly to silence this warning.\n",
      "  cluster = pd.Series(index=range(df.shape[0]))\n",
      "/var/folders/2s/3p893_4d5lx_7jjv9b9x4v9h0000gn/T/ipykernel_12052/3277860180.py:30: FutureWarning: The default dtype for empty Series will be 'object' instead of 'float64' in a future version. Specify a dtype explicitly to silence this warning.\n",
      "  cluster = pd.Series(index=range(df.shape[0]))\n",
      "/var/folders/2s/3p893_4d5lx_7jjv9b9x4v9h0000gn/T/ipykernel_12052/3277860180.py:30: FutureWarning: The default dtype for empty Series will be 'object' instead of 'float64' in a future version. Specify a dtype explicitly to silence this warning.\n",
      "  cluster = pd.Series(index=range(df.shape[0]))\n",
      "/var/folders/2s/3p893_4d5lx_7jjv9b9x4v9h0000gn/T/ipykernel_12052/3277860180.py:30: FutureWarning: The default dtype for empty Series will be 'object' instead of 'float64' in a future version. Specify a dtype explicitly to silence this warning.\n",
      "  cluster = pd.Series(index=range(df.shape[0]))\n",
      "/var/folders/2s/3p893_4d5lx_7jjv9b9x4v9h0000gn/T/ipykernel_12052/3277860180.py:30: FutureWarning: The default dtype for empty Series will be 'object' instead of 'float64' in a future version. Specify a dtype explicitly to silence this warning.\n",
      "  cluster = pd.Series(index=range(df.shape[0]))\n",
      "/var/folders/2s/3p893_4d5lx_7jjv9b9x4v9h0000gn/T/ipykernel_12052/3277860180.py:30: FutureWarning: The default dtype for empty Series will be 'object' instead of 'float64' in a future version. Specify a dtype explicitly to silence this warning.\n",
      "  cluster = pd.Series(index=range(df.shape[0]))\n",
      "/var/folders/2s/3p893_4d5lx_7jjv9b9x4v9h0000gn/T/ipykernel_12052/3277860180.py:30: FutureWarning: The default dtype for empty Series will be 'object' instead of 'float64' in a future version. Specify a dtype explicitly to silence this warning.\n",
      "  cluster = pd.Series(index=range(df.shape[0]))\n",
      "/var/folders/2s/3p893_4d5lx_7jjv9b9x4v9h0000gn/T/ipykernel_12052/3277860180.py:30: FutureWarning: The default dtype for empty Series will be 'object' instead of 'float64' in a future version. Specify a dtype explicitly to silence this warning.\n",
      "  cluster = pd.Series(index=range(df.shape[0]))\n",
      "/var/folders/2s/3p893_4d5lx_7jjv9b9x4v9h0000gn/T/ipykernel_12052/3277860180.py:30: FutureWarning: The default dtype for empty Series will be 'object' instead of 'float64' in a future version. Specify a dtype explicitly to silence this warning.\n",
      "  cluster = pd.Series(index=range(df.shape[0]))\n",
      "/var/folders/2s/3p893_4d5lx_7jjv9b9x4v9h0000gn/T/ipykernel_12052/3277860180.py:30: FutureWarning: The default dtype for empty Series will be 'object' instead of 'float64' in a future version. Specify a dtype explicitly to silence this warning.\n",
      "  cluster = pd.Series(index=range(df.shape[0]))\n",
      "/var/folders/2s/3p893_4d5lx_7jjv9b9x4v9h0000gn/T/ipykernel_12052/3277860180.py:30: FutureWarning: The default dtype for empty Series will be 'object' instead of 'float64' in a future version. Specify a dtype explicitly to silence this warning.\n",
      "  cluster = pd.Series(index=range(df.shape[0]))\n",
      "/var/folders/2s/3p893_4d5lx_7jjv9b9x4v9h0000gn/T/ipykernel_12052/3277860180.py:30: FutureWarning: The default dtype for empty Series will be 'object' instead of 'float64' in a future version. Specify a dtype explicitly to silence this warning.\n",
      "  cluster = pd.Series(index=range(df.shape[0]))\n",
      "/var/folders/2s/3p893_4d5lx_7jjv9b9x4v9h0000gn/T/ipykernel_12052/3277860180.py:30: FutureWarning: The default dtype for empty Series will be 'object' instead of 'float64' in a future version. Specify a dtype explicitly to silence this warning.\n",
      "  cluster = pd.Series(index=range(df.shape[0]))\n",
      "/var/folders/2s/3p893_4d5lx_7jjv9b9x4v9h0000gn/T/ipykernel_12052/3277860180.py:30: FutureWarning: The default dtype for empty Series will be 'object' instead of 'float64' in a future version. Specify a dtype explicitly to silence this warning.\n",
      "  cluster = pd.Series(index=range(df.shape[0]))\n",
      "/var/folders/2s/3p893_4d5lx_7jjv9b9x4v9h0000gn/T/ipykernel_12052/3277860180.py:30: FutureWarning: The default dtype for empty Series will be 'object' instead of 'float64' in a future version. Specify a dtype explicitly to silence this warning.\n",
      "  cluster = pd.Series(index=range(df.shape[0]))\n",
      "/var/folders/2s/3p893_4d5lx_7jjv9b9x4v9h0000gn/T/ipykernel_12052/3277860180.py:18: FutureWarning: The default dtype for empty Series will be 'object' instead of 'float64' in a future version. Specify a dtype explicitly to silence this warning.\n",
      "  cluster = pd.Series(index=range(df.shape[0]))\n",
      "/var/folders/2s/3p893_4d5lx_7jjv9b9x4v9h0000gn/T/ipykernel_12052/3277860180.py:30: FutureWarning: The default dtype for empty Series will be 'object' instead of 'float64' in a future version. Specify a dtype explicitly to silence this warning.\n",
      "  cluster = pd.Series(index=range(df.shape[0]))\n",
      "/var/folders/2s/3p893_4d5lx_7jjv9b9x4v9h0000gn/T/ipykernel_12052/3277860180.py:30: FutureWarning: The default dtype for empty Series will be 'object' instead of 'float64' in a future version. Specify a dtype explicitly to silence this warning.\n",
      "  cluster = pd.Series(index=range(df.shape[0]))\n",
      "/var/folders/2s/3p893_4d5lx_7jjv9b9x4v9h0000gn/T/ipykernel_12052/3277860180.py:30: FutureWarning: The default dtype for empty Series will be 'object' instead of 'float64' in a future version. Specify a dtype explicitly to silence this warning.\n",
      "  cluster = pd.Series(index=range(df.shape[0]))\n",
      "/var/folders/2s/3p893_4d5lx_7jjv9b9x4v9h0000gn/T/ipykernel_12052/3277860180.py:30: FutureWarning: The default dtype for empty Series will be 'object' instead of 'float64' in a future version. Specify a dtype explicitly to silence this warning.\n",
      "  cluster = pd.Series(index=range(df.shape[0]))\n",
      "/var/folders/2s/3p893_4d5lx_7jjv9b9x4v9h0000gn/T/ipykernel_12052/3277860180.py:30: FutureWarning: The default dtype for empty Series will be 'object' instead of 'float64' in a future version. Specify a dtype explicitly to silence this warning.\n",
      "  cluster = pd.Series(index=range(df.shape[0]))\n",
      "/var/folders/2s/3p893_4d5lx_7jjv9b9x4v9h0000gn/T/ipykernel_12052/3277860180.py:30: FutureWarning: The default dtype for empty Series will be 'object' instead of 'float64' in a future version. Specify a dtype explicitly to silence this warning.\n",
      "  cluster = pd.Series(index=range(df.shape[0]))\n",
      "/var/folders/2s/3p893_4d5lx_7jjv9b9x4v9h0000gn/T/ipykernel_12052/3277860180.py:30: FutureWarning: The default dtype for empty Series will be 'object' instead of 'float64' in a future version. Specify a dtype explicitly to silence this warning.\n",
      "  cluster = pd.Series(index=range(df.shape[0]))\n"
     ]
    },
    {
     "name": "stderr",
     "output_type": "stream",
     "text": [
      "/var/folders/2s/3p893_4d5lx_7jjv9b9x4v9h0000gn/T/ipykernel_12052/3277860180.py:30: FutureWarning: The default dtype for empty Series will be 'object' instead of 'float64' in a future version. Specify a dtype explicitly to silence this warning.\n",
      "  cluster = pd.Series(index=range(df.shape[0]))\n",
      "/var/folders/2s/3p893_4d5lx_7jjv9b9x4v9h0000gn/T/ipykernel_12052/3277860180.py:30: FutureWarning: The default dtype for empty Series will be 'object' instead of 'float64' in a future version. Specify a dtype explicitly to silence this warning.\n",
      "  cluster = pd.Series(index=range(df.shape[0]))\n",
      "/var/folders/2s/3p893_4d5lx_7jjv9b9x4v9h0000gn/T/ipykernel_12052/3277860180.py:30: FutureWarning: The default dtype for empty Series will be 'object' instead of 'float64' in a future version. Specify a dtype explicitly to silence this warning.\n",
      "  cluster = pd.Series(index=range(df.shape[0]))\n",
      "/var/folders/2s/3p893_4d5lx_7jjv9b9x4v9h0000gn/T/ipykernel_12052/3277860180.py:30: FutureWarning: The default dtype for empty Series will be 'object' instead of 'float64' in a future version. Specify a dtype explicitly to silence this warning.\n",
      "  cluster = pd.Series(index=range(df.shape[0]))\n",
      "/var/folders/2s/3p893_4d5lx_7jjv9b9x4v9h0000gn/T/ipykernel_12052/3277860180.py:30: FutureWarning: The default dtype for empty Series will be 'object' instead of 'float64' in a future version. Specify a dtype explicitly to silence this warning.\n",
      "  cluster = pd.Series(index=range(df.shape[0]))\n",
      "/var/folders/2s/3p893_4d5lx_7jjv9b9x4v9h0000gn/T/ipykernel_12052/3277860180.py:30: FutureWarning: The default dtype for empty Series will be 'object' instead of 'float64' in a future version. Specify a dtype explicitly to silence this warning.\n",
      "  cluster = pd.Series(index=range(df.shape[0]))\n",
      "/var/folders/2s/3p893_4d5lx_7jjv9b9x4v9h0000gn/T/ipykernel_12052/3277860180.py:30: FutureWarning: The default dtype for empty Series will be 'object' instead of 'float64' in a future version. Specify a dtype explicitly to silence this warning.\n",
      "  cluster = pd.Series(index=range(df.shape[0]))\n",
      "/var/folders/2s/3p893_4d5lx_7jjv9b9x4v9h0000gn/T/ipykernel_12052/3277860180.py:30: FutureWarning: The default dtype for empty Series will be 'object' instead of 'float64' in a future version. Specify a dtype explicitly to silence this warning.\n",
      "  cluster = pd.Series(index=range(df.shape[0]))\n",
      "/var/folders/2s/3p893_4d5lx_7jjv9b9x4v9h0000gn/T/ipykernel_12052/3277860180.py:30: FutureWarning: The default dtype for empty Series will be 'object' instead of 'float64' in a future version. Specify a dtype explicitly to silence this warning.\n",
      "  cluster = pd.Series(index=range(df.shape[0]))\n",
      "/var/folders/2s/3p893_4d5lx_7jjv9b9x4v9h0000gn/T/ipykernel_12052/3277860180.py:30: FutureWarning: The default dtype for empty Series will be 'object' instead of 'float64' in a future version. Specify a dtype explicitly to silence this warning.\n",
      "  cluster = pd.Series(index=range(df.shape[0]))\n",
      "/var/folders/2s/3p893_4d5lx_7jjv9b9x4v9h0000gn/T/ipykernel_12052/3277860180.py:18: FutureWarning: The default dtype for empty Series will be 'object' instead of 'float64' in a future version. Specify a dtype explicitly to silence this warning.\n",
      "  cluster = pd.Series(index=range(df.shape[0]))\n",
      "/var/folders/2s/3p893_4d5lx_7jjv9b9x4v9h0000gn/T/ipykernel_12052/3277860180.py:30: FutureWarning: The default dtype for empty Series will be 'object' instead of 'float64' in a future version. Specify a dtype explicitly to silence this warning.\n",
      "  cluster = pd.Series(index=range(df.shape[0]))\n",
      "/var/folders/2s/3p893_4d5lx_7jjv9b9x4v9h0000gn/T/ipykernel_12052/3277860180.py:30: FutureWarning: The default dtype for empty Series will be 'object' instead of 'float64' in a future version. Specify a dtype explicitly to silence this warning.\n",
      "  cluster = pd.Series(index=range(df.shape[0]))\n",
      "/var/folders/2s/3p893_4d5lx_7jjv9b9x4v9h0000gn/T/ipykernel_12052/3277860180.py:30: FutureWarning: The default dtype for empty Series will be 'object' instead of 'float64' in a future version. Specify a dtype explicitly to silence this warning.\n",
      "  cluster = pd.Series(index=range(df.shape[0]))\n",
      "/var/folders/2s/3p893_4d5lx_7jjv9b9x4v9h0000gn/T/ipykernel_12052/3277860180.py:30: FutureWarning: The default dtype for empty Series will be 'object' instead of 'float64' in a future version. Specify a dtype explicitly to silence this warning.\n",
      "  cluster = pd.Series(index=range(df.shape[0]))\n",
      "/var/folders/2s/3p893_4d5lx_7jjv9b9x4v9h0000gn/T/ipykernel_12052/3277860180.py:30: FutureWarning: The default dtype for empty Series will be 'object' instead of 'float64' in a future version. Specify a dtype explicitly to silence this warning.\n",
      "  cluster = pd.Series(index=range(df.shape[0]))\n",
      "/var/folders/2s/3p893_4d5lx_7jjv9b9x4v9h0000gn/T/ipykernel_12052/3277860180.py:30: FutureWarning: The default dtype for empty Series will be 'object' instead of 'float64' in a future version. Specify a dtype explicitly to silence this warning.\n",
      "  cluster = pd.Series(index=range(df.shape[0]))\n",
      "/var/folders/2s/3p893_4d5lx_7jjv9b9x4v9h0000gn/T/ipykernel_12052/3277860180.py:30: FutureWarning: The default dtype for empty Series will be 'object' instead of 'float64' in a future version. Specify a dtype explicitly to silence this warning.\n",
      "  cluster = pd.Series(index=range(df.shape[0]))\n",
      "/var/folders/2s/3p893_4d5lx_7jjv9b9x4v9h0000gn/T/ipykernel_12052/3277860180.py:30: FutureWarning: The default dtype for empty Series will be 'object' instead of 'float64' in a future version. Specify a dtype explicitly to silence this warning.\n",
      "  cluster = pd.Series(index=range(df.shape[0]))\n",
      "/var/folders/2s/3p893_4d5lx_7jjv9b9x4v9h0000gn/T/ipykernel_12052/3277860180.py:30: FutureWarning: The default dtype for empty Series will be 'object' instead of 'float64' in a future version. Specify a dtype explicitly to silence this warning.\n",
      "  cluster = pd.Series(index=range(df.shape[0]))\n",
      "/var/folders/2s/3p893_4d5lx_7jjv9b9x4v9h0000gn/T/ipykernel_12052/3277860180.py:30: FutureWarning: The default dtype for empty Series will be 'object' instead of 'float64' in a future version. Specify a dtype explicitly to silence this warning.\n",
      "  cluster = pd.Series(index=range(df.shape[0]))\n",
      "/var/folders/2s/3p893_4d5lx_7jjv9b9x4v9h0000gn/T/ipykernel_12052/3277860180.py:30: FutureWarning: The default dtype for empty Series will be 'object' instead of 'float64' in a future version. Specify a dtype explicitly to silence this warning.\n",
      "  cluster = pd.Series(index=range(df.shape[0]))\n",
      "/var/folders/2s/3p893_4d5lx_7jjv9b9x4v9h0000gn/T/ipykernel_12052/3277860180.py:30: FutureWarning: The default dtype for empty Series will be 'object' instead of 'float64' in a future version. Specify a dtype explicitly to silence this warning.\n",
      "  cluster = pd.Series(index=range(df.shape[0]))\n",
      "/var/folders/2s/3p893_4d5lx_7jjv9b9x4v9h0000gn/T/ipykernel_12052/3277860180.py:30: FutureWarning: The default dtype for empty Series will be 'object' instead of 'float64' in a future version. Specify a dtype explicitly to silence this warning.\n",
      "  cluster = pd.Series(index=range(df.shape[0]))\n",
      "/var/folders/2s/3p893_4d5lx_7jjv9b9x4v9h0000gn/T/ipykernel_12052/3277860180.py:30: FutureWarning: The default dtype for empty Series will be 'object' instead of 'float64' in a future version. Specify a dtype explicitly to silence this warning.\n",
      "  cluster = pd.Series(index=range(df.shape[0]))\n",
      "/var/folders/2s/3p893_4d5lx_7jjv9b9x4v9h0000gn/T/ipykernel_12052/3277860180.py:30: FutureWarning: The default dtype for empty Series will be 'object' instead of 'float64' in a future version. Specify a dtype explicitly to silence this warning.\n",
      "  cluster = pd.Series(index=range(df.shape[0]))\n",
      "/var/folders/2s/3p893_4d5lx_7jjv9b9x4v9h0000gn/T/ipykernel_12052/3277860180.py:30: FutureWarning: The default dtype for empty Series will be 'object' instead of 'float64' in a future version. Specify a dtype explicitly to silence this warning.\n",
      "  cluster = pd.Series(index=range(df.shape[0]))\n",
      "/var/folders/2s/3p893_4d5lx_7jjv9b9x4v9h0000gn/T/ipykernel_12052/3277860180.py:30: FutureWarning: The default dtype for empty Series will be 'object' instead of 'float64' in a future version. Specify a dtype explicitly to silence this warning.\n",
      "  cluster = pd.Series(index=range(df.shape[0]))\n",
      "/var/folders/2s/3p893_4d5lx_7jjv9b9x4v9h0000gn/T/ipykernel_12052/3277860180.py:18: FutureWarning: The default dtype for empty Series will be 'object' instead of 'float64' in a future version. Specify a dtype explicitly to silence this warning.\n",
      "  cluster = pd.Series(index=range(df.shape[0]))\n",
      "/var/folders/2s/3p893_4d5lx_7jjv9b9x4v9h0000gn/T/ipykernel_12052/3277860180.py:30: FutureWarning: The default dtype for empty Series will be 'object' instead of 'float64' in a future version. Specify a dtype explicitly to silence this warning.\n",
      "  cluster = pd.Series(index=range(df.shape[0]))\n",
      "/var/folders/2s/3p893_4d5lx_7jjv9b9x4v9h0000gn/T/ipykernel_12052/3277860180.py:30: FutureWarning: The default dtype for empty Series will be 'object' instead of 'float64' in a future version. Specify a dtype explicitly to silence this warning.\n",
      "  cluster = pd.Series(index=range(df.shape[0]))\n",
      "/var/folders/2s/3p893_4d5lx_7jjv9b9x4v9h0000gn/T/ipykernel_12052/3277860180.py:30: FutureWarning: The default dtype for empty Series will be 'object' instead of 'float64' in a future version. Specify a dtype explicitly to silence this warning.\n",
      "  cluster = pd.Series(index=range(df.shape[0]))\n",
      "/var/folders/2s/3p893_4d5lx_7jjv9b9x4v9h0000gn/T/ipykernel_12052/3277860180.py:30: FutureWarning: The default dtype for empty Series will be 'object' instead of 'float64' in a future version. Specify a dtype explicitly to silence this warning.\n",
      "  cluster = pd.Series(index=range(df.shape[0]))\n"
     ]
    },
    {
     "name": "stderr",
     "output_type": "stream",
     "text": [
      "/var/folders/2s/3p893_4d5lx_7jjv9b9x4v9h0000gn/T/ipykernel_12052/3277860180.py:30: FutureWarning: The default dtype for empty Series will be 'object' instead of 'float64' in a future version. Specify a dtype explicitly to silence this warning.\n",
      "  cluster = pd.Series(index=range(df.shape[0]))\n",
      "/var/folders/2s/3p893_4d5lx_7jjv9b9x4v9h0000gn/T/ipykernel_12052/3277860180.py:30: FutureWarning: The default dtype for empty Series will be 'object' instead of 'float64' in a future version. Specify a dtype explicitly to silence this warning.\n",
      "  cluster = pd.Series(index=range(df.shape[0]))\n",
      "/var/folders/2s/3p893_4d5lx_7jjv9b9x4v9h0000gn/T/ipykernel_12052/3277860180.py:30: FutureWarning: The default dtype for empty Series will be 'object' instead of 'float64' in a future version. Specify a dtype explicitly to silence this warning.\n",
      "  cluster = pd.Series(index=range(df.shape[0]))\n",
      "/var/folders/2s/3p893_4d5lx_7jjv9b9x4v9h0000gn/T/ipykernel_12052/3277860180.py:30: FutureWarning: The default dtype for empty Series will be 'object' instead of 'float64' in a future version. Specify a dtype explicitly to silence this warning.\n",
      "  cluster = pd.Series(index=range(df.shape[0]))\n",
      "/var/folders/2s/3p893_4d5lx_7jjv9b9x4v9h0000gn/T/ipykernel_12052/3277860180.py:30: FutureWarning: The default dtype for empty Series will be 'object' instead of 'float64' in a future version. Specify a dtype explicitly to silence this warning.\n",
      "  cluster = pd.Series(index=range(df.shape[0]))\n",
      "/var/folders/2s/3p893_4d5lx_7jjv9b9x4v9h0000gn/T/ipykernel_12052/3277860180.py:30: FutureWarning: The default dtype for empty Series will be 'object' instead of 'float64' in a future version. Specify a dtype explicitly to silence this warning.\n",
      "  cluster = pd.Series(index=range(df.shape[0]))\n",
      "/var/folders/2s/3p893_4d5lx_7jjv9b9x4v9h0000gn/T/ipykernel_12052/3277860180.py:30: FutureWarning: The default dtype for empty Series will be 'object' instead of 'float64' in a future version. Specify a dtype explicitly to silence this warning.\n",
      "  cluster = pd.Series(index=range(df.shape[0]))\n",
      "/var/folders/2s/3p893_4d5lx_7jjv9b9x4v9h0000gn/T/ipykernel_12052/3277860180.py:30: FutureWarning: The default dtype for empty Series will be 'object' instead of 'float64' in a future version. Specify a dtype explicitly to silence this warning.\n",
      "  cluster = pd.Series(index=range(df.shape[0]))\n",
      "/var/folders/2s/3p893_4d5lx_7jjv9b9x4v9h0000gn/T/ipykernel_12052/3277860180.py:30: FutureWarning: The default dtype for empty Series will be 'object' instead of 'float64' in a future version. Specify a dtype explicitly to silence this warning.\n",
      "  cluster = pd.Series(index=range(df.shape[0]))\n",
      "/var/folders/2s/3p893_4d5lx_7jjv9b9x4v9h0000gn/T/ipykernel_12052/3277860180.py:30: FutureWarning: The default dtype for empty Series will be 'object' instead of 'float64' in a future version. Specify a dtype explicitly to silence this warning.\n",
      "  cluster = pd.Series(index=range(df.shape[0]))\n",
      "/var/folders/2s/3p893_4d5lx_7jjv9b9x4v9h0000gn/T/ipykernel_12052/3277860180.py:30: FutureWarning: The default dtype for empty Series will be 'object' instead of 'float64' in a future version. Specify a dtype explicitly to silence this warning.\n",
      "  cluster = pd.Series(index=range(df.shape[0]))\n",
      "/var/folders/2s/3p893_4d5lx_7jjv9b9x4v9h0000gn/T/ipykernel_12052/3277860180.py:18: FutureWarning: The default dtype for empty Series will be 'object' instead of 'float64' in a future version. Specify a dtype explicitly to silence this warning.\n",
      "  cluster = pd.Series(index=range(df.shape[0]))\n",
      "/var/folders/2s/3p893_4d5lx_7jjv9b9x4v9h0000gn/T/ipykernel_12052/3277860180.py:30: FutureWarning: The default dtype for empty Series will be 'object' instead of 'float64' in a future version. Specify a dtype explicitly to silence this warning.\n",
      "  cluster = pd.Series(index=range(df.shape[0]))\n",
      "/var/folders/2s/3p893_4d5lx_7jjv9b9x4v9h0000gn/T/ipykernel_12052/3277860180.py:30: FutureWarning: The default dtype for empty Series will be 'object' instead of 'float64' in a future version. Specify a dtype explicitly to silence this warning.\n",
      "  cluster = pd.Series(index=range(df.shape[0]))\n",
      "/var/folders/2s/3p893_4d5lx_7jjv9b9x4v9h0000gn/T/ipykernel_12052/3277860180.py:30: FutureWarning: The default dtype for empty Series will be 'object' instead of 'float64' in a future version. Specify a dtype explicitly to silence this warning.\n",
      "  cluster = pd.Series(index=range(df.shape[0]))\n",
      "/var/folders/2s/3p893_4d5lx_7jjv9b9x4v9h0000gn/T/ipykernel_12052/3277860180.py:30: FutureWarning: The default dtype for empty Series will be 'object' instead of 'float64' in a future version. Specify a dtype explicitly to silence this warning.\n",
      "  cluster = pd.Series(index=range(df.shape[0]))\n",
      "/var/folders/2s/3p893_4d5lx_7jjv9b9x4v9h0000gn/T/ipykernel_12052/3277860180.py:30: FutureWarning: The default dtype for empty Series will be 'object' instead of 'float64' in a future version. Specify a dtype explicitly to silence this warning.\n",
      "  cluster = pd.Series(index=range(df.shape[0]))\n",
      "/var/folders/2s/3p893_4d5lx_7jjv9b9x4v9h0000gn/T/ipykernel_12052/3277860180.py:30: FutureWarning: The default dtype for empty Series will be 'object' instead of 'float64' in a future version. Specify a dtype explicitly to silence this warning.\n",
      "  cluster = pd.Series(index=range(df.shape[0]))\n",
      "/var/folders/2s/3p893_4d5lx_7jjv9b9x4v9h0000gn/T/ipykernel_12052/3277860180.py:30: FutureWarning: The default dtype for empty Series will be 'object' instead of 'float64' in a future version. Specify a dtype explicitly to silence this warning.\n",
      "  cluster = pd.Series(index=range(df.shape[0]))\n",
      "/var/folders/2s/3p893_4d5lx_7jjv9b9x4v9h0000gn/T/ipykernel_12052/3277860180.py:30: FutureWarning: The default dtype for empty Series will be 'object' instead of 'float64' in a future version. Specify a dtype explicitly to silence this warning.\n",
      "  cluster = pd.Series(index=range(df.shape[0]))\n",
      "/var/folders/2s/3p893_4d5lx_7jjv9b9x4v9h0000gn/T/ipykernel_12052/3277860180.py:30: FutureWarning: The default dtype for empty Series will be 'object' instead of 'float64' in a future version. Specify a dtype explicitly to silence this warning.\n",
      "  cluster = pd.Series(index=range(df.shape[0]))\n",
      "/var/folders/2s/3p893_4d5lx_7jjv9b9x4v9h0000gn/T/ipykernel_12052/3277860180.py:30: FutureWarning: The default dtype for empty Series will be 'object' instead of 'float64' in a future version. Specify a dtype explicitly to silence this warning.\n",
      "  cluster = pd.Series(index=range(df.shape[0]))\n",
      "/var/folders/2s/3p893_4d5lx_7jjv9b9x4v9h0000gn/T/ipykernel_12052/3277860180.py:30: FutureWarning: The default dtype for empty Series will be 'object' instead of 'float64' in a future version. Specify a dtype explicitly to silence this warning.\n",
      "  cluster = pd.Series(index=range(df.shape[0]))\n",
      "/var/folders/2s/3p893_4d5lx_7jjv9b9x4v9h0000gn/T/ipykernel_12052/3277860180.py:30: FutureWarning: The default dtype for empty Series will be 'object' instead of 'float64' in a future version. Specify a dtype explicitly to silence this warning.\n",
      "  cluster = pd.Series(index=range(df.shape[0]))\n",
      "/var/folders/2s/3p893_4d5lx_7jjv9b9x4v9h0000gn/T/ipykernel_12052/3277860180.py:18: FutureWarning: The default dtype for empty Series will be 'object' instead of 'float64' in a future version. Specify a dtype explicitly to silence this warning.\n",
      "  cluster = pd.Series(index=range(df.shape[0]))\n",
      "/var/folders/2s/3p893_4d5lx_7jjv9b9x4v9h0000gn/T/ipykernel_12052/3277860180.py:30: FutureWarning: The default dtype for empty Series will be 'object' instead of 'float64' in a future version. Specify a dtype explicitly to silence this warning.\n",
      "  cluster = pd.Series(index=range(df.shape[0]))\n",
      "/var/folders/2s/3p893_4d5lx_7jjv9b9x4v9h0000gn/T/ipykernel_12052/3277860180.py:30: FutureWarning: The default dtype for empty Series will be 'object' instead of 'float64' in a future version. Specify a dtype explicitly to silence this warning.\n",
      "  cluster = pd.Series(index=range(df.shape[0]))\n",
      "/var/folders/2s/3p893_4d5lx_7jjv9b9x4v9h0000gn/T/ipykernel_12052/3277860180.py:30: FutureWarning: The default dtype for empty Series will be 'object' instead of 'float64' in a future version. Specify a dtype explicitly to silence this warning.\n",
      "  cluster = pd.Series(index=range(df.shape[0]))\n",
      "/var/folders/2s/3p893_4d5lx_7jjv9b9x4v9h0000gn/T/ipykernel_12052/3277860180.py:30: FutureWarning: The default dtype for empty Series will be 'object' instead of 'float64' in a future version. Specify a dtype explicitly to silence this warning.\n",
      "  cluster = pd.Series(index=range(df.shape[0]))\n",
      "/var/folders/2s/3p893_4d5lx_7jjv9b9x4v9h0000gn/T/ipykernel_12052/3277860180.py:30: FutureWarning: The default dtype for empty Series will be 'object' instead of 'float64' in a future version. Specify a dtype explicitly to silence this warning.\n",
      "  cluster = pd.Series(index=range(df.shape[0]))\n",
      "/var/folders/2s/3p893_4d5lx_7jjv9b9x4v9h0000gn/T/ipykernel_12052/3277860180.py:30: FutureWarning: The default dtype for empty Series will be 'object' instead of 'float64' in a future version. Specify a dtype explicitly to silence this warning.\n",
      "  cluster = pd.Series(index=range(df.shape[0]))\n",
      "/var/folders/2s/3p893_4d5lx_7jjv9b9x4v9h0000gn/T/ipykernel_12052/3277860180.py:30: FutureWarning: The default dtype for empty Series will be 'object' instead of 'float64' in a future version. Specify a dtype explicitly to silence this warning.\n",
      "  cluster = pd.Series(index=range(df.shape[0]))\n",
      "/var/folders/2s/3p893_4d5lx_7jjv9b9x4v9h0000gn/T/ipykernel_12052/3277860180.py:30: FutureWarning: The default dtype for empty Series will be 'object' instead of 'float64' in a future version. Specify a dtype explicitly to silence this warning.\n",
      "  cluster = pd.Series(index=range(df.shape[0]))\n",
      "/var/folders/2s/3p893_4d5lx_7jjv9b9x4v9h0000gn/T/ipykernel_12052/3277860180.py:30: FutureWarning: The default dtype for empty Series will be 'object' instead of 'float64' in a future version. Specify a dtype explicitly to silence this warning.\n",
      "  cluster = pd.Series(index=range(df.shape[0]))\n"
     ]
    },
    {
     "name": "stderr",
     "output_type": "stream",
     "text": [
      "/var/folders/2s/3p893_4d5lx_7jjv9b9x4v9h0000gn/T/ipykernel_12052/3277860180.py:18: FutureWarning: The default dtype for empty Series will be 'object' instead of 'float64' in a future version. Specify a dtype explicitly to silence this warning.\n",
      "  cluster = pd.Series(index=range(df.shape[0]))\n",
      "/var/folders/2s/3p893_4d5lx_7jjv9b9x4v9h0000gn/T/ipykernel_12052/3277860180.py:30: FutureWarning: The default dtype for empty Series will be 'object' instead of 'float64' in a future version. Specify a dtype explicitly to silence this warning.\n",
      "  cluster = pd.Series(index=range(df.shape[0]))\n",
      "/var/folders/2s/3p893_4d5lx_7jjv9b9x4v9h0000gn/T/ipykernel_12052/3277860180.py:30: FutureWarning: The default dtype for empty Series will be 'object' instead of 'float64' in a future version. Specify a dtype explicitly to silence this warning.\n",
      "  cluster = pd.Series(index=range(df.shape[0]))\n",
      "/var/folders/2s/3p893_4d5lx_7jjv9b9x4v9h0000gn/T/ipykernel_12052/3277860180.py:30: FutureWarning: The default dtype for empty Series will be 'object' instead of 'float64' in a future version. Specify a dtype explicitly to silence this warning.\n",
      "  cluster = pd.Series(index=range(df.shape[0]))\n",
      "/var/folders/2s/3p893_4d5lx_7jjv9b9x4v9h0000gn/T/ipykernel_12052/3277860180.py:30: FutureWarning: The default dtype for empty Series will be 'object' instead of 'float64' in a future version. Specify a dtype explicitly to silence this warning.\n",
      "  cluster = pd.Series(index=range(df.shape[0]))\n",
      "/var/folders/2s/3p893_4d5lx_7jjv9b9x4v9h0000gn/T/ipykernel_12052/3277860180.py:30: FutureWarning: The default dtype for empty Series will be 'object' instead of 'float64' in a future version. Specify a dtype explicitly to silence this warning.\n",
      "  cluster = pd.Series(index=range(df.shape[0]))\n",
      "/var/folders/2s/3p893_4d5lx_7jjv9b9x4v9h0000gn/T/ipykernel_12052/3277860180.py:30: FutureWarning: The default dtype for empty Series will be 'object' instead of 'float64' in a future version. Specify a dtype explicitly to silence this warning.\n",
      "  cluster = pd.Series(index=range(df.shape[0]))\n",
      "/var/folders/2s/3p893_4d5lx_7jjv9b9x4v9h0000gn/T/ipykernel_12052/3277860180.py:30: FutureWarning: The default dtype for empty Series will be 'object' instead of 'float64' in a future version. Specify a dtype explicitly to silence this warning.\n",
      "  cluster = pd.Series(index=range(df.shape[0]))\n",
      "/var/folders/2s/3p893_4d5lx_7jjv9b9x4v9h0000gn/T/ipykernel_12052/3277860180.py:30: FutureWarning: The default dtype for empty Series will be 'object' instead of 'float64' in a future version. Specify a dtype explicitly to silence this warning.\n",
      "  cluster = pd.Series(index=range(df.shape[0]))\n",
      "/var/folders/2s/3p893_4d5lx_7jjv9b9x4v9h0000gn/T/ipykernel_12052/3277860180.py:30: FutureWarning: The default dtype for empty Series will be 'object' instead of 'float64' in a future version. Specify a dtype explicitly to silence this warning.\n",
      "  cluster = pd.Series(index=range(df.shape[0]))\n",
      "/var/folders/2s/3p893_4d5lx_7jjv9b9x4v9h0000gn/T/ipykernel_12052/3277860180.py:30: FutureWarning: The default dtype for empty Series will be 'object' instead of 'float64' in a future version. Specify a dtype explicitly to silence this warning.\n",
      "  cluster = pd.Series(index=range(df.shape[0]))\n",
      "/var/folders/2s/3p893_4d5lx_7jjv9b9x4v9h0000gn/T/ipykernel_12052/3277860180.py:30: FutureWarning: The default dtype for empty Series will be 'object' instead of 'float64' in a future version. Specify a dtype explicitly to silence this warning.\n",
      "  cluster = pd.Series(index=range(df.shape[0]))\n",
      "/var/folders/2s/3p893_4d5lx_7jjv9b9x4v9h0000gn/T/ipykernel_12052/3277860180.py:30: FutureWarning: The default dtype for empty Series will be 'object' instead of 'float64' in a future version. Specify a dtype explicitly to silence this warning.\n",
      "  cluster = pd.Series(index=range(df.shape[0]))\n",
      "/var/folders/2s/3p893_4d5lx_7jjv9b9x4v9h0000gn/T/ipykernel_12052/3277860180.py:18: FutureWarning: The default dtype for empty Series will be 'object' instead of 'float64' in a future version. Specify a dtype explicitly to silence this warning.\n",
      "  cluster = pd.Series(index=range(df.shape[0]))\n",
      "/var/folders/2s/3p893_4d5lx_7jjv9b9x4v9h0000gn/T/ipykernel_12052/3277860180.py:30: FutureWarning: The default dtype for empty Series will be 'object' instead of 'float64' in a future version. Specify a dtype explicitly to silence this warning.\n",
      "  cluster = pd.Series(index=range(df.shape[0]))\n",
      "/var/folders/2s/3p893_4d5lx_7jjv9b9x4v9h0000gn/T/ipykernel_12052/3277860180.py:18: FutureWarning: The default dtype for empty Series will be 'object' instead of 'float64' in a future version. Specify a dtype explicitly to silence this warning.\n",
      "  cluster = pd.Series(index=range(df.shape[0]))\n",
      "/var/folders/2s/3p893_4d5lx_7jjv9b9x4v9h0000gn/T/ipykernel_12052/3277860180.py:30: FutureWarning: The default dtype for empty Series will be 'object' instead of 'float64' in a future version. Specify a dtype explicitly to silence this warning.\n",
      "  cluster = pd.Series(index=range(df.shape[0]))\n",
      "/var/folders/2s/3p893_4d5lx_7jjv9b9x4v9h0000gn/T/ipykernel_12052/3277860180.py:30: FutureWarning: The default dtype for empty Series will be 'object' instead of 'float64' in a future version. Specify a dtype explicitly to silence this warning.\n",
      "  cluster = pd.Series(index=range(df.shape[0]))\n",
      "/var/folders/2s/3p893_4d5lx_7jjv9b9x4v9h0000gn/T/ipykernel_12052/3277860180.py:30: FutureWarning: The default dtype for empty Series will be 'object' instead of 'float64' in a future version. Specify a dtype explicitly to silence this warning.\n",
      "  cluster = pd.Series(index=range(df.shape[0]))\n",
      "/var/folders/2s/3p893_4d5lx_7jjv9b9x4v9h0000gn/T/ipykernel_12052/3277860180.py:30: FutureWarning: The default dtype for empty Series will be 'object' instead of 'float64' in a future version. Specify a dtype explicitly to silence this warning.\n",
      "  cluster = pd.Series(index=range(df.shape[0]))\n",
      "/var/folders/2s/3p893_4d5lx_7jjv9b9x4v9h0000gn/T/ipykernel_12052/3277860180.py:30: FutureWarning: The default dtype for empty Series will be 'object' instead of 'float64' in a future version. Specify a dtype explicitly to silence this warning.\n",
      "  cluster = pd.Series(index=range(df.shape[0]))\n",
      "/var/folders/2s/3p893_4d5lx_7jjv9b9x4v9h0000gn/T/ipykernel_12052/3277860180.py:30: FutureWarning: The default dtype for empty Series will be 'object' instead of 'float64' in a future version. Specify a dtype explicitly to silence this warning.\n",
      "  cluster = pd.Series(index=range(df.shape[0]))\n",
      "/var/folders/2s/3p893_4d5lx_7jjv9b9x4v9h0000gn/T/ipykernel_12052/3277860180.py:30: FutureWarning: The default dtype for empty Series will be 'object' instead of 'float64' in a future version. Specify a dtype explicitly to silence this warning.\n",
      "  cluster = pd.Series(index=range(df.shape[0]))\n",
      "/var/folders/2s/3p893_4d5lx_7jjv9b9x4v9h0000gn/T/ipykernel_12052/3277860180.py:30: FutureWarning: The default dtype for empty Series will be 'object' instead of 'float64' in a future version. Specify a dtype explicitly to silence this warning.\n",
      "  cluster = pd.Series(index=range(df.shape[0]))\n",
      "/var/folders/2s/3p893_4d5lx_7jjv9b9x4v9h0000gn/T/ipykernel_12052/3277860180.py:30: FutureWarning: The default dtype for empty Series will be 'object' instead of 'float64' in a future version. Specify a dtype explicitly to silence this warning.\n",
      "  cluster = pd.Series(index=range(df.shape[0]))\n",
      "/var/folders/2s/3p893_4d5lx_7jjv9b9x4v9h0000gn/T/ipykernel_12052/3277860180.py:30: FutureWarning: The default dtype for empty Series will be 'object' instead of 'float64' in a future version. Specify a dtype explicitly to silence this warning.\n",
      "  cluster = pd.Series(index=range(df.shape[0]))\n",
      "/var/folders/2s/3p893_4d5lx_7jjv9b9x4v9h0000gn/T/ipykernel_12052/3277860180.py:30: FutureWarning: The default dtype for empty Series will be 'object' instead of 'float64' in a future version. Specify a dtype explicitly to silence this warning.\n",
      "  cluster = pd.Series(index=range(df.shape[0]))\n",
      "/var/folders/2s/3p893_4d5lx_7jjv9b9x4v9h0000gn/T/ipykernel_12052/3277860180.py:30: FutureWarning: The default dtype for empty Series will be 'object' instead of 'float64' in a future version. Specify a dtype explicitly to silence this warning.\n",
      "  cluster = pd.Series(index=range(df.shape[0]))\n",
      "/var/folders/2s/3p893_4d5lx_7jjv9b9x4v9h0000gn/T/ipykernel_12052/3277860180.py:30: FutureWarning: The default dtype for empty Series will be 'object' instead of 'float64' in a future version. Specify a dtype explicitly to silence this warning.\n",
      "  cluster = pd.Series(index=range(df.shape[0]))\n",
      "/var/folders/2s/3p893_4d5lx_7jjv9b9x4v9h0000gn/T/ipykernel_12052/3277860180.py:30: FutureWarning: The default dtype for empty Series will be 'object' instead of 'float64' in a future version. Specify a dtype explicitly to silence this warning.\n",
      "  cluster = pd.Series(index=range(df.shape[0]))\n",
      "/var/folders/2s/3p893_4d5lx_7jjv9b9x4v9h0000gn/T/ipykernel_12052/3277860180.py:30: FutureWarning: The default dtype for empty Series will be 'object' instead of 'float64' in a future version. Specify a dtype explicitly to silence this warning.\n",
      "  cluster = pd.Series(index=range(df.shape[0]))\n"
     ]
    },
    {
     "name": "stderr",
     "output_type": "stream",
     "text": [
      "/var/folders/2s/3p893_4d5lx_7jjv9b9x4v9h0000gn/T/ipykernel_12052/3277860180.py:18: FutureWarning: The default dtype for empty Series will be 'object' instead of 'float64' in a future version. Specify a dtype explicitly to silence this warning.\n",
      "  cluster = pd.Series(index=range(df.shape[0]))\n",
      "/var/folders/2s/3p893_4d5lx_7jjv9b9x4v9h0000gn/T/ipykernel_12052/3277860180.py:30: FutureWarning: The default dtype for empty Series will be 'object' instead of 'float64' in a future version. Specify a dtype explicitly to silence this warning.\n",
      "  cluster = pd.Series(index=range(df.shape[0]))\n",
      "/var/folders/2s/3p893_4d5lx_7jjv9b9x4v9h0000gn/T/ipykernel_12052/3277860180.py:30: FutureWarning: The default dtype for empty Series will be 'object' instead of 'float64' in a future version. Specify a dtype explicitly to silence this warning.\n",
      "  cluster = pd.Series(index=range(df.shape[0]))\n",
      "/var/folders/2s/3p893_4d5lx_7jjv9b9x4v9h0000gn/T/ipykernel_12052/3277860180.py:18: FutureWarning: The default dtype for empty Series will be 'object' instead of 'float64' in a future version. Specify a dtype explicitly to silence this warning.\n",
      "  cluster = pd.Series(index=range(df.shape[0]))\n",
      "/var/folders/2s/3p893_4d5lx_7jjv9b9x4v9h0000gn/T/ipykernel_12052/3277860180.py:30: FutureWarning: The default dtype for empty Series will be 'object' instead of 'float64' in a future version. Specify a dtype explicitly to silence this warning.\n",
      "  cluster = pd.Series(index=range(df.shape[0]))\n",
      "/var/folders/2s/3p893_4d5lx_7jjv9b9x4v9h0000gn/T/ipykernel_12052/3277860180.py:30: FutureWarning: The default dtype for empty Series will be 'object' instead of 'float64' in a future version. Specify a dtype explicitly to silence this warning.\n",
      "  cluster = pd.Series(index=range(df.shape[0]))\n",
      "/var/folders/2s/3p893_4d5lx_7jjv9b9x4v9h0000gn/T/ipykernel_12052/3277860180.py:30: FutureWarning: The default dtype for empty Series will be 'object' instead of 'float64' in a future version. Specify a dtype explicitly to silence this warning.\n",
      "  cluster = pd.Series(index=range(df.shape[0]))\n",
      "/var/folders/2s/3p893_4d5lx_7jjv9b9x4v9h0000gn/T/ipykernel_12052/3277860180.py:30: FutureWarning: The default dtype for empty Series will be 'object' instead of 'float64' in a future version. Specify a dtype explicitly to silence this warning.\n",
      "  cluster = pd.Series(index=range(df.shape[0]))\n",
      "/var/folders/2s/3p893_4d5lx_7jjv9b9x4v9h0000gn/T/ipykernel_12052/3277860180.py:30: FutureWarning: The default dtype for empty Series will be 'object' instead of 'float64' in a future version. Specify a dtype explicitly to silence this warning.\n",
      "  cluster = pd.Series(index=range(df.shape[0]))\n",
      "/var/folders/2s/3p893_4d5lx_7jjv9b9x4v9h0000gn/T/ipykernel_12052/3277860180.py:30: FutureWarning: The default dtype for empty Series will be 'object' instead of 'float64' in a future version. Specify a dtype explicitly to silence this warning.\n",
      "  cluster = pd.Series(index=range(df.shape[0]))\n",
      "/var/folders/2s/3p893_4d5lx_7jjv9b9x4v9h0000gn/T/ipykernel_12052/3277860180.py:30: FutureWarning: The default dtype for empty Series will be 'object' instead of 'float64' in a future version. Specify a dtype explicitly to silence this warning.\n",
      "  cluster = pd.Series(index=range(df.shape[0]))\n",
      "/var/folders/2s/3p893_4d5lx_7jjv9b9x4v9h0000gn/T/ipykernel_12052/3277860180.py:30: FutureWarning: The default dtype for empty Series will be 'object' instead of 'float64' in a future version. Specify a dtype explicitly to silence this warning.\n",
      "  cluster = pd.Series(index=range(df.shape[0]))\n",
      "/var/folders/2s/3p893_4d5lx_7jjv9b9x4v9h0000gn/T/ipykernel_12052/3277860180.py:30: FutureWarning: The default dtype for empty Series will be 'object' instead of 'float64' in a future version. Specify a dtype explicitly to silence this warning.\n",
      "  cluster = pd.Series(index=range(df.shape[0]))\n",
      "/var/folders/2s/3p893_4d5lx_7jjv9b9x4v9h0000gn/T/ipykernel_12052/3277860180.py:18: FutureWarning: The default dtype for empty Series will be 'object' instead of 'float64' in a future version. Specify a dtype explicitly to silence this warning.\n",
      "  cluster = pd.Series(index=range(df.shape[0]))\n",
      "/var/folders/2s/3p893_4d5lx_7jjv9b9x4v9h0000gn/T/ipykernel_12052/3277860180.py:18: FutureWarning: The default dtype for empty Series will be 'object' instead of 'float64' in a future version. Specify a dtype explicitly to silence this warning.\n",
      "  cluster = pd.Series(index=range(df.shape[0]))\n",
      "/var/folders/2s/3p893_4d5lx_7jjv9b9x4v9h0000gn/T/ipykernel_12052/3277860180.py:30: FutureWarning: The default dtype for empty Series will be 'object' instead of 'float64' in a future version. Specify a dtype explicitly to silence this warning.\n",
      "  cluster = pd.Series(index=range(df.shape[0]))\n",
      "/var/folders/2s/3p893_4d5lx_7jjv9b9x4v9h0000gn/T/ipykernel_12052/3277860180.py:30: FutureWarning: The default dtype for empty Series will be 'object' instead of 'float64' in a future version. Specify a dtype explicitly to silence this warning.\n",
      "  cluster = pd.Series(index=range(df.shape[0]))\n",
      "/var/folders/2s/3p893_4d5lx_7jjv9b9x4v9h0000gn/T/ipykernel_12052/3277860180.py:30: FutureWarning: The default dtype for empty Series will be 'object' instead of 'float64' in a future version. Specify a dtype explicitly to silence this warning.\n",
      "  cluster = pd.Series(index=range(df.shape[0]))\n",
      "/var/folders/2s/3p893_4d5lx_7jjv9b9x4v9h0000gn/T/ipykernel_12052/3277860180.py:30: FutureWarning: The default dtype for empty Series will be 'object' instead of 'float64' in a future version. Specify a dtype explicitly to silence this warning.\n",
      "  cluster = pd.Series(index=range(df.shape[0]))\n",
      "/var/folders/2s/3p893_4d5lx_7jjv9b9x4v9h0000gn/T/ipykernel_12052/3277860180.py:30: FutureWarning: The default dtype for empty Series will be 'object' instead of 'float64' in a future version. Specify a dtype explicitly to silence this warning.\n",
      "  cluster = pd.Series(index=range(df.shape[0]))\n",
      "/var/folders/2s/3p893_4d5lx_7jjv9b9x4v9h0000gn/T/ipykernel_12052/3277860180.py:30: FutureWarning: The default dtype for empty Series will be 'object' instead of 'float64' in a future version. Specify a dtype explicitly to silence this warning.\n",
      "  cluster = pd.Series(index=range(df.shape[0]))\n",
      "/var/folders/2s/3p893_4d5lx_7jjv9b9x4v9h0000gn/T/ipykernel_12052/3277860180.py:18: FutureWarning: The default dtype for empty Series will be 'object' instead of 'float64' in a future version. Specify a dtype explicitly to silence this warning.\n",
      "  cluster = pd.Series(index=range(df.shape[0]))\n",
      "/var/folders/2s/3p893_4d5lx_7jjv9b9x4v9h0000gn/T/ipykernel_12052/3277860180.py:30: FutureWarning: The default dtype for empty Series will be 'object' instead of 'float64' in a future version. Specify a dtype explicitly to silence this warning.\n",
      "  cluster = pd.Series(index=range(df.shape[0]))\n",
      "/var/folders/2s/3p893_4d5lx_7jjv9b9x4v9h0000gn/T/ipykernel_12052/3277860180.py:30: FutureWarning: The default dtype for empty Series will be 'object' instead of 'float64' in a future version. Specify a dtype explicitly to silence this warning.\n",
      "  cluster = pd.Series(index=range(df.shape[0]))\n",
      "/var/folders/2s/3p893_4d5lx_7jjv9b9x4v9h0000gn/T/ipykernel_12052/3277860180.py:30: FutureWarning: The default dtype for empty Series will be 'object' instead of 'float64' in a future version. Specify a dtype explicitly to silence this warning.\n",
      "  cluster = pd.Series(index=range(df.shape[0]))\n",
      "/var/folders/2s/3p893_4d5lx_7jjv9b9x4v9h0000gn/T/ipykernel_12052/3277860180.py:30: FutureWarning: The default dtype for empty Series will be 'object' instead of 'float64' in a future version. Specify a dtype explicitly to silence this warning.\n",
      "  cluster = pd.Series(index=range(df.shape[0]))\n",
      "/var/folders/2s/3p893_4d5lx_7jjv9b9x4v9h0000gn/T/ipykernel_12052/3277860180.py:30: FutureWarning: The default dtype for empty Series will be 'object' instead of 'float64' in a future version. Specify a dtype explicitly to silence this warning.\n",
      "  cluster = pd.Series(index=range(df.shape[0]))\n",
      "/var/folders/2s/3p893_4d5lx_7jjv9b9x4v9h0000gn/T/ipykernel_12052/3277860180.py:18: FutureWarning: The default dtype for empty Series will be 'object' instead of 'float64' in a future version. Specify a dtype explicitly to silence this warning.\n",
      "  cluster = pd.Series(index=range(df.shape[0]))\n",
      "/var/folders/2s/3p893_4d5lx_7jjv9b9x4v9h0000gn/T/ipykernel_12052/3277860180.py:18: FutureWarning: The default dtype for empty Series will be 'object' instead of 'float64' in a future version. Specify a dtype explicitly to silence this warning.\n",
      "  cluster = pd.Series(index=range(df.shape[0]))\n",
      "/var/folders/2s/3p893_4d5lx_7jjv9b9x4v9h0000gn/T/ipykernel_12052/3277860180.py:34: FutureWarning: The default dtype for empty Series will be 'object' instead of 'float64' in a future version. Specify a dtype explicitly to silence this warning.\n",
      "  clusters = pd.Series(index=range(df.shape[0]))\n"
     ]
    },
    {
     "name": "stderr",
     "output_type": "stream",
     "text": [
      "/var/folders/2s/3p893_4d5lx_7jjv9b9x4v9h0000gn/T/ipykernel_12052/3277860180.py:52: FutureWarning: The default dtype for empty Series will be 'object' instead of 'float64' in a future version. Specify a dtype explicitly to silence this warning.\n",
      "  clusters = pd.Series(index=range(df.shape[0]))\n",
      "/var/folders/2s/3p893_4d5lx_7jjv9b9x4v9h0000gn/T/ipykernel_12052/3277860180.py:52: FutureWarning: The default dtype for empty Series will be 'object' instead of 'float64' in a future version. Specify a dtype explicitly to silence this warning.\n",
      "  clusters = pd.Series(index=range(df.shape[0]))\n",
      "/var/folders/2s/3p893_4d5lx_7jjv9b9x4v9h0000gn/T/ipykernel_12052/3277860180.py:52: FutureWarning: The default dtype for empty Series will be 'object' instead of 'float64' in a future version. Specify a dtype explicitly to silence this warning.\n",
      "  clusters = pd.Series(index=range(df.shape[0]))\n",
      "/var/folders/2s/3p893_4d5lx_7jjv9b9x4v9h0000gn/T/ipykernel_12052/3277860180.py:52: FutureWarning: The default dtype for empty Series will be 'object' instead of 'float64' in a future version. Specify a dtype explicitly to silence this warning.\n",
      "  clusters = pd.Series(index=range(df.shape[0]))\n",
      "/var/folders/2s/3p893_4d5lx_7jjv9b9x4v9h0000gn/T/ipykernel_12052/3277860180.py:52: FutureWarning: The default dtype for empty Series will be 'object' instead of 'float64' in a future version. Specify a dtype explicitly to silence this warning.\n",
      "  clusters = pd.Series(index=range(df.shape[0]))\n",
      "/var/folders/2s/3p893_4d5lx_7jjv9b9x4v9h0000gn/T/ipykernel_12052/3277860180.py:52: FutureWarning: The default dtype for empty Series will be 'object' instead of 'float64' in a future version. Specify a dtype explicitly to silence this warning.\n",
      "  clusters = pd.Series(index=range(df.shape[0]))\n",
      "/var/folders/2s/3p893_4d5lx_7jjv9b9x4v9h0000gn/T/ipykernel_12052/3277860180.py:52: FutureWarning: The default dtype for empty Series will be 'object' instead of 'float64' in a future version. Specify a dtype explicitly to silence this warning.\n",
      "  clusters = pd.Series(index=range(df.shape[0]))\n",
      "/var/folders/2s/3p893_4d5lx_7jjv9b9x4v9h0000gn/T/ipykernel_12052/3277860180.py:52: FutureWarning: The default dtype for empty Series will be 'object' instead of 'float64' in a future version. Specify a dtype explicitly to silence this warning.\n",
      "  clusters = pd.Series(index=range(df.shape[0]))\n",
      "/var/folders/2s/3p893_4d5lx_7jjv9b9x4v9h0000gn/T/ipykernel_12052/3277860180.py:52: FutureWarning: The default dtype for empty Series will be 'object' instead of 'float64' in a future version. Specify a dtype explicitly to silence this warning.\n",
      "  clusters = pd.Series(index=range(df.shape[0]))\n",
      "/var/folders/2s/3p893_4d5lx_7jjv9b9x4v9h0000gn/T/ipykernel_12052/3277860180.py:52: FutureWarning: The default dtype for empty Series will be 'object' instead of 'float64' in a future version. Specify a dtype explicitly to silence this warning.\n",
      "  clusters = pd.Series(index=range(df.shape[0]))\n",
      "/var/folders/2s/3p893_4d5lx_7jjv9b9x4v9h0000gn/T/ipykernel_12052/3277860180.py:52: FutureWarning: The default dtype for empty Series will be 'object' instead of 'float64' in a future version. Specify a dtype explicitly to silence this warning.\n",
      "  clusters = pd.Series(index=range(df.shape[0]))\n",
      "/var/folders/2s/3p893_4d5lx_7jjv9b9x4v9h0000gn/T/ipykernel_12052/3277860180.py:52: FutureWarning: The default dtype for empty Series will be 'object' instead of 'float64' in a future version. Specify a dtype explicitly to silence this warning.\n",
      "  clusters = pd.Series(index=range(df.shape[0]))\n",
      "/var/folders/2s/3p893_4d5lx_7jjv9b9x4v9h0000gn/T/ipykernel_12052/3277860180.py:52: FutureWarning: The default dtype for empty Series will be 'object' instead of 'float64' in a future version. Specify a dtype explicitly to silence this warning.\n",
      "  clusters = pd.Series(index=range(df.shape[0]))\n",
      "/var/folders/2s/3p893_4d5lx_7jjv9b9x4v9h0000gn/T/ipykernel_12052/3277860180.py:52: FutureWarning: The default dtype for empty Series will be 'object' instead of 'float64' in a future version. Specify a dtype explicitly to silence this warning.\n",
      "  clusters = pd.Series(index=range(df.shape[0]))\n",
      "/var/folders/2s/3p893_4d5lx_7jjv9b9x4v9h0000gn/T/ipykernel_12052/3277860180.py:52: FutureWarning: The default dtype for empty Series will be 'object' instead of 'float64' in a future version. Specify a dtype explicitly to silence this warning.\n",
      "  clusters = pd.Series(index=range(df.shape[0]))\n",
      "/var/folders/2s/3p893_4d5lx_7jjv9b9x4v9h0000gn/T/ipykernel_12052/3277860180.py:52: FutureWarning: The default dtype for empty Series will be 'object' instead of 'float64' in a future version. Specify a dtype explicitly to silence this warning.\n",
      "  clusters = pd.Series(index=range(df.shape[0]))\n",
      "/var/folders/2s/3p893_4d5lx_7jjv9b9x4v9h0000gn/T/ipykernel_12052/3277860180.py:52: FutureWarning: The default dtype for empty Series will be 'object' instead of 'float64' in a future version. Specify a dtype explicitly to silence this warning.\n",
      "  clusters = pd.Series(index=range(df.shape[0]))\n",
      "/var/folders/2s/3p893_4d5lx_7jjv9b9x4v9h0000gn/T/ipykernel_12052/3277860180.py:52: FutureWarning: The default dtype for empty Series will be 'object' instead of 'float64' in a future version. Specify a dtype explicitly to silence this warning.\n",
      "  clusters = pd.Series(index=range(df.shape[0]))\n",
      "/var/folders/2s/3p893_4d5lx_7jjv9b9x4v9h0000gn/T/ipykernel_12052/3277860180.py:52: FutureWarning: The default dtype for empty Series will be 'object' instead of 'float64' in a future version. Specify a dtype explicitly to silence this warning.\n",
      "  clusters = pd.Series(index=range(df.shape[0]))\n",
      "/var/folders/2s/3p893_4d5lx_7jjv9b9x4v9h0000gn/T/ipykernel_12052/3277860180.py:52: FutureWarning: The default dtype for empty Series will be 'object' instead of 'float64' in a future version. Specify a dtype explicitly to silence this warning.\n",
      "  clusters = pd.Series(index=range(df.shape[0]))\n",
      "/var/folders/2s/3p893_4d5lx_7jjv9b9x4v9h0000gn/T/ipykernel_12052/3277860180.py:52: FutureWarning: The default dtype for empty Series will be 'object' instead of 'float64' in a future version. Specify a dtype explicitly to silence this warning.\n",
      "  clusters = pd.Series(index=range(df.shape[0]))\n"
     ]
    },
    {
     "name": "stdout",
     "output_type": "stream",
     "text": [
      "Optimal number of clusters for magic is: 6\n"
     ]
    },
    {
     "name": "stderr",
     "output_type": "stream",
     "text": [
      "/var/folders/2s/3p893_4d5lx_7jjv9b9x4v9h0000gn/T/ipykernel_12052/3277860180.py:18: FutureWarning: The default dtype for empty Series will be 'object' instead of 'float64' in a future version. Specify a dtype explicitly to silence this warning.\n",
      "  cluster = pd.Series(index=range(df.shape[0]))\n",
      "/var/folders/2s/3p893_4d5lx_7jjv9b9x4v9h0000gn/T/ipykernel_12052/3277860180.py:30: FutureWarning: The default dtype for empty Series will be 'object' instead of 'float64' in a future version. Specify a dtype explicitly to silence this warning.\n",
      "  cluster = pd.Series(index=range(df.shape[0]))\n",
      "/var/folders/2s/3p893_4d5lx_7jjv9b9x4v9h0000gn/T/ipykernel_12052/3277860180.py:18: FutureWarning: The default dtype for empty Series will be 'object' instead of 'float64' in a future version. Specify a dtype explicitly to silence this warning.\n",
      "  cluster = pd.Series(index=range(df.shape[0]))\n",
      "/var/folders/2s/3p893_4d5lx_7jjv9b9x4v9h0000gn/T/ipykernel_12052/3277860180.py:30: FutureWarning: The default dtype for empty Series will be 'object' instead of 'float64' in a future version. Specify a dtype explicitly to silence this warning.\n",
      "  cluster = pd.Series(index=range(df.shape[0]))\n",
      "/var/folders/2s/3p893_4d5lx_7jjv9b9x4v9h0000gn/T/ipykernel_12052/3277860180.py:30: FutureWarning: The default dtype for empty Series will be 'object' instead of 'float64' in a future version. Specify a dtype explicitly to silence this warning.\n",
      "  cluster = pd.Series(index=range(df.shape[0]))\n",
      "/var/folders/2s/3p893_4d5lx_7jjv9b9x4v9h0000gn/T/ipykernel_12052/3277860180.py:30: FutureWarning: The default dtype for empty Series will be 'object' instead of 'float64' in a future version. Specify a dtype explicitly to silence this warning.\n",
      "  cluster = pd.Series(index=range(df.shape[0]))\n",
      "/var/folders/2s/3p893_4d5lx_7jjv9b9x4v9h0000gn/T/ipykernel_12052/3277860180.py:30: FutureWarning: The default dtype for empty Series will be 'object' instead of 'float64' in a future version. Specify a dtype explicitly to silence this warning.\n",
      "  cluster = pd.Series(index=range(df.shape[0]))\n",
      "/var/folders/2s/3p893_4d5lx_7jjv9b9x4v9h0000gn/T/ipykernel_12052/3277860180.py:18: FutureWarning: The default dtype for empty Series will be 'object' instead of 'float64' in a future version. Specify a dtype explicitly to silence this warning.\n",
      "  cluster = pd.Series(index=range(df.shape[0]))\n",
      "/var/folders/2s/3p893_4d5lx_7jjv9b9x4v9h0000gn/T/ipykernel_12052/3277860180.py:30: FutureWarning: The default dtype for empty Series will be 'object' instead of 'float64' in a future version. Specify a dtype explicitly to silence this warning.\n",
      "  cluster = pd.Series(index=range(df.shape[0]))\n",
      "/var/folders/2s/3p893_4d5lx_7jjv9b9x4v9h0000gn/T/ipykernel_12052/3277860180.py:30: FutureWarning: The default dtype for empty Series will be 'object' instead of 'float64' in a future version. Specify a dtype explicitly to silence this warning.\n",
      "  cluster = pd.Series(index=range(df.shape[0]))\n",
      "/var/folders/2s/3p893_4d5lx_7jjv9b9x4v9h0000gn/T/ipykernel_12052/3277860180.py:30: FutureWarning: The default dtype for empty Series will be 'object' instead of 'float64' in a future version. Specify a dtype explicitly to silence this warning.\n",
      "  cluster = pd.Series(index=range(df.shape[0]))\n",
      "/var/folders/2s/3p893_4d5lx_7jjv9b9x4v9h0000gn/T/ipykernel_12052/3277860180.py:30: FutureWarning: The default dtype for empty Series will be 'object' instead of 'float64' in a future version. Specify a dtype explicitly to silence this warning.\n",
      "  cluster = pd.Series(index=range(df.shape[0]))\n",
      "/var/folders/2s/3p893_4d5lx_7jjv9b9x4v9h0000gn/T/ipykernel_12052/3277860180.py:30: FutureWarning: The default dtype for empty Series will be 'object' instead of 'float64' in a future version. Specify a dtype explicitly to silence this warning.\n",
      "  cluster = pd.Series(index=range(df.shape[0]))\n",
      "/var/folders/2s/3p893_4d5lx_7jjv9b9x4v9h0000gn/T/ipykernel_12052/3277860180.py:18: FutureWarning: The default dtype for empty Series will be 'object' instead of 'float64' in a future version. Specify a dtype explicitly to silence this warning.\n",
      "  cluster = pd.Series(index=range(df.shape[0]))\n",
      "/var/folders/2s/3p893_4d5lx_7jjv9b9x4v9h0000gn/T/ipykernel_12052/3277860180.py:18: FutureWarning: The default dtype for empty Series will be 'object' instead of 'float64' in a future version. Specify a dtype explicitly to silence this warning.\n",
      "  cluster = pd.Series(index=range(df.shape[0]))\n",
      "/var/folders/2s/3p893_4d5lx_7jjv9b9x4v9h0000gn/T/ipykernel_12052/3277860180.py:30: FutureWarning: The default dtype for empty Series will be 'object' instead of 'float64' in a future version. Specify a dtype explicitly to silence this warning.\n",
      "  cluster = pd.Series(index=range(df.shape[0]))\n",
      "/var/folders/2s/3p893_4d5lx_7jjv9b9x4v9h0000gn/T/ipykernel_12052/3277860180.py:30: FutureWarning: The default dtype for empty Series will be 'object' instead of 'float64' in a future version. Specify a dtype explicitly to silence this warning.\n",
      "  cluster = pd.Series(index=range(df.shape[0]))\n",
      "/var/folders/2s/3p893_4d5lx_7jjv9b9x4v9h0000gn/T/ipykernel_12052/3277860180.py:30: FutureWarning: The default dtype for empty Series will be 'object' instead of 'float64' in a future version. Specify a dtype explicitly to silence this warning.\n",
      "  cluster = pd.Series(index=range(df.shape[0]))\n",
      "/var/folders/2s/3p893_4d5lx_7jjv9b9x4v9h0000gn/T/ipykernel_12052/3277860180.py:30: FutureWarning: The default dtype for empty Series will be 'object' instead of 'float64' in a future version. Specify a dtype explicitly to silence this warning.\n",
      "  cluster = pd.Series(index=range(df.shape[0]))\n",
      "/var/folders/2s/3p893_4d5lx_7jjv9b9x4v9h0000gn/T/ipykernel_12052/3277860180.py:30: FutureWarning: The default dtype for empty Series will be 'object' instead of 'float64' in a future version. Specify a dtype explicitly to silence this warning.\n",
      "  cluster = pd.Series(index=range(df.shape[0]))\n",
      "/var/folders/2s/3p893_4d5lx_7jjv9b9x4v9h0000gn/T/ipykernel_12052/3277860180.py:18: FutureWarning: The default dtype for empty Series will be 'object' instead of 'float64' in a future version. Specify a dtype explicitly to silence this warning.\n",
      "  cluster = pd.Series(index=range(df.shape[0]))\n",
      "/var/folders/2s/3p893_4d5lx_7jjv9b9x4v9h0000gn/T/ipykernel_12052/3277860180.py:30: FutureWarning: The default dtype for empty Series will be 'object' instead of 'float64' in a future version. Specify a dtype explicitly to silence this warning.\n",
      "  cluster = pd.Series(index=range(df.shape[0]))\n",
      "/var/folders/2s/3p893_4d5lx_7jjv9b9x4v9h0000gn/T/ipykernel_12052/3277860180.py:30: FutureWarning: The default dtype for empty Series will be 'object' instead of 'float64' in a future version. Specify a dtype explicitly to silence this warning.\n",
      "  cluster = pd.Series(index=range(df.shape[0]))\n",
      "/var/folders/2s/3p893_4d5lx_7jjv9b9x4v9h0000gn/T/ipykernel_12052/3277860180.py:30: FutureWarning: The default dtype for empty Series will be 'object' instead of 'float64' in a future version. Specify a dtype explicitly to silence this warning.\n",
      "  cluster = pd.Series(index=range(df.shape[0]))\n",
      "/var/folders/2s/3p893_4d5lx_7jjv9b9x4v9h0000gn/T/ipykernel_12052/3277860180.py:30: FutureWarning: The default dtype for empty Series will be 'object' instead of 'float64' in a future version. Specify a dtype explicitly to silence this warning.\n",
      "  cluster = pd.Series(index=range(df.shape[0]))\n",
      "/var/folders/2s/3p893_4d5lx_7jjv9b9x4v9h0000gn/T/ipykernel_12052/3277860180.py:30: FutureWarning: The default dtype for empty Series will be 'object' instead of 'float64' in a future version. Specify a dtype explicitly to silence this warning.\n",
      "  cluster = pd.Series(index=range(df.shape[0]))\n",
      "/var/folders/2s/3p893_4d5lx_7jjv9b9x4v9h0000gn/T/ipykernel_12052/3277860180.py:18: FutureWarning: The default dtype for empty Series will be 'object' instead of 'float64' in a future version. Specify a dtype explicitly to silence this warning.\n",
      "  cluster = pd.Series(index=range(df.shape[0]))\n",
      "/var/folders/2s/3p893_4d5lx_7jjv9b9x4v9h0000gn/T/ipykernel_12052/3277860180.py:30: FutureWarning: The default dtype for empty Series will be 'object' instead of 'float64' in a future version. Specify a dtype explicitly to silence this warning.\n",
      "  cluster = pd.Series(index=range(df.shape[0]))\n",
      "/var/folders/2s/3p893_4d5lx_7jjv9b9x4v9h0000gn/T/ipykernel_12052/3277860180.py:30: FutureWarning: The default dtype for empty Series will be 'object' instead of 'float64' in a future version. Specify a dtype explicitly to silence this warning.\n",
      "  cluster = pd.Series(index=range(df.shape[0]))\n",
      "/var/folders/2s/3p893_4d5lx_7jjv9b9x4v9h0000gn/T/ipykernel_12052/3277860180.py:30: FutureWarning: The default dtype for empty Series will be 'object' instead of 'float64' in a future version. Specify a dtype explicitly to silence this warning.\n",
      "  cluster = pd.Series(index=range(df.shape[0]))\n",
      "/var/folders/2s/3p893_4d5lx_7jjv9b9x4v9h0000gn/T/ipykernel_12052/3277860180.py:18: FutureWarning: The default dtype for empty Series will be 'object' instead of 'float64' in a future version. Specify a dtype explicitly to silence this warning.\n",
      "  cluster = pd.Series(index=range(df.shape[0]))\n",
      "/var/folders/2s/3p893_4d5lx_7jjv9b9x4v9h0000gn/T/ipykernel_12052/3277860180.py:18: FutureWarning: The default dtype for empty Series will be 'object' instead of 'float64' in a future version. Specify a dtype explicitly to silence this warning.\n",
      "  cluster = pd.Series(index=range(df.shape[0]))\n",
      "/var/folders/2s/3p893_4d5lx_7jjv9b9x4v9h0000gn/T/ipykernel_12052/3277860180.py:30: FutureWarning: The default dtype for empty Series will be 'object' instead of 'float64' in a future version. Specify a dtype explicitly to silence this warning.\n",
      "  cluster = pd.Series(index=range(df.shape[0]))\n",
      "/var/folders/2s/3p893_4d5lx_7jjv9b9x4v9h0000gn/T/ipykernel_12052/3277860180.py:30: FutureWarning: The default dtype for empty Series will be 'object' instead of 'float64' in a future version. Specify a dtype explicitly to silence this warning.\n",
      "  cluster = pd.Series(index=range(df.shape[0]))\n",
      "/var/folders/2s/3p893_4d5lx_7jjv9b9x4v9h0000gn/T/ipykernel_12052/3277860180.py:30: FutureWarning: The default dtype for empty Series will be 'object' instead of 'float64' in a future version. Specify a dtype explicitly to silence this warning.\n",
      "  cluster = pd.Series(index=range(df.shape[0]))\n",
      "/var/folders/2s/3p893_4d5lx_7jjv9b9x4v9h0000gn/T/ipykernel_12052/3277860180.py:30: FutureWarning: The default dtype for empty Series will be 'object' instead of 'float64' in a future version. Specify a dtype explicitly to silence this warning.\n",
      "  cluster = pd.Series(index=range(df.shape[0]))\n",
      "/var/folders/2s/3p893_4d5lx_7jjv9b9x4v9h0000gn/T/ipykernel_12052/3277860180.py:30: FutureWarning: The default dtype for empty Series will be 'object' instead of 'float64' in a future version. Specify a dtype explicitly to silence this warning.\n",
      "  cluster = pd.Series(index=range(df.shape[0]))\n",
      "/var/folders/2s/3p893_4d5lx_7jjv9b9x4v9h0000gn/T/ipykernel_12052/3277860180.py:30: FutureWarning: The default dtype for empty Series will be 'object' instead of 'float64' in a future version. Specify a dtype explicitly to silence this warning.\n",
      "  cluster = pd.Series(index=range(df.shape[0]))\n",
      "/var/folders/2s/3p893_4d5lx_7jjv9b9x4v9h0000gn/T/ipykernel_12052/3277860180.py:18: FutureWarning: The default dtype for empty Series will be 'object' instead of 'float64' in a future version. Specify a dtype explicitly to silence this warning.\n",
      "  cluster = pd.Series(index=range(df.shape[0]))\n",
      "/var/folders/2s/3p893_4d5lx_7jjv9b9x4v9h0000gn/T/ipykernel_12052/3277860180.py:18: FutureWarning: The default dtype for empty Series will be 'object' instead of 'float64' in a future version. Specify a dtype explicitly to silence this warning.\n",
      "  cluster = pd.Series(index=range(df.shape[0]))\n",
      "/var/folders/2s/3p893_4d5lx_7jjv9b9x4v9h0000gn/T/ipykernel_12052/3277860180.py:30: FutureWarning: The default dtype for empty Series will be 'object' instead of 'float64' in a future version. Specify a dtype explicitly to silence this warning.\n",
      "  cluster = pd.Series(index=range(df.shape[0]))\n",
      "/var/folders/2s/3p893_4d5lx_7jjv9b9x4v9h0000gn/T/ipykernel_12052/3277860180.py:30: FutureWarning: The default dtype for empty Series will be 'object' instead of 'float64' in a future version. Specify a dtype explicitly to silence this warning.\n",
      "  cluster = pd.Series(index=range(df.shape[0]))\n",
      "/var/folders/2s/3p893_4d5lx_7jjv9b9x4v9h0000gn/T/ipykernel_12052/3277860180.py:30: FutureWarning: The default dtype for empty Series will be 'object' instead of 'float64' in a future version. Specify a dtype explicitly to silence this warning.\n",
      "  cluster = pd.Series(index=range(df.shape[0]))\n",
      "/var/folders/2s/3p893_4d5lx_7jjv9b9x4v9h0000gn/T/ipykernel_12052/3277860180.py:18: FutureWarning: The default dtype for empty Series will be 'object' instead of 'float64' in a future version. Specify a dtype explicitly to silence this warning.\n",
      "  cluster = pd.Series(index=range(df.shape[0]))\n",
      "/var/folders/2s/3p893_4d5lx_7jjv9b9x4v9h0000gn/T/ipykernel_12052/3277860180.py:30: FutureWarning: The default dtype for empty Series will be 'object' instead of 'float64' in a future version. Specify a dtype explicitly to silence this warning.\n",
      "  cluster = pd.Series(index=range(df.shape[0]))\n",
      "/var/folders/2s/3p893_4d5lx_7jjv9b9x4v9h0000gn/T/ipykernel_12052/3277860180.py:18: FutureWarning: The default dtype for empty Series will be 'object' instead of 'float64' in a future version. Specify a dtype explicitly to silence this warning.\n",
      "  cluster = pd.Series(index=range(df.shape[0]))\n",
      "/var/folders/2s/3p893_4d5lx_7jjv9b9x4v9h0000gn/T/ipykernel_12052/3277860180.py:30: FutureWarning: The default dtype for empty Series will be 'object' instead of 'float64' in a future version. Specify a dtype explicitly to silence this warning.\n",
      "  cluster = pd.Series(index=range(df.shape[0]))\n",
      "/var/folders/2s/3p893_4d5lx_7jjv9b9x4v9h0000gn/T/ipykernel_12052/3277860180.py:30: FutureWarning: The default dtype for empty Series will be 'object' instead of 'float64' in a future version. Specify a dtype explicitly to silence this warning.\n",
      "  cluster = pd.Series(index=range(df.shape[0]))\n",
      "/var/folders/2s/3p893_4d5lx_7jjv9b9x4v9h0000gn/T/ipykernel_12052/3277860180.py:30: FutureWarning: The default dtype for empty Series will be 'object' instead of 'float64' in a future version. Specify a dtype explicitly to silence this warning.\n",
      "  cluster = pd.Series(index=range(df.shape[0]))\n",
      "/var/folders/2s/3p893_4d5lx_7jjv9b9x4v9h0000gn/T/ipykernel_12052/3277860180.py:30: FutureWarning: The default dtype for empty Series will be 'object' instead of 'float64' in a future version. Specify a dtype explicitly to silence this warning.\n",
      "  cluster = pd.Series(index=range(df.shape[0]))\n",
      "/var/folders/2s/3p893_4d5lx_7jjv9b9x4v9h0000gn/T/ipykernel_12052/3277860180.py:30: FutureWarning: The default dtype for empty Series will be 'object' instead of 'float64' in a future version. Specify a dtype explicitly to silence this warning.\n",
      "  cluster = pd.Series(index=range(df.shape[0]))\n",
      "/var/folders/2s/3p893_4d5lx_7jjv9b9x4v9h0000gn/T/ipykernel_12052/3277860180.py:18: FutureWarning: The default dtype for empty Series will be 'object' instead of 'float64' in a future version. Specify a dtype explicitly to silence this warning.\n",
      "  cluster = pd.Series(index=range(df.shape[0]))\n",
      "/var/folders/2s/3p893_4d5lx_7jjv9b9x4v9h0000gn/T/ipykernel_12052/3277860180.py:30: FutureWarning: The default dtype for empty Series will be 'object' instead of 'float64' in a future version. Specify a dtype explicitly to silence this warning.\n",
      "  cluster = pd.Series(index=range(df.shape[0]))\n",
      "/var/folders/2s/3p893_4d5lx_7jjv9b9x4v9h0000gn/T/ipykernel_12052/3277860180.py:18: FutureWarning: The default dtype for empty Series will be 'object' instead of 'float64' in a future version. Specify a dtype explicitly to silence this warning.\n",
      "  cluster = pd.Series(index=range(df.shape[0]))\n",
      "/var/folders/2s/3p893_4d5lx_7jjv9b9x4v9h0000gn/T/ipykernel_12052/3277860180.py:34: FutureWarning: The default dtype for empty Series will be 'object' instead of 'float64' in a future version. Specify a dtype explicitly to silence this warning.\n",
      "  clusters = pd.Series(index=range(df.shape[0]))\n",
      "/var/folders/2s/3p893_4d5lx_7jjv9b9x4v9h0000gn/T/ipykernel_12052/3277860180.py:52: FutureWarning: The default dtype for empty Series will be 'object' instead of 'float64' in a future version. Specify a dtype explicitly to silence this warning.\n",
      "  clusters = pd.Series(index=range(df.shape[0]))\n",
      "/var/folders/2s/3p893_4d5lx_7jjv9b9x4v9h0000gn/T/ipykernel_12052/3277860180.py:52: FutureWarning: The default dtype for empty Series will be 'object' instead of 'float64' in a future version. Specify a dtype explicitly to silence this warning.\n",
      "  clusters = pd.Series(index=range(df.shape[0]))\n",
      "/var/folders/2s/3p893_4d5lx_7jjv9b9x4v9h0000gn/T/ipykernel_12052/3277860180.py:52: FutureWarning: The default dtype for empty Series will be 'object' instead of 'float64' in a future version. Specify a dtype explicitly to silence this warning.\n",
      "  clusters = pd.Series(index=range(df.shape[0]))\n"
     ]
    },
    {
     "name": "stdout",
     "output_type": "stream",
     "text": [
      "Optimal number of clusters for glass is: 8\n"
     ]
    },
    {
     "name": "stderr",
     "output_type": "stream",
     "text": [
      "/var/folders/2s/3p893_4d5lx_7jjv9b9x4v9h0000gn/T/ipykernel_12052/3277860180.py:52: FutureWarning: The default dtype for empty Series will be 'object' instead of 'float64' in a future version. Specify a dtype explicitly to silence this warning.\n",
      "  clusters = pd.Series(index=range(df.shape[0]))\n",
      "/var/folders/2s/3p893_4d5lx_7jjv9b9x4v9h0000gn/T/ipykernel_12052/3277860180.py:52: FutureWarning: The default dtype for empty Series will be 'object' instead of 'float64' in a future version. Specify a dtype explicitly to silence this warning.\n",
      "  clusters = pd.Series(index=range(df.shape[0]))\n"
     ]
    }
   ],
   "source": [
    "X_wine_df = pd.DataFrame(X_wine)\n",
    "X_iris_df = pd.DataFrame(X_iris)\n",
    "X_landsat_df = pd.DataFrame(X_landsat)\n",
    "X_magic_df = pd.DataFrame(X_magic)\n",
    "X_glass_df = pd.DataFrame(X_glass)\n",
    "\n",
    "print(anom_res(X_wine_df, 'wine'))\n",
    "print(anom_res(X_iris_df, 'iris'))\n",
    "print(anom_res(X_landsat_df, 'landsat'))\n",
    "print(anom_res(X_magic_df, 'magic'))\n",
    "print(anom_res(X_glass_df, 'glass'))"
   ]
  },
  {
   "cell_type": "markdown",
   "metadata": {
    "id": "GLejh_MeDqvB"
   },
   "source": [
    "# Determine Cluster Number Without Clustering for Every K Based on Ratio of Variance to Range in K-Means"
   ]
  },
  {
   "cell_type": "code",
   "execution_count": 25,
   "metadata": {},
   "outputs": [],
   "source": [
    "def clustering_with_dwr(Y):\n",
    "    # Compute the maximum number of clusters for KMeans\n",
    "    max_clusters = int(sqrt(Y.shape[0] / 2))\n",
    "    \n",
    "    distortions = [] # Store distortions for each different number of clusters\n",
    "    for i in range(1, max_clusters + 1):\n",
    "        # Apply KMeans with different numbers of clusters\n",
    "        kmeans = KMeans(n_clusters=i, n_init=10).fit(Y)\n",
    "        # Append distortions (inertia_)\n",
    "        distortions.append(kmeans.inertia_)\n",
    "    \n",
    "    # Find the optimal number of clusters using the \"elbow point\" of the distortion graph\n",
    "    K_star = find_elbow_point(np.array(distortions))\n",
    "    \n",
    "    # Apply the clustering algorithm again with the optimal number of clusters\n",
    "    kmeans = KMeans(n_clusters=K_star, n_init=10).fit(Y)\n",
    "    C_star = kmeans.labels_\n",
    "    \n",
    "    return K_star, C_star\n",
    "\n",
    "def find_elbow_point(G):\n",
    "    # This function finds the point of maximum curvature from the line defined by the first and last points.\n",
    "    n_points = len(G)\n",
    "    coords = np.vstack((range(n_points), G)).T\n",
    "    first_point = coords[0]\n",
    "    line = np.subtract(coords[-1], first_point)\n",
    "    line_norm = line / np.sqrt(np.sum(line**2))\n",
    "    vec_from_first = np.subtract(coords, first_point)\n",
    "    scalar_product = np.sum(vec_from_first * np.tile(line_norm, (n_points, 1)), axis=1)\n",
    "    vec_from_first_parallel = np.outer(scalar_product, line_norm)\n",
    "    vector_to_line = np.subtract(vec_from_first, vec_from_first_parallel)\n",
    "    dist_to_line = np.sqrt(np.sum(vector_to_line ** 2, axis=1))\n",
    "    idx_of_elbow = np.argmax(dist_to_line)\n",
    "    return idx_of_elbow + 1"
   ]
  },
  {
   "cell_type": "code",
   "execution_count": 26,
   "metadata": {
    "id": "9r38dEn_87xb"
   },
   "outputs": [
    {
     "name": "stdout",
     "output_type": "stream",
     "text": [
      "Optimal number of clusters wine: 3\n",
      "Optimal number of clusters iris: 2\n",
      "Optimal number of clusters landsat: 6\n",
      "Optimal number of clusters magic: 13\n",
      "Optimal number of clusters glass: 4\n"
     ]
    }
   ],
   "source": [
    "K_star, C_star = clustering_with_dwr(X_wine)\n",
    "print(\"Optimal number of clusters wine:\", K_star)\n",
    "\n",
    "K_star, C_star = clustering_with_dwr(X_iris)\n",
    "print(\"Optimal number of clusters iris:\", K_star)\n",
    "\n",
    "K_star, C_star = clustering_with_dwr(X_landsat)\n",
    "print(\"Optimal number of clusters landsat:\", K_star)\n",
    "\n",
    "K_star, C_star = clustering_with_dwr(X_magic)\n",
    "print(\"Optimal number of clusters magic:\", K_star)\n",
    "\n",
    "K_star, C_star = clustering_with_dwr(X_glass)\n",
    "print(\"Optimal number of clusters glass:\", K_star)"
   ]
  },
  {
   "cell_type": "markdown",
   "metadata": {
    "id": "CioJO4_JFtRL"
   },
   "source": [
    "# Gausian Likelyhood Score Method\n"
   ]
  },
  {
   "cell_type": "code",
   "execution_count": 27,
   "metadata": {
    "id": "ID_FdiH3FtCB"
   },
   "outputs": [],
   "source": [
    "def gaussian_likelihood_score(points, labels, resolution=50, pca=True):\n",
    "    probability = 0\n",
    "    n_clusters = len(np.unique(labels))\n",
    "    for j in range(n_clusters):\n",
    "        cluster_points = points[labels == j]\n",
    "        if pca:\n",
    "            cluster_points = PCA(1).fit_transform(cluster_points)\n",
    "            centroid = np.mean(cluster_points)\n",
    "            spread = np.std(cluster_points)\n",
    "\n",
    "            rv = norm(loc=centroid, scale=spread)\n",
    "            hist, bins = np.histogram(cluster_points[:, 0], bins=resolution)\n",
    "            probability_pca = np.sum(rv.logpdf(bins[:-1]) * hist)\n",
    "            if np.isnan(probability_pca):\n",
    "                probability_pca = 0.\n",
    "            probability += probability_pca\n",
    "        else:\n",
    "            centroid = np.mean(cluster_points, axis=0)\n",
    "            spread = np.std(cluster_points, axis=0)\n",
    "\n",
    "            rv_1 = norm(loc=centroid[0], scale=spread[0])\n",
    "            rv_2 = norm(loc=centroid[1], scale=spread[1])\n",
    "\n",
    "            hist_1, bins_1 = np.histogram(\n",
    "                cluster_points[:, 0], bins=resolution)\n",
    "            hist_2, bins_2 = np.histogram(\n",
    "                cluster_points[:, 1], bins=resolution)\n",
    "\n",
    "            probability_axis_1 = np.sum(rv_1.logpdf(bins_1[:-1]) * hist_1)\n",
    "            if np.isnan(probability_axis_1):\n",
    "                probability_axis_1 = 0.\n",
    "            probability_axis_2 = np.sum(rv_2.logpdf(bins_2[:-1]) * hist_2)\n",
    "            if np.isnan(probability_axis_2):\n",
    "                probability_axis_2 = 0.\n",
    "            probability += probability_axis_1 + probability_axis_2\n",
    "    return probability\n",
    "\n",
    "\n",
    "def find_best_cluster(scores):\n",
    "    scores = np.array(scores)\n",
    "    # derivative of score\n",
    "    d = scores - np.hstack([[0], scores[:-1]])\n",
    "    dd = d[1:] / (d[:-1] + 1e-10)\n",
    "    if dd[0] < 0:\n",
    "        dd[0] = np.inf\n",
    "    optimal_number = np.argmin(dd)\n",
    "    return optimal_number"
   ]
  },
  {
   "cell_type": "code",
   "execution_count": 28,
   "metadata": {
    "id": "akb-hEzMF2I0"
   },
   "outputs": [
    {
     "name": "stdout",
     "output_type": "stream",
     "text": [
      "The optimal number of clusters wine: 3\n",
      "The optimal number of clusters iris: 9\n",
      "The optimal number of clusters landsat: 3\n",
      "The optimal number of clusters magic: 3\n",
      "The optimal number of clusters glass: 5\n"
     ]
    }
   ],
   "source": [
    "data_wine = df_wine[selected_columns_wine].values\n",
    "data_iris = df_iris[selected_columns_iris].values\n",
    "data_landsat = df_landsat[selected_columns_landsat].values\n",
    "data_magic = df_magic[selected_columns_magic].values\n",
    "data_glass = df_glass[selected_columns_glass].values\n",
    "\n",
    "min_clusters = 2\n",
    "max_clusters = 10\n",
    "\n",
    "def gls_scores_calc(data):\n",
    "    gls_scores = []\n",
    "    for i in range(min_clusters, max_clusters + 1):\n",
    "\n",
    "        clusterer = AgglomerativeClustering(n_clusters=i).fit(data)\n",
    "        labels = clusterer.labels_\n",
    "        \n",
    "        score = gaussian_likelihood_score(data, labels)\n",
    "        gls_scores.append(score)\n",
    "    \n",
    "    return gls_scores\n",
    "\n",
    "optimal_clusters = find_best_cluster(gls_scores_calc(data_wine)) + min_clusters\n",
    "print(f'The optimal number of clusters wine: {optimal_clusters}')\n",
    "\n",
    "optimal_clusters = find_best_cluster(gls_scores_calc(data_iris)) + min_clusters\n",
    "print(f'The optimal number of clusters iris: {optimal_clusters}')\n",
    "\n",
    "optimal_clusters = find_best_cluster(gls_scores_calc(data_landsat)) + min_clusters\n",
    "print(f'The optimal number of clusters landsat: {optimal_clusters}')\n",
    "\n",
    "optimal_clusters = find_best_cluster(gls_scores_calc(data_magic)) + min_clusters\n",
    "print(f'The optimal number of clusters magic: {optimal_clusters}')\n",
    "\n",
    "optimal_clusters = find_best_cluster(gls_scores_calc(data_glass)) + min_clusters\n",
    "print(f'The optimal number of clusters glass: {optimal_clusters}')"
   ]
  },
  {
   "cell_type": "markdown",
   "metadata": {
    "id": "zEQs-vRaPRBn"
   },
   "source": [
    "# Agglomerative clustering method"
   ]
  },
  {
   "cell_type": "code",
   "execution_count": 29,
   "metadata": {
    "id": "Akdx62j9PX__"
   },
   "outputs": [
    {
     "data": {
      "image/png": "[encoded data removed]",
      "text/plain": [
       "<Figure size 800x400 with 1 Axes>"
      ]
     },
     "metadata": {},
     "output_type": "display_data"
    }
   ],
   "source": [
    "plt.figure(figsize= (8, 4))\n",
    "plt.title(\"Dendrograms\")\n",
    "dend_wine = shc.dendrogram(shc.linkage (X_wine, method='ward'))\n",
    "dend_iris = shc.dendrogram(shc.linkage (X_iris, method='ward'))\n",
    "dend_landsat = shc.dendrogram(shc.linkage (X_landsat, method='ward'))\n",
    "dend_magic = shc.dendrogram(shc.linkage (X_magic, method='ward'))\n",
    "dend_glass = shc.dendrogram(shc.linkage (X_glass, method='ward'))"
   ]
  },
  {
   "cell_type": "code",
   "execution_count": 30,
   "metadata": {
    "id": "XYM9e7CqPa_r"
   },
   "outputs": [],
   "source": [
    "unique_colors_wine = set(dend_wine['color_list'])\n",
    "unique_colors_iris = set(dend_iris['color_list'])\n",
    "unique_colors_landsat = set(dend_landsat['color_list'])\n",
    "unique_colors_magic = set(dend_magic['color_list'])\n",
    "unique_colors_glass = set(dend_glass['color_list'])"
   ]
  },
  {
   "cell_type": "code",
   "execution_count": 31,
   "metadata": {
    "id": "_Ijs6egzPcxb"
   },
   "outputs": [
    {
     "name": "stdout",
     "output_type": "stream",
     "text": [
      "The optimal number of clusters wine: 3\n",
      "The optimal number of clusters iris: 2\n",
      "The optimal number of clusters landsat: 3\n",
      "The optimal number of clusters magic: 2\n",
      "The optimal number of clusters glass: 4\n"
     ]
    }
   ],
   "source": [
    "optimal_number_of_clusters = len(unique_colors_wine) - 1\n",
    "print(f'The optimal number of clusters wine: {optimal_number_of_clusters}')\n",
    "\n",
    "optimal_number_of_clusters = len(unique_colors_iris) - 1\n",
    "print(f'The optimal number of clusters iris: {optimal_number_of_clusters}')\n",
    "\n",
    "optimal_number_of_clusters = len(unique_colors_landsat) - 1\n",
    "print(f'The optimal number of clusters landsat: {optimal_number_of_clusters}')\n",
    "\n",
    "optimal_number_of_clusters = len(unique_colors_magic) - 1\n",
    "print(f'The optimal number of clusters magic: {optimal_number_of_clusters}')\n",
    "\n",
    "optimal_number_of_clusters = len(unique_colors_glass) - 1\n",
    "print(f'The optimal number of clusters glass: {optimal_number_of_clusters}')"
   ]
  },
  {
   "cell_type": "markdown",
   "metadata": {
    "id": "ZIayefUFP7bK"
   },
   "source": [
    "# Elbow auto"
   ]
  },
  {
   "cell_type": "code",
   "execution_count": 32,
   "metadata": {},
   "outputs": [],
   "source": [
    "def elbow_second_derivative(X, K_max=10):\n",
    "    inertias = []\n",
    "    for k in range(1, K_max+2):\n",
    "        kmeans = KMeans(n_clusters=k, n_init=10).fit(X)\n",
    "        inertias.append(kmeans.inertia_)\n",
    "\n",
    "    second_derivative = [0] * (K_max - 1)\n",
    "    for i in range(1, K_max):\n",
    "        second_derivative[i-1] = inertias[i+1] + inertias[i-1] - 2 * inertias[i]\n",
    "\n",
    "    optimal_k = np.argmax(second_derivative) + 2\n",
    "    return optimal_k\n"
   ]
  },
  {
   "cell_type": "code",
   "execution_count": 33,
   "metadata": {
    "id": "iP0pACaqP8Pe"
   },
   "outputs": [
    {
     "name": "stdout",
     "output_type": "stream",
     "text": [
      "The optimal number of clusters wine: 3\n",
      "The optimal number of clusters iris: 2\n",
      "The optimal number of clusters landsat: 3\n",
      "The optimal number of clusters magic: 2\n",
      "The optimal number of clusters glass: 3\n"
     ]
    }
   ],
   "source": [
    "print('The optimal number of clusters wine:',elbow_second_derivative(X_wine))\n",
    "\n",
    "print('The optimal number of clusters iris:',elbow_second_derivative(X_iris))\n",
    "\n",
    "print('The optimal number of clusters landsat:',elbow_second_derivative(X_landsat))\n",
    "\n",
    "print('The optimal number of clusters magic:',elbow_second_derivative(X_magic))\n",
    "\n",
    "print('The optimal number of clusters glass:',elbow_second_derivative(X_glass))"
   ]
  },
  {
   "cell_type": "markdown",
   "metadata": {},
   "source": [
    "# Elbow"
   ]
  },
  {
   "cell_type": "code",
   "execution_count": 34,
   "metadata": {},
   "outputs": [],
   "source": [
    "from sklearn.cluster import KMeans\n",
    "import matplotlib.pyplot as plt\n",
    "\n",
    "def elbow_method(X, dataset_name):\n",
    "    inertia = []\n",
    "    clusters = range(1, 11)\n",
    "\n",
    "    for n in clusters:\n",
    "        kmeans = KMeans(n_clusters=n, random_state=1, n_init=10).fit(X)\n",
    "        inertia.append(kmeans.inertia_)\n",
    "\n",
    "    plt.figure(figsize=(6, 6))\n",
    "    plt.plot(clusters, inertia, '-o')\n",
    "    plt.xlabel('Number of clusters')\n",
    "    plt.ylabel('Inertia')\n",
    "    plt.title(f'Elbow Method for {dataset_name}')\n",
    "    plt.grid(True)\n",
    "    plt.show()\n"
   ]
  },
  {
   "cell_type": "code",
   "execution_count": 35,
   "metadata": {},
   "outputs": [
    {
     "data": {
      "image/png": "[encoded data removed]",
      "text/plain": [
       "<Figure size 600x600 with 1 Axes>"
      ]
     },
     "metadata": {},
     "output_type": "display_data"
    },
    {
     "name": "stdout",
     "output_type": "stream",
     "text": [
      "The optimal number of clusters wine: \n"
     ]
    },
    {
     "data": {
      "image/png": "[encoded data removed]",
      "text/plain": [
       "<Figure size 600x600 with 1 Axes>"
      ]
     },
     "metadata": {},
     "output_type": "display_data"
    },
    {
     "name": "stdout",
     "output_type": "stream",
     "text": [
      "The optimal number of clusters iris: \n"
     ]
    },
    {
     "data": {
      "image/png": "[encoded data removed]",
      "text/plain": [
       "<Figure size 600x600 with 1 Axes>"
      ]
     },
     "metadata": {},
     "output_type": "display_data"
    },
    {
     "name": "stdout",
     "output_type": "stream",
     "text": [
      "The optimal number of clusters landsat: \n"
     ]
    }
   ],
   "source": [
    "elbow_method(X_wine, 'wine')\n",
    "print(\"The optimal number of clusters wine: \")\n",
    "\n",
    "elbow_method(X_iris, 'iris')\n",
    "print(\"The optimal number of clusters iris: \")\n",
    "\n",
    "elbow_method(data_landsat, 'landsat')\n",
    "print(\"The optimal number of clusters landsat: \")"
   ]
  },
  {
   "cell_type": "code",
   "execution_count": 36,
   "metadata": {},
   "outputs": [
    {
     "data": {
      "image/png": "[encoded data removed]",
      "text/plain": [
       "<Figure size 600x600 with 1 Axes>"
      ]
     },
     "metadata": {},
     "output_type": "display_data"
    },
    {
     "name": "stdout",
     "output_type": "stream",
     "text": [
      "The optimal number of clusters magic: \n"
     ]
    },
    {
     "data": {
      "image/png": "[encoded data removed]",
      "text/plain": [
       "<Figure size 600x600 with 1 Axes>"
      ]
     },
     "metadata": {},
     "output_type": "display_data"
    },
    {
     "name": "stdout",
     "output_type": "stream",
     "text": [
      "The optimal number of clusters glass: \n"
     ]
    }
   ],
   "source": [
    "elbow_method(X_magic, 'magic')\n",
    "print(\"The optimal number of clusters magic: \")\n",
    "\n",
    "elbow_method(X_glass, 'glass')\n",
    "print(\"The optimal number of clusters glass: \")"
   ]
  },
  {
   "cell_type": "markdown",
   "metadata": {
    "id": "SDQR-wsfahKz"
   },
   "source": [
    "# DeD Method"
   ]
  },
  {
   "cell_type": "code",
   "execution_count": 37,
   "metadata": {
    "id": "p-z7YErIakp5"
   },
   "outputs": [],
   "source": [
    "def depth(point, data):\n",
    "    return np.mean(np.linalg.norm(data - point, axis=1))\n",
    "\n",
    "def data_depth(X, k_range=None, n_init=50):\n",
    "    # Normalize the data\n",
    "    #X = StandardScaler().fit_transform(X)\n",
    "\n",
    "    # Set default k_range based on the size of the dataset\n",
    "    if k_range is None:\n",
    "        k_range = (2, int(np.sqrt(X.shape[0] / 2)))\n",
    "    \n",
    "    n = len(X)\n",
    "    depths = np.array([depth(x, X) for x in X])\n",
    "    median_depth = np.median(depths)\n",
    "    A = np.mean(np.abs(depths - median_depth))\n",
    "\n",
    "    DeD_scores = []\n",
    "\n",
    "    for k in range(*k_range):\n",
    "        clusterer = KMeans(n_clusters=k, n_init=n_init).fit(X)\n",
    "        labels = clusterer.labels_\n",
    "        cluster_As = []\n",
    "        for i in range(k):\n",
    "            cluster_points = X[labels == i]\n",
    "            cluster_depths = np.array([depth(x, cluster_points) for x in cluster_points])\n",
    "            cluster_median_depth = np.median(cluster_depths)\n",
    "            cluster_As.append(np.mean(np.abs(cluster_depths - cluster_median_depth)))\n",
    "        DW = np.mean(cluster_As)\n",
    "        DB = A - DW\n",
    "\n",
    "        # Change the evaluation to division instead of subtraction\n",
    "        # Add a small constant in the denominator to avoid division by zero\n",
    "        DeD = DW - DB\n",
    "        DeD_scores.append(DeD)\n",
    "\n",
    "    optimal_clusters = np.argmax(DeD_scores) + k_range[0]\n",
    "\n",
    "    return optimal_clusters"
   ]
  },
  {
   "cell_type": "code",
   "execution_count": null,
   "metadata": {
    "id": "EDU-fCZoapGG"
   },
   "outputs": [
    {
     "name": "stdout",
     "output_type": "stream",
     "text": [
      "The optimal number of clusters wine 2\n",
      "The optimal number of clusters iris 2\n",
      "The optimal number of clusters landsat 2\n"
     ]
    },
    {
     "ename": "KeyboardInterrupt",
     "evalue": "",
     "output_type": "error",
     "traceback": [
      "\u001b[0;31m---------------------------------------------------------------------------\u001b[0m",
      "\u001b[0;31mKeyboardInterrupt\u001b[0m                         Traceback (most recent call last)",
      "File \u001b[0;32m<__array_function__ internals>:177\u001b[0m, in \u001b[0;36mwhere\u001b[0;34m(*args, **kwargs)\u001b[0m\n",
      "\u001b[0;31mKeyboardInterrupt\u001b[0m: "
     ]
    },
    {
     "name": "stderr",
     "output_type": "stream",
     "text": [
      "Exception ignored in: 'sklearn.cluster._k_means_common._relocate_empty_clusters_dense'\n",
      "Traceback (most recent call last):\n",
      "  File \"<__array_function__ internals>\", line 177, in where\n",
      "KeyboardInterrupt: \n"
     ]
    },
    {
     "ename": "KeyboardInterrupt",
     "evalue": "",
     "output_type": "error",
     "traceback": [
      "\u001b[0;31m---------------------------------------------------------------------------\u001b[0m",
      "\u001b[0;31mKeyboardInterrupt\u001b[0m                         Traceback (most recent call last)",
      "File \u001b[0;32m<__array_function__ internals>:177\u001b[0m, in \u001b[0;36mwhere\u001b[0;34m(*args, **kwargs)\u001b[0m\n",
      "\u001b[0;31mKeyboardInterrupt\u001b[0m: "
     ]
    },
    {
     "name": "stderr",
     "output_type": "stream",
     "text": [
      "Exception ignored in: 'sklearn.cluster._k_means_common._relocate_empty_clusters_dense'\n",
      "Traceback (most recent call last):\n",
      "  File \"<__array_function__ internals>\", line 177, in where\n",
      "KeyboardInterrupt: \n"
     ]
    }
   ],
   "source": [
    "optimal_clusters = data_depth(X_wine)\n",
    "print(f\"The optimal number of clusters wine {optimal_clusters}\")\n",
    "\n",
    "optimal_clusters = data_depth(X_iris)\n",
    "print(f\"The optimal number of clusters iris {optimal_clusters}\")\n",
    "\n",
    "optimal_clusters = data_depth(X_landsat)\n",
    "print(f\"The optimal number of clusters landsat {optimal_clusters}\")\n",
    "\n",
    "optimal_clusters = data_depth(X_magic)\n",
    "print(f\"The optimal number of clusters magic {optimal_clusters}\")\n",
    "\n",
    "optimal_clusters = data_depth(X_glass)\n",
    "print(f\"The optimal number of clusters glass {optimal_clusters}\")"
   ]
  },
  {
   "cell_type": "markdown",
   "metadata": {},
   "source": [
    "# Silhouette Algorithm"
   ]
  },
  {
   "cell_type": "code",
   "execution_count": 117,
   "metadata": {},
   "outputs": [],
   "source": [
    "def optimal_clusters_via_silhouette(data, max_clusters=10):\n",
    "    silhouette_scores = []\n",
    "\n",
    "    for n_clusters in range(2, max_clusters + 1):\n",
    "        kmeans = KMeans(n_clusters=n_clusters, random_state=42)\n",
    "        kmeans.fit(data)\n",
    "\n",
    "        labels = kmeans.labels_\n",
    "        silhouette_avg = silhouette_score(data, labels)\n",
    "        silhouette_scores.append(silhouette_avg)\n",
    "\n",
    "    best_n_clusters = silhouette_scores.index(max(silhouette_scores)) + 2\n",
    "    \n",
    "    return best_n_clusters\n"
   ]
  },
  {
   "cell_type": "code",
   "execution_count": 118,
   "metadata": {},
   "outputs": [
    {
     "name": "stdout",
     "output_type": "stream",
     "text": [
      "The optimal number of clusters wine 3\n",
      "The optimal number of clusters wine 2\n",
      "The optimal number of clusters wine 3\n",
      "The optimal number of clusters wine 2\n",
      "The optimal number of clusters wine 2\n"
     ]
    }
   ],
   "source": [
    "best_n_clusters = optimal_clusters_via_silhouette(X_wine, max_clusters=10)\n",
    "print(f\"The optimal number of clusters wine {best_n_clusters}\")\n",
    "\n",
    "best_n_clusters = optimal_clusters_via_silhouette(X_iris, max_clusters=10)\n",
    "print(f\"The optimal number of clusters wine {best_n_clusters}\")\n",
    "\n",
    "best_n_clusters = optimal_clusters_via_silhouette(X_landsat, max_clusters=10)\n",
    "print(f\"The optimal number of clusters wine {best_n_clusters}\")\n",
    "\n",
    "best_n_clusters = optimal_clusters_via_silhouette(X_magic, max_clusters=10)\n",
    "print(f\"The optimal number of clusters wine {best_n_clusters}\")\n",
    "\n",
    "best_n_clusters = optimal_clusters_via_silhouette(X_glass, max_clusters=10)\n",
    "print(f\"The optimal number of clusters wine {best_n_clusters}\")"
   ]
  },
  {
   "cell_type": "markdown",
   "metadata": {},
   "source": [
    "# Clustering"
   ]
  },
  {
   "cell_type": "code",
   "execution_count": 37,
   "metadata": {},
   "outputs": [],
   "source": [
    "def perform_kmeans_clustering(X, K):\n",
    "    kmeans = KMeans(n_clusters=K, random_state=0)\n",
    "\n",
    "    kmeans.fit(X)\n",
    "\n",
    "    return kmeans.labels_\n"
   ]
  },
  {
   "cell_type": "code",
   "execution_count": 137,
   "metadata": {},
   "outputs": [],
   "source": [
    "dbi_sum = []\n",
    "dunn_sum = []\n",
    "silhouette_sum = []"
   ]
  },
  {
   "cell_type": "markdown",
   "metadata": {},
   "source": [
    "### Ratio of variance"
   ]
  },
  {
   "cell_type": "code",
   "execution_count": 39,
   "metadata": {},
   "outputs": [],
   "source": [
    "labels_row_wine = perform_kmeans_clustering(X_wine, 3)\n",
    "labels_row_iris = perform_kmeans_clustering(X_iris, 2)\n",
    "labels_row_landsat = perform_kmeans_clustering(X_landsat, 6)\n",
    "labels_row_magic = perform_kmeans_clustering(X_magic, 13)\n",
    "labels_row_glass = perform_kmeans_clustering(X_glass, 4)"
   ]
  },
  {
   "cell_type": "markdown",
   "metadata": {},
   "source": [
    "##### David-Bolduin"
   ]
  },
  {
   "cell_type": "code",
   "execution_count": 40,
   "metadata": {},
   "outputs": [],
   "source": [
    "dbi_row_wine = davies_bouldin_score(X_wine, labels_row_wine)\n",
    "dbi_row_iris = davies_bouldin_score(X_iris, labels_row_iris)\n",
    "dbi_row_landsat = davies_bouldin_score(X_landsat, labels_row_landsat)\n",
    "dbi_row_magic = davies_bouldin_score(X_magic, labels_row_magic)\n",
    "dbi_row_glass = davies_bouldin_score(X_glass, labels_row_glass)"
   ]
  },
  {
   "cell_type": "code",
   "execution_count": 41,
   "metadata": {},
   "outputs": [
    {
     "name": "stdout",
     "output_type": "stream",
     "text": [
      "dbi wine 1.3938085497845032\n",
      "dbi iris 0.5135579403975417\n",
      "dbi landsat 1.0305703566701483\n",
      "dbi magic 1.476887298560113\n",
      "dbi glass 1.068854970613817\n"
     ]
    }
   ],
   "source": [
    "print('dbi wine', dbi_row_wine)\n",
    "print('dbi iris', dbi_row_iris)\n",
    "print('dbi landsat', dbi_row_landsat)\n",
    "print('dbi magic', dbi_row_magic)\n",
    "print('dbi glass', dbi_row_glass)"
   ]
  },
  {
   "cell_type": "code",
   "execution_count": 138,
   "metadata": {},
   "outputs": [],
   "source": [
    "dbi_sum_row = dbi_row_wine + dbi_row_iris + dbi_row_landsat + dbi_row_magic + dbi_row_glass\n",
    "dbi_sum.append(dbi_sum_row)"
   ]
  },
  {
   "cell_type": "markdown",
   "metadata": {},
   "source": [
    "##### Dunn"
   ]
  },
  {
   "cell_type": "code",
   "execution_count": 63,
   "metadata": {},
   "outputs": [],
   "source": [
    "from scipy.spatial.distance import cdist\n",
    "\n",
    "def calculate_dunn(features, labels):\n",
    "    unique_clusters = np.unique(labels)\n",
    "\n",
    "    inter_cluster_distances = []\n",
    "    intra_cluster_distances = []\n",
    "\n",
    "    for cluster in unique_clusters:\n",
    "        intra_cluster_points = features[labels == cluster]\n",
    "        intra_cluster_distances.append(np.max(cdist(intra_cluster_points, intra_cluster_points)))\n",
    "\n",
    "        for other_cluster in unique_clusters:\n",
    "            if cluster != other_cluster:\n",
    "                inter_cluster_points = features[labels == other_cluster]\n",
    "                inter_cluster_distances.append(np.min(cdist(intra_cluster_points, inter_cluster_points)))\n",
    "\n",
    "    dunn_index = np.min(inter_cluster_distances) / np.max(intra_cluster_distances)\n",
    "    return dunn_index\n"
   ]
  },
  {
   "cell_type": "code",
   "execution_count": 64,
   "metadata": {
    "scrolled": true
   },
   "outputs": [],
   "source": [
    "dunn_row_wine = calculate_dunn(X_wine, labels_row_wine)\n",
    "dunn_row_iris = calculate_dunn(X_iris, labels_row_iris)\n",
    "dunn_row_landsat = calculate_dunn(X_landsat, labels_row_landsat)\n",
    "dunn_row_magic = calculate_dunn(X_magic, labels_row_magic)\n",
    "dunn_row_glass = calculate_dunn(X_glass, labels_row_glass)"
   ]
  },
  {
   "cell_type": "code",
   "execution_count": 68,
   "metadata": {},
   "outputs": [
    {
     "name": "stdout",
     "output_type": "stream",
     "text": [
      "dunn wine 0.23255059257771643\n",
      "dunn iris 0.3400472974470128\n",
      "dunn landsat 0.06402402144510183\n",
      "dunn magic 0.012089204950848044\n",
      "dunn glass 0.06803737521741275\n"
     ]
    }
   ],
   "source": [
    "print('dunn wine', dunn_row_wine)\n",
    "print('dunn iris', dunn_row_iris)\n",
    "print('dunn landsat', dunn_row_landsat)\n",
    "print('dunn magic', dunn_row_magic)\n",
    "print('dunn glass', dunn_row_glass)"
   ]
  },
  {
   "cell_type": "code",
   "execution_count": 139,
   "metadata": {},
   "outputs": [],
   "source": [
    "dunn_sum_row = dunn_row_wine + dunn_row_iris + dunn_row_landsat + dunn_row_magic + dunn_row_glass\n",
    "dunn_sum.append(dunn_sum_row)"
   ]
  },
  {
   "cell_type": "markdown",
   "metadata": {},
   "source": [
    "##### Silhuette"
   ]
  },
  {
   "cell_type": "code",
   "execution_count": 67,
   "metadata": {},
   "outputs": [],
   "source": [
    "silhouette_row_wine = silhouette_score(X_wine, labels_row_wine)\n",
    "silhouette_row_iris = silhouette_score(X_iris, labels_row_iris)\n",
    "silhouette_row_landsat = silhouette_score(X_landsat, labels_row_landsat)\n",
    "silhouette_row_magic = silhouette_score(X_magic, labels_row_magic)\n",
    "silhouette_row_glass = silhouette_score(X_glass, labels_row_glass)"
   ]
  },
  {
   "cell_type": "code",
   "execution_count": 69,
   "metadata": {},
   "outputs": [
    {
     "name": "stdout",
     "output_type": "stream",
     "text": [
      "silhouette wine 0.2835806364948403\n",
      "silhouette iris 0.6212746008079453\n",
      "silhouette landsat 0.34954712654478576\n",
      "silhouette magic 0.16306897530164735\n",
      "silhouette glass 0.39274670829836283\n"
     ]
    }
   ],
   "source": [
    "print('silhouette wine', silhouette_row_wine)\n",
    "print('silhouette iris', silhouette_row_iris)\n",
    "print('silhouette landsat', silhouette_row_landsat)\n",
    "print('silhouette magic', silhouette_row_magic)\n",
    "print('silhouette glass', silhouette_row_glass)"
   ]
  },
  {
   "cell_type": "code",
   "execution_count": 140,
   "metadata": {},
   "outputs": [],
   "source": [
    "silhouette_sum_row = silhouette_row_wine + silhouette_row_iris + silhouette_row_landsat + silhouette_row_magic + silhouette_row_glass\n",
    "silhouette_sum.append(silhouette_sum_row)"
   ]
  },
  {
   "cell_type": "markdown",
   "metadata": {},
   "source": [
    "### Agglomerative clustering method"
   ]
  },
  {
   "cell_type": "code",
   "execution_count": 70,
   "metadata": {},
   "outputs": [],
   "source": [
    "labels_aggl_wine = perform_kmeans_clustering(X_wine, 3)\n",
    "labels_aggl_iris = perform_kmeans_clustering(X_iris, 2)\n",
    "labels_aggl_landsat = perform_kmeans_clustering(X_landsat, 3)\n",
    "labels_aggl_magic = perform_kmeans_clustering(X_magic, 2)\n",
    "labels_aggl_glass = perform_kmeans_clustering(X_glass, 4)"
   ]
  },
  {
   "cell_type": "markdown",
   "metadata": {},
   "source": [
    "##### David-Bolduin"
   ]
  },
  {
   "cell_type": "code",
   "execution_count": 75,
   "metadata": {},
   "outputs": [],
   "source": [
    "dbi_aggl_wine = davies_bouldin_score(X_wine, labels_aggl_wine)\n",
    "dbi_aggl_iris = davies_bouldin_score(X_iris, labels_aggl_iris)\n",
    "dbi_aggl_landsat = davies_bouldin_score(X_landsat, labels_aggl_landsat)\n",
    "dbi_aggl_magic = davies_bouldin_score(X_magic, labels_aggl_magic)\n",
    "dbi_aggl_glass = davies_bouldin_score(X_glass, labels_aggl_glass)"
   ]
  },
  {
   "cell_type": "code",
   "execution_count": 76,
   "metadata": {},
   "outputs": [
    {
     "name": "stdout",
     "output_type": "stream",
     "text": [
      "dbi wine 1.3938085497845032\n",
      "dbi iris 0.5135579403975417\n",
      "dbi landsat 0.8063377004758395\n",
      "dbi magic 1.4400482703184725\n",
      "dbi glass 1.068854970613817\n"
     ]
    }
   ],
   "source": [
    "print('dbi wine', dbi_aggl_wine)\n",
    "print('dbi iris', dbi_aggl_iris)\n",
    "print('dbi landsat', dbi_aggl_landsat)\n",
    "print('dbi magic', dbi_aggl_magic)\n",
    "print('dbi glass', dbi_aggl_glass)"
   ]
  },
  {
   "cell_type": "code",
   "execution_count": 142,
   "metadata": {},
   "outputs": [],
   "source": [
    "dbi_sum_aggl = dbi_aggl_wine + dbi_aggl_iris + dbi_aggl_landsat + dbi_aggl_magic + dbi_aggl_glass\n",
    "dbi_sum.append(dbi_sum_aggl)"
   ]
  },
  {
   "cell_type": "markdown",
   "metadata": {},
   "source": [
    "##### Dunn"
   ]
  },
  {
   "cell_type": "code",
   "execution_count": 78,
   "metadata": {},
   "outputs": [],
   "source": [
    "dunn_aggl_wine = calculate_dunn(X_wine, labels_aggl_wine)\n",
    "dunn_aggl_iris = calculate_dunn(X_iris, labels_aggl_iris)\n",
    "dunn_aggl_landsat = calculate_dunn(X_landsat, labels_aggl_landsat)\n",
    "dunn_aggl_magic = calculate_dunn(X_magic, labels_aggl_magic)\n",
    "dunn_aggl_glass = calculate_dunn(X_glass, labels_aggl_glass)"
   ]
  },
  {
   "cell_type": "code",
   "execution_count": 79,
   "metadata": {},
   "outputs": [
    {
     "name": "stdout",
     "output_type": "stream",
     "text": [
      "dunn wine 0.23255059257771643\n",
      "dunn iris 0.3400472974470128\n",
      "dunn landsat 0.07868192652086056\n",
      "dunn magic 0.0089219151508982\n",
      "dunn glass 0.06803737521741275\n"
     ]
    }
   ],
   "source": [
    "print('dunn wine', dunn_aggl_wine)\n",
    "print('dunn iris', dunn_aggl_iris)\n",
    "print('dunn landsat', dunn_aggl_landsat)\n",
    "print('dunn magic', dunn_aggl_magic)\n",
    "print('dunn glass', dunn_aggl_glass)"
   ]
  },
  {
   "cell_type": "code",
   "execution_count": 143,
   "metadata": {},
   "outputs": [],
   "source": [
    "dunn_sum_aggl = dunn_aggl_wine + dunn_aggl_iris + dunn_aggl_landsat + dunn_aggl_magic + dunn_aggl_glass\n",
    "dunn_sum.append(dunn_sum_aggl)"
   ]
  },
  {
   "cell_type": "markdown",
   "metadata": {},
   "source": [
    "###### Silhouette"
   ]
  },
  {
   "cell_type": "code",
   "execution_count": 80,
   "metadata": {},
   "outputs": [],
   "source": [
    "silhouette_aggl_wine = silhouette_score(X_wine, labels_aggl_wine)\n",
    "silhouette_aggl_iris = silhouette_score(X_iris, labels_aggl_iris)\n",
    "silhouette_aggl_landsat = silhouette_score(X_landsat, labels_aggl_landsat)\n",
    "silhouette_aggl_magic = silhouette_score(X_magic, labels_aggl_magic)\n",
    "silhouette_aggl_glass = silhouette_score(X_glass, labels_aggl_glass)"
   ]
  },
  {
   "cell_type": "code",
   "execution_count": 81,
   "metadata": {},
   "outputs": [
    {
     "name": "stdout",
     "output_type": "stream",
     "text": [
      "silhouette wine 0.2835806364948403\n",
      "silhouette iris 0.6212746008079453\n",
      "silhouette landsat 0.4361899401220625\n",
      "silhouette magic 0.29398016082014095\n",
      "silhouette glass 0.39274670829836283\n"
     ]
    }
   ],
   "source": [
    "print('silhouette wine', silhouette_aggl_wine)\n",
    "print('silhouette iris', silhouette_aggl_iris)\n",
    "print('silhouette landsat', silhouette_aggl_landsat)\n",
    "print('silhouette magic', silhouette_aggl_magic)\n",
    "print('silhouette glass', silhouette_aggl_glass)"
   ]
  },
  {
   "cell_type": "code",
   "execution_count": 144,
   "metadata": {},
   "outputs": [],
   "source": [
    "silhouette_sum_aggl = silhouette_aggl_wine + silhouette_aggl_iris + silhouette_aggl_landsat + silhouette_aggl_magic + silhouette_aggl_glass\n",
    "silhouette_sum.append(silhouette_sum_aggl)"
   ]
  },
  {
   "cell_type": "markdown",
   "metadata": {},
   "source": [
    "### HSE"
   ]
  },
  {
   "cell_type": "code",
   "execution_count": null,
   "metadata": {},
   "outputs": [],
   "source": []
  },
  {
   "cell_type": "markdown",
   "metadata": {},
   "source": [
    "##### David-bolduin"
   ]
  },
  {
   "cell_type": "code",
   "execution_count": null,
   "metadata": {},
   "outputs": [],
   "source": []
  },
  {
   "cell_type": "markdown",
   "metadata": {},
   "source": [
    "##### Dunn"
   ]
  },
  {
   "cell_type": "code",
   "execution_count": null,
   "metadata": {},
   "outputs": [],
   "source": []
  },
  {
   "cell_type": "markdown",
   "metadata": {},
   "source": [
    "##### Silhouette"
   ]
  },
  {
   "cell_type": "code",
   "execution_count": null,
   "metadata": {},
   "outputs": [],
   "source": []
  },
  {
   "cell_type": "markdown",
   "metadata": {},
   "source": [
    "### Gaussian"
   ]
  },
  {
   "cell_type": "code",
   "execution_count": 101,
   "metadata": {},
   "outputs": [],
   "source": [
    "labels_gaus_wine = perform_kmeans_clustering(X_wine, 3)\n",
    "labels_gaus_iris = perform_kmeans_clustering(X_iris, 9)\n",
    "labels_gaus_landsat = perform_kmeans_clustering(X_landsat, 3)\n",
    "labels_gaus_magic = perform_kmeans_clustering(X_magic, 3)\n",
    "labels_gaus_glass = perform_kmeans_clustering(X_glass, 5)"
   ]
  },
  {
   "cell_type": "markdown",
   "metadata": {},
   "source": [
    "##### David-bolduin"
   ]
  },
  {
   "cell_type": "code",
   "execution_count": 102,
   "metadata": {},
   "outputs": [],
   "source": [
    "dbi_gaus_wine = davies_bouldin_score(X_wine, labels_gaus_wine)\n",
    "dbi_gaus_iris = davies_bouldin_score(X_iris, labels_gaus_iris)\n",
    "dbi_gaus_landsat = davies_bouldin_score(X_landsat, labels_gaus_landsat)\n",
    "dbi_gaus_magic = davies_bouldin_score(X_magic, labels_gaus_magic)\n",
    "dbi_gaus_glass = davies_bouldin_score(X_glass, labels_gaus_glass)"
   ]
  },
  {
   "cell_type": "code",
   "execution_count": 103,
   "metadata": {},
   "outputs": [
    {
     "name": "stdout",
     "output_type": "stream",
     "text": [
      "dbi wine 1.3938085497845032\n",
      "dbi iris 1.0231425876475893\n",
      "dbi landsat 0.8063377004758395\n",
      "dbi magic 1.4414681669180496\n",
      "dbi glass 1.0362157732353705\n"
     ]
    }
   ],
   "source": [
    "print('dbi wine', dbi_gaus_wine)\n",
    "print('dbi iris', dbi_gaus_iris)\n",
    "print('dbi landsat', dbi_gaus_landsat)\n",
    "print('dbi magic', dbi_gaus_magic)\n",
    "print('dbi glass', dbi_gaus_glass)"
   ]
  },
  {
   "cell_type": "code",
   "execution_count": 145,
   "metadata": {},
   "outputs": [],
   "source": [
    "dbi_sum_gaus = dbi_gaus_wine + dbi_gaus_iris + dbi_gaus_landsat + dbi_gaus_magic + dbi_gaus_glass\n",
    "dbi_sum.append(dbi_sum_gaus)"
   ]
  },
  {
   "cell_type": "markdown",
   "metadata": {},
   "source": [
    "##### Dunn"
   ]
  },
  {
   "cell_type": "code",
   "execution_count": 104,
   "metadata": {},
   "outputs": [],
   "source": [
    "dunn_gaus_wine = calculate_dunn(X_wine, labels_gaus_wine)\n",
    "dunn_gaus_iris = calculate_dunn(X_iris, labels_gaus_iris)\n",
    "dunn_gaus_landsat = calculate_dunn(X_landsat, labels_gaus_landsat)\n",
    "dunn_gaus_magic = calculate_dunn(X_magic, labels_gaus_magic)\n",
    "dunn_gaus_glass = calculate_dunn(X_glass, labels_gaus_glass)"
   ]
  },
  {
   "cell_type": "code",
   "execution_count": 105,
   "metadata": {},
   "outputs": [
    {
     "name": "stdout",
     "output_type": "stream",
     "text": [
      "dunn wine 0.23255059257771643\n",
      "dunn iris 0.08432649214397495\n",
      "dunn landsat 0.07868192652086056\n",
      "dunn magic 0.010466874735399924\n",
      "dunn glass 0.046607434978379346\n"
     ]
    }
   ],
   "source": [
    "print('dunn wine', dunn_gaus_wine)\n",
    "print('dunn iris', dunn_gaus_iris)\n",
    "print('dunn landsat', dunn_gaus_landsat)\n",
    "print('dunn magic', dunn_gaus_magic)\n",
    "print('dunn glass', dunn_gaus_glass)"
   ]
  },
  {
   "cell_type": "code",
   "execution_count": 146,
   "metadata": {},
   "outputs": [],
   "source": [
    "dunn_sum_gaus = dunn_gaus_wine + dunn_gaus_iris + dunn_gaus_landsat + dunn_gaus_magic + dunn_gaus_glass\n",
    "dunn_sum.append(dunn_sum_gaus)"
   ]
  },
  {
   "cell_type": "markdown",
   "metadata": {},
   "source": [
    "##### Silhouette"
   ]
  },
  {
   "cell_type": "code",
   "execution_count": 106,
   "metadata": {},
   "outputs": [],
   "source": [
    "silhouette_gaus_wine = silhouette_score(X_wine, labels_gaus_wine)\n",
    "silhouette_gaus_iris = silhouette_score(X_iris, labels_gaus_iris)\n",
    "silhouette_gaus_landsat = silhouette_score(X_landsat, labels_gaus_landsat)\n",
    "silhouette_gaus_magic = silhouette_score(X_magic, labels_gaus_magic)\n",
    "silhouette_gaus_glass = silhouette_score(X_glass, labels_gaus_glass)"
   ]
  },
  {
   "cell_type": "code",
   "execution_count": 107,
   "metadata": {},
   "outputs": [
    {
     "name": "stdout",
     "output_type": "stream",
     "text": [
      "silhouette wine 0.2835806364948403\n",
      "silhouette iris 0.32019284003962406\n",
      "silhouette landsat 0.4361899401220625\n",
      "silhouette magic 0.2707547833380507\n",
      "silhouette glass 0.33656523071967764\n"
     ]
    }
   ],
   "source": [
    "print('silhouette wine', silhouette_gaus_wine)\n",
    "print('silhouette iris', silhouette_gaus_iris)\n",
    "print('silhouette landsat', silhouette_gaus_landsat)\n",
    "print('silhouette magic', silhouette_gaus_magic)\n",
    "print('silhouette glass', silhouette_gaus_glass)"
   ]
  },
  {
   "cell_type": "code",
   "execution_count": 147,
   "metadata": {},
   "outputs": [],
   "source": [
    "silhouette_sum_gaus = silhouette_gaus_wine + silhouette_gaus_iris + silhouette_gaus_landsat + silhouette_gaus_magic + silhouette_gaus_glass\n",
    "silhouette_sum.append(silhouette_sum_gaus)"
   ]
  },
  {
   "cell_type": "markdown",
   "metadata": {},
   "source": [
    "### DeD"
   ]
  },
  {
   "cell_type": "code",
   "execution_count": null,
   "metadata": {},
   "outputs": [],
   "source": []
  },
  {
   "cell_type": "markdown",
   "metadata": {},
   "source": [
    "##### David-bolduin"
   ]
  },
  {
   "cell_type": "code",
   "execution_count": null,
   "metadata": {},
   "outputs": [],
   "source": []
  },
  {
   "cell_type": "markdown",
   "metadata": {},
   "source": [
    "##### Dunn"
   ]
  },
  {
   "cell_type": "code",
   "execution_count": null,
   "metadata": {},
   "outputs": [],
   "source": []
  },
  {
   "cell_type": "markdown",
   "metadata": {},
   "source": [
    "##### Silhouette"
   ]
  },
  {
   "cell_type": "code",
   "execution_count": null,
   "metadata": {},
   "outputs": [],
   "source": []
  },
  {
   "cell_type": "markdown",
   "metadata": {},
   "source": [
    "### Elbow"
   ]
  },
  {
   "cell_type": "code",
   "execution_count": 108,
   "metadata": {},
   "outputs": [],
   "source": [
    "labels_elbow_wine = perform_kmeans_clustering(X_wine, 3)\n",
    "labels_elbow_iris = perform_kmeans_clustering(X_iris, 2)\n",
    "labels_elbow_landsat = perform_kmeans_clustering(X_landsat, 3)\n",
    "labels_elbow_magic = perform_kmeans_clustering(X_magic, 2)\n",
    "labels_elbow_glass = perform_kmeans_clustering(X_glass, 3)"
   ]
  },
  {
   "cell_type": "markdown",
   "metadata": {},
   "source": [
    "##### David-bolduin"
   ]
  },
  {
   "cell_type": "code",
   "execution_count": 109,
   "metadata": {},
   "outputs": [],
   "source": [
    "dbi_elbow_wine = davies_bouldin_score(X_wine, labels_elbow_wine)\n",
    "dbi_elbow_iris = davies_bouldin_score(X_iris, labels_elbow_iris)\n",
    "dbi_elbow_landsat = davies_bouldin_score(X_landsat, labels_elbow_landsat)\n",
    "dbi_elbow_magic = davies_bouldin_score(X_magic, labels_elbow_magic)\n",
    "dbi_elbow_glass = davies_bouldin_score(X_glass, labels_elbow_glass)"
   ]
  },
  {
   "cell_type": "code",
   "execution_count": 110,
   "metadata": {},
   "outputs": [
    {
     "name": "stdout",
     "output_type": "stream",
     "text": [
      "dbi wine 1.3938085497845032\n",
      "dbi iris 0.5135579403975417\n",
      "dbi landsat 0.8063377004758395\n",
      "dbi magic 1.4400482703184725\n",
      "dbi glass 1.3815801690199292\n"
     ]
    }
   ],
   "source": [
    "print('dbi wine', dbi_elbow_wine)\n",
    "print('dbi iris', dbi_elbow_iris)\n",
    "print('dbi landsat', dbi_elbow_landsat)\n",
    "print('dbi magic', dbi_elbow_magic)\n",
    "print('dbi glass', dbi_elbow_glass)"
   ]
  },
  {
   "cell_type": "code",
   "execution_count": 148,
   "metadata": {},
   "outputs": [],
   "source": [
    "dbi_sum_elbow = dbi_elbow_wine + dbi_elbow_iris + dbi_elbow_landsat + dbi_elbow_magic + dbi_elbow_glass\n",
    "dbi_sum.append(dbi_sum_elbow)"
   ]
  },
  {
   "cell_type": "markdown",
   "metadata": {},
   "source": [
    "##### Dunn"
   ]
  },
  {
   "cell_type": "code",
   "execution_count": 111,
   "metadata": {},
   "outputs": [],
   "source": [
    "dunn_elbow_wine = calculate_dunn(X_wine, labels_elbow_wine)\n",
    "dunn_elbow_iris = calculate_dunn(X_iris, labels_elbow_iris)\n",
    "dunn_elbow_landsat = calculate_dunn(X_landsat, labels_elbow_landsat)\n",
    "dunn_elbow_magic = calculate_dunn(X_magic, labels_elbow_magic)\n",
    "dunn_elbow_glass = calculate_dunn(X_glass, labels_elbow_glass)"
   ]
  },
  {
   "cell_type": "code",
   "execution_count": 112,
   "metadata": {},
   "outputs": [
    {
     "name": "stdout",
     "output_type": "stream",
     "text": [
      "dunn wine 0.23255059257771643\n",
      "dunn iris 0.3400472974470128\n",
      "dunn landsat 0.07868192652086056\n",
      "dunn magic 0.0089219151508982\n",
      "dunn glass 0.05842043313560459\n"
     ]
    }
   ],
   "source": [
    "print('dunn wine', dunn_elbow_wine)\n",
    "print('dunn iris', dunn_elbow_iris)\n",
    "print('dunn landsat', dunn_elbow_landsat)\n",
    "print('dunn magic', dunn_elbow_magic)\n",
    "print('dunn glass', dunn_elbow_glass)"
   ]
  },
  {
   "cell_type": "code",
   "execution_count": 149,
   "metadata": {},
   "outputs": [],
   "source": [
    "dunn_sum_elbow = dunn_elbow_wine + dunn_elbow_iris + dunn_elbow_landsat + dunn_elbow_magic + dunn_elbow_glass\n",
    "dunn_sum.append(dunn_sum_elbow)"
   ]
  },
  {
   "cell_type": "markdown",
   "metadata": {},
   "source": [
    "##### Silhouette"
   ]
  },
  {
   "cell_type": "code",
   "execution_count": 113,
   "metadata": {},
   "outputs": [],
   "source": [
    "silhouette_elbow_wine = silhouette_score(X_wine, labels_elbow_wine)\n",
    "silhouette_elbow_iris = silhouette_score(X_iris, labels_elbow_iris)\n",
    "silhouette_elbow_landsat = silhouette_score(X_landsat, labels_elbow_landsat)\n",
    "silhouette_elbow_magic = silhouette_score(X_magic, labels_elbow_magic)\n",
    "silhouette_elbow_glass = silhouette_score(X_glass, labels_elbow_glass)"
   ]
  },
  {
   "cell_type": "code",
   "execution_count": 114,
   "metadata": {},
   "outputs": [
    {
     "name": "stdout",
     "output_type": "stream",
     "text": [
      "silhouette wine 0.2835806364948403\n",
      "silhouette iris 0.6212746008079453\n",
      "silhouette landsat 0.4361899401220625\n",
      "silhouette magic 0.29398016082014095\n",
      "silhouette glass 0.37342084927508273\n"
     ]
    }
   ],
   "source": [
    "print('silhouette wine', silhouette_elbow_wine)\n",
    "print('silhouette iris', silhouette_elbow_iris)\n",
    "print('silhouette landsat', silhouette_elbow_landsat)\n",
    "print('silhouette magic', silhouette_elbow_magic)\n",
    "print('silhouette glass', silhouette_elbow_glass)"
   ]
  },
  {
   "cell_type": "code",
   "execution_count": 150,
   "metadata": {},
   "outputs": [],
   "source": [
    "silhouette_sum_elbow = silhouette_elbow_wine + silhouette_elbow_iris + silhouette_elbow_landsat + silhouette_elbow_magic + silhouette_elbow_glass\n",
    "silhouette_sum.append(silhouette_sum_elbow)"
   ]
  },
  {
   "cell_type": "markdown",
   "metadata": {},
   "source": [
    "### Silhouette"
   ]
  },
  {
   "cell_type": "code",
   "execution_count": 119,
   "metadata": {},
   "outputs": [],
   "source": [
    "labels_sil_wine = perform_kmeans_clustering(X_wine, 3)\n",
    "labels_sil_iris = perform_kmeans_clustering(X_iris, 2)\n",
    "labels_sil_landsat = perform_kmeans_clustering(X_landsat, 3)\n",
    "labels_sil_magic = perform_kmeans_clustering(X_magic, 2)\n",
    "labels_sil_glass = perform_kmeans_clustering(X_glass, 2)"
   ]
  },
  {
   "cell_type": "markdown",
   "metadata": {},
   "source": [
    "##### David-bolduin"
   ]
  },
  {
   "cell_type": "code",
   "execution_count": 120,
   "metadata": {},
   "outputs": [],
   "source": [
    "dbi_sil_wine = davies_bouldin_score(X_wine, labels_sil_wine)\n",
    "dbi_sil_iris = davies_bouldin_score(X_iris, labels_sil_iris)\n",
    "dbi_sil_landsat = davies_bouldin_score(X_landsat, labels_sil_landsat)\n",
    "dbi_sil_magic = davies_bouldin_score(X_magic, labels_sil_magic)\n",
    "dbi_sil_glass = davies_bouldin_score(X_glass, labels_sil_glass)"
   ]
  },
  {
   "cell_type": "code",
   "execution_count": 121,
   "metadata": {},
   "outputs": [
    {
     "name": "stdout",
     "output_type": "stream",
     "text": [
      "dbi wine 1.3938085497845032\n",
      "dbi iris 0.5135579403975417\n",
      "dbi landsat 0.8063377004758395\n",
      "dbi magic 1.4400482703184725\n",
      "dbi glass 1.2536470953739458\n"
     ]
    }
   ],
   "source": [
    "print('dbi wine', dbi_sil_wine)\n",
    "print('dbi iris', dbi_sil_iris)\n",
    "print('dbi landsat', dbi_sil_landsat)\n",
    "print('dbi magic', dbi_sil_magic)\n",
    "print('dbi glass', dbi_sil_glass)"
   ]
  },
  {
   "cell_type": "code",
   "execution_count": 151,
   "metadata": {},
   "outputs": [],
   "source": [
    "dbi_sum_sil = dbi_sil_wine + dbi_sil_iris + dbi_sil_landsat + dbi_sil_magic + dbi_sil_glass\n",
    "dbi_sum.append(dbi_sum_sil)"
   ]
  },
  {
   "cell_type": "markdown",
   "metadata": {},
   "source": [
    "##### Dunn"
   ]
  },
  {
   "cell_type": "code",
   "execution_count": 122,
   "metadata": {},
   "outputs": [],
   "source": [
    "dunn_sil_wine = calculate_dunn(X_wine, labels_sil_wine)\n",
    "dunn_sil_iris = calculate_dunn(X_iris, labels_sil_iris)\n",
    "dunn_sil_landsat = calculate_dunn(X_landsat, labels_sil_landsat)\n",
    "dunn_sil_magic = calculate_dunn(X_magic, labels_sil_magic)\n",
    "dunn_sil_glass = calculate_dunn(X_glass, labels_sil_glass)"
   ]
  },
  {
   "cell_type": "code",
   "execution_count": 123,
   "metadata": {},
   "outputs": [
    {
     "name": "stdout",
     "output_type": "stream",
     "text": [
      "dunn wine 0.23255059257771643\n",
      "dunn iris 0.3400472974470128\n",
      "dunn landsat 0.07868192652086056\n",
      "dunn magic 0.0089219151508982\n",
      "dunn glass 0.08567299762919413\n"
     ]
    }
   ],
   "source": [
    "print('dunn wine', dunn_sil_wine)\n",
    "print('dunn iris', dunn_sil_iris)\n",
    "print('dunn landsat', dunn_sil_landsat)\n",
    "print('dunn magic', dunn_sil_magic)\n",
    "print('dunn glass', dunn_sil_glass)"
   ]
  },
  {
   "cell_type": "code",
   "execution_count": 152,
   "metadata": {},
   "outputs": [],
   "source": [
    "dunn_sum_sil = dunn_sil_wine + dunn_sil_iris + dunn_sil_landsat + dunn_sil_magic + dunn_sil_glass\n",
    "dunn_sum.append(dunn_sum_sil)"
   ]
  },
  {
   "cell_type": "markdown",
   "metadata": {},
   "source": [
    "##### Silhouette"
   ]
  },
  {
   "cell_type": "code",
   "execution_count": 124,
   "metadata": {},
   "outputs": [],
   "source": [
    "silhouette_sil_wine = silhouette_score(X_wine, labels_sil_wine)\n",
    "silhouette_sil_iris = silhouette_score(X_iris, labels_sil_iris)\n",
    "silhouette_sil_landsat = silhouette_score(X_landsat, labels_sil_landsat)\n",
    "silhouette_sil_magic = silhouette_score(X_magic, labels_sil_magic)\n",
    "silhouette_sil_glass = silhouette_score(X_glass, labels_sil_glass)"
   ]
  },
  {
   "cell_type": "code",
   "execution_count": 125,
   "metadata": {},
   "outputs": [
    {
     "name": "stdout",
     "output_type": "stream",
     "text": [
      "silhouette wine 0.2835806364948403\n",
      "silhouette iris 0.6212746008079453\n",
      "silhouette landsat 0.4361899401220625\n",
      "silhouette magic 0.29398016082014095\n",
      "silhouette glass 0.4191005576215951\n"
     ]
    }
   ],
   "source": [
    "print('silhouette wine', silhouette_sil_wine)\n",
    "print('silhouette iris', silhouette_sil_iris)\n",
    "print('silhouette landsat', silhouette_sil_landsat)\n",
    "print('silhouette magic', silhouette_sil_magic)\n",
    "print('silhouette glass', silhouette_sil_glass)"
   ]
  },
  {
   "cell_type": "code",
   "execution_count": 153,
   "metadata": {},
   "outputs": [],
   "source": [
    "silhouette_sum_sil = silhouette_sil_wine + silhouette_sil_iris + silhouette_sil_landsat + silhouette_sil_magic + silhouette_sil_glass\n",
    "silhouette_sum.append(silhouette_sum_sil)"
   ]
  },
  {
   "cell_type": "markdown",
   "metadata": {},
   "source": [
    "# Plot indexes"
   ]
  },
  {
   "cell_type": "code",
   "execution_count": 159,
   "metadata": {},
   "outputs": [],
   "source": [
    "import matplotlib.pyplot as plt\n",
    "\n",
    "def plot_comparison(davies_bouldin_sums, methods):\n",
    "    plt.figure(figsize=(10,6))\n",
    "\n",
    "    plt.bar(methods, davies_bouldin_sums, color='blue', alpha=0.7)\n",
    "\n",
    "    plt.title(\"Davies-Bouldin\")\n",
    "    plt.xlabel('Methods')\n",
    "    plt.ylabel('Sum of davies_bouldin indexes')\n",
    "\n",
    "    plt.axhline(y=0, color='r', linestyle='--')\n",
    "    plt.text(0.97, 0.02, 'prefect value', verticalalignment='bottom', horizontalalignment='right', color='red', fontsize=15, transform=plt.gca().transAxes)\n",
    "\n",
    "    plt.show()"
   ]
  },
  {
   "cell_type": "code",
   "execution_count": 160,
   "metadata": {},
   "outputs": [
    {
     "data": {
      "image/png": "[encoded data removed]",
      "text/plain": [
       "<Figure size 1000x600 with 1 Axes>"
      ]
     },
     "metadata": {},
     "output_type": "display_data"
    }
   ],
   "source": [
    "plot_comparison(dbi_sum, ['row', 'aggl', 'gaus', 'elbow', 'sil'])"
   ]
  },
  {
   "cell_type": "code",
   "execution_count": 161,
   "metadata": {},
   "outputs": [],
   "source": [
    "import matplotlib.pyplot as plt\n",
    "\n",
    "def plot_comparison_dunn(dunn_sums, methods):\n",
    "    plt.figure(figsize=(10,6))\n",
    "\n",
    "    plt.bar(methods, dunn_sums, color='blue', alpha=0.7)\n",
    "\n",
    "    plt.title(\"Dunn\")\n",
    "    plt.xlabel('Methods')\n",
    "    plt.ylabel('Sum of Dunn idexes')\n",
    "\n",
    "    plt.axhline(y=5, color='r', linestyle='--')\n",
    "    plt.text(0.97, 1.02, 'Perfect value', verticalalignment='bottom', horizontalalignment='right', color='red', fontsize=15, transform=plt.gca().transAxes)\n",
    "\n",
    "    plt.show()"
   ]
  },
  {
   "cell_type": "code",
   "execution_count": 162,
   "metadata": {},
   "outputs": [
    {
     "data": {
      "image/png": "[encoded data removed]",
      "text/plain": [
       "<Figure size 1000x600 with 1 Axes>"
      ]
     },
     "metadata": {},
     "output_type": "display_data"
    }
   ],
   "source": [
    "plot_comparison_dunn(dunn_sum, ['row', 'aggl', 'gaus', 'elbow', 'sil'])"
   ]
  },
  {
   "cell_type": "code",
   "execution_count": 166,
   "metadata": {},
   "outputs": [],
   "source": [
    "import matplotlib.pyplot as plt\n",
    "\n",
    "def plot_comparison_silhouette(silhouette_sums, methods):\n",
    "    plt.figure(figsize=(10,6))\n",
    "\n",
    "    plt.bar(methods, silhouette_sums, color='blue', alpha=0.7)\n",
    "\n",
    "    plt.title(\"Silhouette\")\n",
    "    plt.xlabel('Methods')\n",
    "    plt.ylabel('Sum of Silhouette indexes')\n",
    "\n",
    "    plt.axhline(y=5, color='r', linestyle='--')\n",
    "    plt.text(0.97, 1.02, 'Perfect value', verticalalignment='bottom', horizontalalignment='right', color='red', fontsize=15, transform=plt.gca().transAxes)\n",
    "\n",
    "    plt.show()"
   ]
  },
  {
   "cell_type": "code",
   "execution_count": 167,
   "metadata": {},
   "outputs": [
    {
     "data": {
      "image/png": "[encoded data removed]",
      "text/plain": [
       "<Figure size 1000x600 with 1 Axes>"
      ]
     },
     "metadata": {},
     "output_type": "display_data"
    }
   ],
   "source": [
    "plot_comparison_silhouette(silhouette_sum, ['row', 'aggl', 'gaus', 'elbow', 'sil'])"
   ]
  },
  {
   "cell_type": "code",
   "execution_count": null,
   "metadata": {},
   "outputs": [],
   "source": []
  }
 ],
 "metadata": {
  "colab": {
   "provenance": []
  },
  "kernelspec": {
   "display_name": "Python 3 (ipykernel)",
   "language": "python",
   "name": "python3"
  },
  "language_info": {
   "codemirror_mode": {
    "name": "ipython",
    "version": 3
   },
   "file_extension": ".py",
   "mimetype": "text/x-python",
   "name": "python",
   "nbconvert_exporter": "python",
   "pygments_lexer": "ipython3",
   "version": "3.10.8"
  }
 },
 "nbformat": 4,
 "nbformat_minor": 1
}
